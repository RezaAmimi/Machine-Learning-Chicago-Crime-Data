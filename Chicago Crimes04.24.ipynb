{
 "cells": [
  {
   "cell_type": "code",
   "execution_count": 120,
   "metadata": {
    "executionInfo": {
     "elapsed": 1354,
     "status": "ok",
     "timestamp": 1650764621682,
     "user": {
      "displayName": "Sayli Baser",
      "userId": "16837155984769911263"
     },
     "user_tz": 300
    },
    "id": "PAxPyTSyPI5g"
   },
   "outputs": [],
   "source": [
    "# Visualization Libraries\n",
    "import matplotlib\n",
    "import matplotlib.pyplot as plt\n",
    "import seaborn as sns\n",
    "import numpy as np\n",
    "\n",
    "#Preprocessing Libraries\n",
    "import pandas as pd\n",
    "from sklearn.model_selection import train_test_split\n",
    "from sklearn.metrics import precision_score, recall_score, confusion_matrix, classification_report, accuracy_score, f1_score\n",
    "\n",
    "# ML Libraries\n",
    "from sklearn.ensemble import RandomForestClassifier,VotingClassifier\n",
    "from sklearn.neighbors import KNeighborsClassifier\n",
    "from sklearn.neural_network import MLPClassifier\n",
    "\n",
    "from sklearn import metrics\n",
    "\n",
    "from sklearn.feature_selection import SelectKBest\n",
    "from sklearn.feature_selection import f_classif\n",
    "from matplotlib import pyplot"
   ]
  },
  {
   "cell_type": "markdown",
   "metadata": {
    "id": "H58kpsasPI5k"
   },
   "source": [
    "### Reading Chicago Crime Dataset"
   ]
  },
  {
   "cell_type": "code",
   "execution_count": 121,
   "metadata": {
    "executionInfo": {
     "elapsed": 447,
     "status": "ok",
     "timestamp": 1650764627493,
     "user": {
      "displayName": "Sayli Baser",
      "userId": "16837155984769911263"
     },
     "user_tz": 300
    },
    "id": "67ctVO1mPI5m"
   },
   "outputs": [],
   "source": [
    "df = pd.read_csv(\"Chicago_Crimes_2012_to_2017.csv\")"
   ]
  },
  {
   "cell_type": "code",
   "execution_count": 122,
   "metadata": {},
   "outputs": [
    {
     "data": {
      "text/html": [
       "<div>\n",
       "<style scoped>\n",
       "    .dataframe tbody tr th:only-of-type {\n",
       "        vertical-align: middle;\n",
       "    }\n",
       "\n",
       "    .dataframe tbody tr th {\n",
       "        vertical-align: top;\n",
       "    }\n",
       "\n",
       "    .dataframe thead th {\n",
       "        text-align: right;\n",
       "    }\n",
       "</style>\n",
       "<table border=\"1\" class=\"dataframe\">\n",
       "  <thead>\n",
       "    <tr style=\"text-align: right;\">\n",
       "      <th></th>\n",
       "      <th>Unnamed: 0</th>\n",
       "      <th>ID</th>\n",
       "      <th>Case Number</th>\n",
       "      <th>Date</th>\n",
       "      <th>Block</th>\n",
       "      <th>IUCR</th>\n",
       "      <th>Primary Type</th>\n",
       "      <th>Description</th>\n",
       "      <th>Location Description</th>\n",
       "      <th>Arrest</th>\n",
       "      <th>...</th>\n",
       "      <th>Ward</th>\n",
       "      <th>Community Area</th>\n",
       "      <th>FBI Code</th>\n",
       "      <th>X Coordinate</th>\n",
       "      <th>Y Coordinate</th>\n",
       "      <th>Year</th>\n",
       "      <th>Updated On</th>\n",
       "      <th>Latitude</th>\n",
       "      <th>Longitude</th>\n",
       "      <th>Location</th>\n",
       "    </tr>\n",
       "  </thead>\n",
       "  <tbody>\n",
       "    <tr>\n",
       "      <th>0</th>\n",
       "      <td>3</td>\n",
       "      <td>10508693</td>\n",
       "      <td>HZ250496</td>\n",
       "      <td>05/03/2016 11:40:00 PM</td>\n",
       "      <td>013XX S SAWYER AVE</td>\n",
       "      <td>0486</td>\n",
       "      <td>BATTERY</td>\n",
       "      <td>DOMESTIC BATTERY SIMPLE</td>\n",
       "      <td>APARTMENT</td>\n",
       "      <td>True</td>\n",
       "      <td>...</td>\n",
       "      <td>24.0</td>\n",
       "      <td>29.0</td>\n",
       "      <td>08B</td>\n",
       "      <td>1154907.0</td>\n",
       "      <td>1893681.0</td>\n",
       "      <td>2016</td>\n",
       "      <td>05/10/2016 03:56:50 PM</td>\n",
       "      <td>41.864073</td>\n",
       "      <td>-87.706819</td>\n",
       "      <td>(41.864073157, -87.706818608)</td>\n",
       "    </tr>\n",
       "    <tr>\n",
       "      <th>1</th>\n",
       "      <td>89</td>\n",
       "      <td>10508695</td>\n",
       "      <td>HZ250409</td>\n",
       "      <td>05/03/2016 09:40:00 PM</td>\n",
       "      <td>061XX S DREXEL AVE</td>\n",
       "      <td>0486</td>\n",
       "      <td>BATTERY</td>\n",
       "      <td>DOMESTIC BATTERY SIMPLE</td>\n",
       "      <td>RESIDENCE</td>\n",
       "      <td>False</td>\n",
       "      <td>...</td>\n",
       "      <td>20.0</td>\n",
       "      <td>42.0</td>\n",
       "      <td>08B</td>\n",
       "      <td>1183066.0</td>\n",
       "      <td>1864330.0</td>\n",
       "      <td>2016</td>\n",
       "      <td>05/10/2016 03:56:50 PM</td>\n",
       "      <td>41.782922</td>\n",
       "      <td>-87.604363</td>\n",
       "      <td>(41.782921527, -87.60436317)</td>\n",
       "    </tr>\n",
       "    <tr>\n",
       "      <th>2</th>\n",
       "      <td>197</td>\n",
       "      <td>10508697</td>\n",
       "      <td>HZ250503</td>\n",
       "      <td>05/03/2016 11:31:00 PM</td>\n",
       "      <td>053XX W CHICAGO AVE</td>\n",
       "      <td>0470</td>\n",
       "      <td>PUBLIC PEACE VIOLATION</td>\n",
       "      <td>RECKLESS CONDUCT</td>\n",
       "      <td>STREET</td>\n",
       "      <td>False</td>\n",
       "      <td>...</td>\n",
       "      <td>37.0</td>\n",
       "      <td>25.0</td>\n",
       "      <td>24</td>\n",
       "      <td>1140789.0</td>\n",
       "      <td>1904819.0</td>\n",
       "      <td>2016</td>\n",
       "      <td>05/10/2016 03:56:50 PM</td>\n",
       "      <td>41.894908</td>\n",
       "      <td>-87.758372</td>\n",
       "      <td>(41.894908283, -87.758371958)</td>\n",
       "    </tr>\n",
       "    <tr>\n",
       "      <th>3</th>\n",
       "      <td>673</td>\n",
       "      <td>10508698</td>\n",
       "      <td>HZ250424</td>\n",
       "      <td>05/03/2016 10:10:00 PM</td>\n",
       "      <td>049XX W FULTON ST</td>\n",
       "      <td>0460</td>\n",
       "      <td>BATTERY</td>\n",
       "      <td>SIMPLE</td>\n",
       "      <td>SIDEWALK</td>\n",
       "      <td>False</td>\n",
       "      <td>...</td>\n",
       "      <td>28.0</td>\n",
       "      <td>25.0</td>\n",
       "      <td>08B</td>\n",
       "      <td>1143223.0</td>\n",
       "      <td>1901475.0</td>\n",
       "      <td>2016</td>\n",
       "      <td>05/10/2016 03:56:50 PM</td>\n",
       "      <td>41.885687</td>\n",
       "      <td>-87.749516</td>\n",
       "      <td>(41.885686845, -87.749515983)</td>\n",
       "    </tr>\n",
       "    <tr>\n",
       "      <th>4</th>\n",
       "      <td>911</td>\n",
       "      <td>10508699</td>\n",
       "      <td>HZ250455</td>\n",
       "      <td>05/03/2016 10:00:00 PM</td>\n",
       "      <td>003XX N LOTUS AVE</td>\n",
       "      <td>0820</td>\n",
       "      <td>THEFT</td>\n",
       "      <td>$500 AND UNDER</td>\n",
       "      <td>RESIDENCE</td>\n",
       "      <td>False</td>\n",
       "      <td>...</td>\n",
       "      <td>28.0</td>\n",
       "      <td>25.0</td>\n",
       "      <td>06</td>\n",
       "      <td>1139890.0</td>\n",
       "      <td>1901675.0</td>\n",
       "      <td>2016</td>\n",
       "      <td>05/10/2016 03:56:50 PM</td>\n",
       "      <td>41.886297</td>\n",
       "      <td>-87.761751</td>\n",
       "      <td>(41.886297242, -87.761750709)</td>\n",
       "    </tr>\n",
       "  </tbody>\n",
       "</table>\n",
       "<p>5 rows × 23 columns</p>\n",
       "</div>"
      ],
      "text/plain": [
       "   Unnamed: 0        ID Case Number                    Date  \\\n",
       "0           3  10508693    HZ250496  05/03/2016 11:40:00 PM   \n",
       "1          89  10508695    HZ250409  05/03/2016 09:40:00 PM   \n",
       "2         197  10508697    HZ250503  05/03/2016 11:31:00 PM   \n",
       "3         673  10508698    HZ250424  05/03/2016 10:10:00 PM   \n",
       "4         911  10508699    HZ250455  05/03/2016 10:00:00 PM   \n",
       "\n",
       "                 Block  IUCR            Primary Type              Description  \\\n",
       "0   013XX S SAWYER AVE  0486                 BATTERY  DOMESTIC BATTERY SIMPLE   \n",
       "1   061XX S DREXEL AVE  0486                 BATTERY  DOMESTIC BATTERY SIMPLE   \n",
       "2  053XX W CHICAGO AVE  0470  PUBLIC PEACE VIOLATION         RECKLESS CONDUCT   \n",
       "3    049XX W FULTON ST  0460                 BATTERY                   SIMPLE   \n",
       "4    003XX N LOTUS AVE  0820                   THEFT           $500 AND UNDER   \n",
       "\n",
       "  Location Description  Arrest  ...  Ward  Community Area  FBI Code  \\\n",
       "0            APARTMENT    True  ...  24.0            29.0       08B   \n",
       "1            RESIDENCE   False  ...  20.0            42.0       08B   \n",
       "2               STREET   False  ...  37.0            25.0        24   \n",
       "3             SIDEWALK   False  ...  28.0            25.0       08B   \n",
       "4            RESIDENCE   False  ...  28.0            25.0        06   \n",
       "\n",
       "   X Coordinate  Y Coordinate  Year              Updated On   Latitude  \\\n",
       "0     1154907.0     1893681.0  2016  05/10/2016 03:56:50 PM  41.864073   \n",
       "1     1183066.0     1864330.0  2016  05/10/2016 03:56:50 PM  41.782922   \n",
       "2     1140789.0     1904819.0  2016  05/10/2016 03:56:50 PM  41.894908   \n",
       "3     1143223.0     1901475.0  2016  05/10/2016 03:56:50 PM  41.885687   \n",
       "4     1139890.0     1901675.0  2016  05/10/2016 03:56:50 PM  41.886297   \n",
       "\n",
       "   Longitude                       Location  \n",
       "0 -87.706819  (41.864073157, -87.706818608)  \n",
       "1 -87.604363   (41.782921527, -87.60436317)  \n",
       "2 -87.758372  (41.894908283, -87.758371958)  \n",
       "3 -87.749516  (41.885686845, -87.749515983)  \n",
       "4 -87.761751  (41.886297242, -87.761750709)  \n",
       "\n",
       "[5 rows x 23 columns]"
      ]
     },
     "execution_count": 122,
     "metadata": {},
     "output_type": "execute_result"
    }
   ],
   "source": [
    "df.head()"
   ]
  },
  {
   "cell_type": "code",
   "execution_count": null,
   "metadata": {},
   "outputs": [],
   "source": []
  },
  {
   "cell_type": "code",
   "execution_count": 123,
   "metadata": {
    "colab": {
     "base_uri": "https://localhost:8080/"
    },
    "executionInfo": {
     "elapsed": 220,
     "status": "ok",
     "timestamp": 1650764630847,
     "user": {
      "displayName": "Sayli Baser",
      "userId": "16837155984769911263"
     },
     "user_tz": 300
    },
    "id": "dZstqXtlPI5n",
    "outputId": "26f83ddd-abbb-41ae-fdd2-6f06675def52"
   },
   "outputs": [
    {
     "name": "stdout",
     "output_type": "stream",
     "text": [
      "<class 'pandas.core.frame.DataFrame'>\n",
      "RangeIndex: 1456714 entries, 0 to 1456713\n",
      "Data columns (total 23 columns):\n",
      " #   Column                Non-Null Count    Dtype  \n",
      "---  ------                --------------    -----  \n",
      " 0   Unnamed: 0            1456714 non-null  int64  \n",
      " 1   ID                    1456714 non-null  int64  \n",
      " 2   Case Number           1456713 non-null  object \n",
      " 3   Date                  1456714 non-null  object \n",
      " 4   Block                 1456714 non-null  object \n",
      " 5   IUCR                  1456714 non-null  object \n",
      " 6   Primary Type          1456714 non-null  object \n",
      " 7   Description           1456714 non-null  object \n",
      " 8   Location Description  1455056 non-null  object \n",
      " 9   Arrest                1456714 non-null  bool   \n",
      " 10  Domestic              1456714 non-null  bool   \n",
      " 11  Beat                  1456714 non-null  int64  \n",
      " 12  District              1456713 non-null  float64\n",
      " 13  Ward                  1456700 non-null  float64\n",
      " 14  Community Area        1456674 non-null  float64\n",
      " 15  FBI Code              1456714 non-null  object \n",
      " 16  X Coordinate          1419631 non-null  float64\n",
      " 17  Y Coordinate          1419631 non-null  float64\n",
      " 18  Year                  1456714 non-null  int64  \n",
      " 19  Updated On            1456714 non-null  object \n",
      " 20  Latitude              1419631 non-null  float64\n",
      " 21  Longitude             1419631 non-null  float64\n",
      " 22  Location              1419631 non-null  object \n",
      "dtypes: bool(2), float64(7), int64(4), object(10)\n",
      "memory usage: 236.2+ MB\n"
     ]
    }
   ],
   "source": [
    "df.info()"
   ]
  },
  {
   "cell_type": "markdown",
   "metadata": {
    "id": "s3miDXXTPI5p"
   },
   "source": [
    "### Data Preprocessing"
   ]
  },
  {
   "cell_type": "code",
   "execution_count": 124,
   "metadata": {
    "executionInfo": {
     "elapsed": 216,
     "status": "ok",
     "timestamp": 1650764635992,
     "user": {
      "displayName": "Sayli Baser",
      "userId": "16837155984769911263"
     },
     "user_tz": 300
    },
    "id": "AlosdVPjPI5q"
   },
   "outputs": [],
   "source": [
    "# Remove NaN Value (As Dataset is huge, the NaN rows can be neglected)  \n",
    "df = df.dropna()"
   ]
  },
  {
   "cell_type": "code",
   "execution_count": 125,
   "metadata": {
    "colab": {
     "base_uri": "https://localhost:8080/"
    },
    "executionInfo": {
     "elapsed": 312,
     "status": "ok",
     "timestamp": 1650765215932,
     "user": {
      "displayName": "Sayli Baser",
      "userId": "16837155984769911263"
     },
     "user_tz": 300
    },
    "id": "6UXvkTBYRb0N",
    "outputId": "77e626ff-6094-4566-8c1b-0c8054971c1d"
   },
   "outputs": [
    {
     "data": {
      "text/plain": [
       "(1418365, 23)"
      ]
     },
     "execution_count": 125,
     "metadata": {},
     "output_type": "execute_result"
    }
   ],
   "source": [
    "df.shape"
   ]
  },
  {
   "cell_type": "code",
   "execution_count": 126,
   "metadata": {
    "colab": {
     "base_uri": "https://localhost:8080/",
     "height": 338
    },
    "executionInfo": {
     "elapsed": 238,
     "status": "error",
     "timestamp": 1650764952949,
     "user": {
      "displayName": "Sayli Baser",
      "userId": "16837155984769911263"
     },
     "user_tz": 300
    },
    "id": "qgHePUH8PI5r",
    "outputId": "b54986e8-26b4-4289-d1c4-810af7545eb0"
   },
   "outputs": [],
   "source": [
    "# As the dataset is too large, we have subsampled it for modelling as proof of concept\n",
    "df = df.sample(n=350000, random_state=10)\n"
   ]
  },
  {
   "cell_type": "code",
   "execution_count": 127,
   "metadata": {
    "colab": {
     "base_uri": "https://localhost:8080/"
    },
    "executionInfo": {
     "elapsed": 218,
     "status": "ok",
     "timestamp": 1650764659137,
     "user": {
      "displayName": "Sayli Baser",
      "userId": "16837155984769911263"
     },
     "user_tz": 300
    },
    "id": "dWil0IPTPI5t",
    "outputId": "06069f9a-5ce1-435a-eb5d-96beeb8a6476"
   },
   "outputs": [
    {
     "name": "stdout",
     "output_type": "stream",
     "text": [
      "<class 'pandas.core.frame.DataFrame'>\n",
      "Int64Index: 350000 entries, 1260040 to 115332\n",
      "Data columns (total 20 columns):\n",
      " #   Column                Non-Null Count   Dtype  \n",
      "---  ------                --------------   -----  \n",
      " 0   Date                  350000 non-null  object \n",
      " 1   Block                 350000 non-null  object \n",
      " 2   IUCR                  350000 non-null  object \n",
      " 3   Primary Type          350000 non-null  object \n",
      " 4   Description           350000 non-null  object \n",
      " 5   Location Description  350000 non-null  object \n",
      " 6   Arrest                350000 non-null  bool   \n",
      " 7   Domestic              350000 non-null  bool   \n",
      " 8   Beat                  350000 non-null  int64  \n",
      " 9   District              350000 non-null  float64\n",
      " 10  Ward                  350000 non-null  float64\n",
      " 11  Community Area        350000 non-null  float64\n",
      " 12  FBI Code              350000 non-null  object \n",
      " 13  X Coordinate          350000 non-null  float64\n",
      " 14  Y Coordinate          350000 non-null  float64\n",
      " 15  Year                  350000 non-null  int64  \n",
      " 16  Updated On            350000 non-null  object \n",
      " 17  Latitude              350000 non-null  float64\n",
      " 18  Longitude             350000 non-null  float64\n",
      " 19  Location              350000 non-null  object \n",
      "dtypes: bool(2), float64(7), int64(2), object(9)\n",
      "memory usage: 51.4+ MB\n"
     ]
    }
   ],
   "source": [
    "# Remove irrelevant/not meaningfull attributes\n",
    "df = df.drop(['Unnamed: 0'], axis=1)\n",
    "df = df.drop(['ID'], axis=1)\n",
    "df = df.drop(['Case Number'], axis=1) \n",
    "\n",
    "df.info()"
   ]
  },
  {
   "cell_type": "code",
   "execution_count": 128,
   "metadata": {
    "colab": {
     "base_uri": "https://localhost:8080/",
     "height": 490
    },
    "executionInfo": {
     "elapsed": 3585,
     "status": "ok",
     "timestamp": 1650764990500,
     "user": {
      "displayName": "Sayli Baser",
      "userId": "16837155984769911263"
     },
     "user_tz": 300
    },
    "id": "Rz_WyntSPI5u",
    "outputId": "5b55d493-4662-44c1-deb0-eb5928d35890"
   },
   "outputs": [
    {
     "data": {
      "text/html": [
       "<div>\n",
       "<style scoped>\n",
       "    .dataframe tbody tr th:only-of-type {\n",
       "        vertical-align: middle;\n",
       "    }\n",
       "\n",
       "    .dataframe tbody tr th {\n",
       "        vertical-align: top;\n",
       "    }\n",
       "\n",
       "    .dataframe thead th {\n",
       "        text-align: right;\n",
       "    }\n",
       "</style>\n",
       "<table border=\"1\" class=\"dataframe\">\n",
       "  <thead>\n",
       "    <tr style=\"text-align: right;\">\n",
       "      <th></th>\n",
       "      <th>Block</th>\n",
       "      <th>IUCR</th>\n",
       "      <th>Primary Type</th>\n",
       "      <th>Description</th>\n",
       "      <th>Location Description</th>\n",
       "      <th>Arrest</th>\n",
       "      <th>Domestic</th>\n",
       "      <th>Beat</th>\n",
       "      <th>District</th>\n",
       "      <th>Ward</th>\n",
       "      <th>...</th>\n",
       "      <th>Y Coordinate</th>\n",
       "      <th>Year</th>\n",
       "      <th>Latitude</th>\n",
       "      <th>Longitude</th>\n",
       "      <th>Location</th>\n",
       "      <th>Month</th>\n",
       "      <th>Day</th>\n",
       "      <th>Hour</th>\n",
       "      <th>Minute</th>\n",
       "      <th>Second</th>\n",
       "    </tr>\n",
       "  </thead>\n",
       "  <tbody>\n",
       "    <tr>\n",
       "      <th>1260040</th>\n",
       "      <td>004XX S CLINTON ST</td>\n",
       "      <td>0820</td>\n",
       "      <td>THEFT</td>\n",
       "      <td>$500 AND UNDER</td>\n",
       "      <td>STREET</td>\n",
       "      <td>False</td>\n",
       "      <td>False</td>\n",
       "      <td>121</td>\n",
       "      <td>1.0</td>\n",
       "      <td>2.0</td>\n",
       "      <td>...</td>\n",
       "      <td>1898242.0</td>\n",
       "      <td>2016</td>\n",
       "      <td>41.876212</td>\n",
       "      <td>-87.641007</td>\n",
       "      <td>(41.8762118, -87.641006667)</td>\n",
       "      <td>4</td>\n",
       "      <td>6</td>\n",
       "      <td>19</td>\n",
       "      <td>0</td>\n",
       "      <td>0</td>\n",
       "    </tr>\n",
       "    <tr>\n",
       "      <th>1203295</th>\n",
       "      <td>006XX N RUSH ST</td>\n",
       "      <td>1330</td>\n",
       "      <td>CRIMINAL TRESPASS</td>\n",
       "      <td>TO LAND</td>\n",
       "      <td>COMMERCIAL / BUSINESS OFFICE</td>\n",
       "      <td>False</td>\n",
       "      <td>False</td>\n",
       "      <td>1834</td>\n",
       "      <td>18.0</td>\n",
       "      <td>42.0</td>\n",
       "      <td>...</td>\n",
       "      <td>1904895.0</td>\n",
       "      <td>2016</td>\n",
       "      <td>41.894374</td>\n",
       "      <td>-87.625439</td>\n",
       "      <td>(41.894374327, -87.625439441)</td>\n",
       "      <td>1</td>\n",
       "      <td>9</td>\n",
       "      <td>4</td>\n",
       "      <td>30</td>\n",
       "      <td>0</td>\n",
       "    </tr>\n",
       "    <tr>\n",
       "      <th>575603</th>\n",
       "      <td>021XX W 19TH ST</td>\n",
       "      <td>0560</td>\n",
       "      <td>ASSAULT</td>\n",
       "      <td>SIMPLE</td>\n",
       "      <td>OTHER</td>\n",
       "      <td>False</td>\n",
       "      <td>False</td>\n",
       "      <td>1234</td>\n",
       "      <td>12.0</td>\n",
       "      <td>25.0</td>\n",
       "      <td>...</td>\n",
       "      <td>1890719.0</td>\n",
       "      <td>2013</td>\n",
       "      <td>41.855794</td>\n",
       "      <td>-87.679711</td>\n",
       "      <td>(41.855793593, -87.679710534)</td>\n",
       "      <td>7</td>\n",
       "      <td>19</td>\n",
       "      <td>8</td>\n",
       "      <td>20</td>\n",
       "      <td>0</td>\n",
       "    </tr>\n",
       "    <tr>\n",
       "      <th>950048</th>\n",
       "      <td>080XX S WABASH AVE</td>\n",
       "      <td>0610</td>\n",
       "      <td>BURGLARY</td>\n",
       "      <td>FORCIBLE ENTRY</td>\n",
       "      <td>RESIDENCE</td>\n",
       "      <td>False</td>\n",
       "      <td>False</td>\n",
       "      <td>623</td>\n",
       "      <td>6.0</td>\n",
       "      <td>6.0</td>\n",
       "      <td>...</td>\n",
       "      <td>1851748.0</td>\n",
       "      <td>2014</td>\n",
       "      <td>41.748509</td>\n",
       "      <td>-87.622933</td>\n",
       "      <td>(41.748509119, -87.62293258)</td>\n",
       "      <td>11</td>\n",
       "      <td>13</td>\n",
       "      <td>14</td>\n",
       "      <td>40</td>\n",
       "      <td>0</td>\n",
       "    </tr>\n",
       "    <tr>\n",
       "      <th>1268578</th>\n",
       "      <td>045XX N SHERIDAN RD</td>\n",
       "      <td>1310</td>\n",
       "      <td>CRIMINAL DAMAGE</td>\n",
       "      <td>TO PROPERTY</td>\n",
       "      <td>APARTMENT</td>\n",
       "      <td>False</td>\n",
       "      <td>True</td>\n",
       "      <td>1914</td>\n",
       "      <td>19.0</td>\n",
       "      <td>46.0</td>\n",
       "      <td>...</td>\n",
       "      <td>1930493.0</td>\n",
       "      <td>2016</td>\n",
       "      <td>41.964798</td>\n",
       "      <td>-87.654782</td>\n",
       "      <td>(41.964798032, -87.65478194)</td>\n",
       "      <td>2</td>\n",
       "      <td>14</td>\n",
       "      <td>10</td>\n",
       "      <td>30</td>\n",
       "      <td>0</td>\n",
       "    </tr>\n",
       "  </tbody>\n",
       "</table>\n",
       "<p>5 rows × 23 columns</p>\n",
       "</div>"
      ],
      "text/plain": [
       "                       Block  IUCR       Primary Type     Description  \\\n",
       "1260040   004XX S CLINTON ST  0820              THEFT  $500 AND UNDER   \n",
       "1203295      006XX N RUSH ST  1330  CRIMINAL TRESPASS         TO LAND   \n",
       "575603       021XX W 19TH ST  0560            ASSAULT          SIMPLE   \n",
       "950048    080XX S WABASH AVE  0610           BURGLARY  FORCIBLE ENTRY   \n",
       "1268578  045XX N SHERIDAN RD  1310    CRIMINAL DAMAGE     TO PROPERTY   \n",
       "\n",
       "                 Location Description  Arrest  Domestic  Beat  District  Ward  \\\n",
       "1260040                        STREET   False     False   121       1.0   2.0   \n",
       "1203295  COMMERCIAL / BUSINESS OFFICE   False     False  1834      18.0  42.0   \n",
       "575603                          OTHER   False     False  1234      12.0  25.0   \n",
       "950048                      RESIDENCE   False     False   623       6.0   6.0   \n",
       "1268578                     APARTMENT   False      True  1914      19.0  46.0   \n",
       "\n",
       "         ...  Y Coordinate  Year   Latitude  Longitude  \\\n",
       "1260040  ...     1898242.0  2016  41.876212 -87.641007   \n",
       "1203295  ...     1904895.0  2016  41.894374 -87.625439   \n",
       "575603   ...     1890719.0  2013  41.855794 -87.679711   \n",
       "950048   ...     1851748.0  2014  41.748509 -87.622933   \n",
       "1268578  ...     1930493.0  2016  41.964798 -87.654782   \n",
       "\n",
       "                              Location  Month  Day Hour  Minute  Second  \n",
       "1260040    (41.8762118, -87.641006667)      4    6   19       0       0  \n",
       "1203295  (41.894374327, -87.625439441)      1    9    4      30       0  \n",
       "575603   (41.855793593, -87.679710534)      7   19    8      20       0  \n",
       "950048    (41.748509119, -87.62293258)     11   13   14      40       0  \n",
       "1268578   (41.964798032, -87.65478194)      2   14   10      30       0  \n",
       "\n",
       "[5 rows x 23 columns]"
      ]
     },
     "execution_count": 128,
     "metadata": {},
     "output_type": "execute_result"
    }
   ],
   "source": [
    "# Splitting the Date to Day, Month, Year, Hour, Minute, Second\n",
    "df['date2'] = pd.to_datetime(df['Date'])\n",
    "df['Year'] = df['date2'].dt.year\n",
    "df['Month'] = df['date2'].dt.month\n",
    "df['Day'] = df['date2'].dt.day\n",
    "df['Hour'] = df['date2'].dt.hour\n",
    "df['Minute'] = df['date2'].dt.minute\n",
    "df['Second'] = df['date2'].dt.second \n",
    "df = df.drop(['Date'], axis=1) \n",
    "df = df.drop(['date2'], axis=1) \n",
    "df = df.drop(['Updated On'], axis=1)\n",
    "df.head()"
   ]
  },
  {
   "cell_type": "code",
   "execution_count": 129,
   "metadata": {
    "executionInfo": {
     "elapsed": 363,
     "status": "ok",
     "timestamp": 1650764995768,
     "user": {
      "displayName": "Sayli Baser",
      "userId": "16837155984769911263"
     },
     "user_tz": 300
    },
    "id": "4aijJE_OPI5w"
   },
   "outputs": [],
   "source": [
    "#Block\n",
    "# Convert Categorical Attributes to Numerical\n",
    "BlockSeries = df['Block']\n",
    "df['Block'] = pd.factorize(df[\"Block\"])[0]\n",
    "df['IUCR'] = pd.factorize(df[\"IUCR\"])[0]\n",
    "df['Description'] = pd.factorize(df[\"Description\"])[0]\n",
    "df['Location Description'] = pd.factorize(df[\"Location Description\"])[0]\n",
    "df['FBI Code'] = pd.factorize(df[\"FBI Code\"])[0]\n",
    "df['Location'] = pd.factorize(df[\"Location\"])[0] "
   ]
  },
  {
   "cell_type": "code",
   "execution_count": 78,
   "metadata": {
    "id": "PstTLG9MPI5x",
    "outputId": "fc64fcd1-13cf-4717-ef4f-9f9ef3ab88d7"
   },
   "outputs": [
    {
     "data": {
      "text/html": [
       "<div>\n",
       "<style scoped>\n",
       "    .dataframe tbody tr th:only-of-type {\n",
       "        vertical-align: middle;\n",
       "    }\n",
       "\n",
       "    .dataframe tbody tr th {\n",
       "        vertical-align: top;\n",
       "    }\n",
       "\n",
       "    .dataframe thead th {\n",
       "        text-align: right;\n",
       "    }\n",
       "</style>\n",
       "<table border=\"1\" class=\"dataframe\">\n",
       "  <thead>\n",
       "    <tr style=\"text-align: right;\">\n",
       "      <th></th>\n",
       "      <th>Block</th>\n",
       "      <th>IUCR</th>\n",
       "      <th>Primary Type</th>\n",
       "      <th>Description</th>\n",
       "      <th>Location Description</th>\n",
       "      <th>Arrest</th>\n",
       "      <th>Domestic</th>\n",
       "      <th>Beat</th>\n",
       "      <th>District</th>\n",
       "      <th>Ward</th>\n",
       "      <th>...</th>\n",
       "      <th>Y Coordinate</th>\n",
       "      <th>Year</th>\n",
       "      <th>Latitude</th>\n",
       "      <th>Longitude</th>\n",
       "      <th>Location</th>\n",
       "      <th>Month</th>\n",
       "      <th>Day</th>\n",
       "      <th>Hour</th>\n",
       "      <th>Minute</th>\n",
       "      <th>Second</th>\n",
       "    </tr>\n",
       "  </thead>\n",
       "  <tbody>\n",
       "    <tr>\n",
       "      <th>1260040</th>\n",
       "      <td>0</td>\n",
       "      <td>0</td>\n",
       "      <td>THEFT</td>\n",
       "      <td>0</td>\n",
       "      <td>0</td>\n",
       "      <td>False</td>\n",
       "      <td>False</td>\n",
       "      <td>121</td>\n",
       "      <td>1.0</td>\n",
       "      <td>2.0</td>\n",
       "      <td>...</td>\n",
       "      <td>1898242.0</td>\n",
       "      <td>2016</td>\n",
       "      <td>41.876212</td>\n",
       "      <td>-87.641007</td>\n",
       "      <td>0</td>\n",
       "      <td>4</td>\n",
       "      <td>6</td>\n",
       "      <td>19</td>\n",
       "      <td>0</td>\n",
       "      <td>0</td>\n",
       "    </tr>\n",
       "    <tr>\n",
       "      <th>1203295</th>\n",
       "      <td>1</td>\n",
       "      <td>1</td>\n",
       "      <td>CRIMINAL TRESPASS</td>\n",
       "      <td>1</td>\n",
       "      <td>1</td>\n",
       "      <td>False</td>\n",
       "      <td>False</td>\n",
       "      <td>1834</td>\n",
       "      <td>18.0</td>\n",
       "      <td>42.0</td>\n",
       "      <td>...</td>\n",
       "      <td>1904895.0</td>\n",
       "      <td>2016</td>\n",
       "      <td>41.894374</td>\n",
       "      <td>-87.625439</td>\n",
       "      <td>1</td>\n",
       "      <td>1</td>\n",
       "      <td>9</td>\n",
       "      <td>4</td>\n",
       "      <td>30</td>\n",
       "      <td>0</td>\n",
       "    </tr>\n",
       "    <tr>\n",
       "      <th>575603</th>\n",
       "      <td>2</td>\n",
       "      <td>2</td>\n",
       "      <td>ASSAULT</td>\n",
       "      <td>2</td>\n",
       "      <td>2</td>\n",
       "      <td>False</td>\n",
       "      <td>False</td>\n",
       "      <td>1234</td>\n",
       "      <td>12.0</td>\n",
       "      <td>25.0</td>\n",
       "      <td>...</td>\n",
       "      <td>1890719.0</td>\n",
       "      <td>2013</td>\n",
       "      <td>41.855794</td>\n",
       "      <td>-87.679711</td>\n",
       "      <td>2</td>\n",
       "      <td>7</td>\n",
       "      <td>19</td>\n",
       "      <td>8</td>\n",
       "      <td>20</td>\n",
       "      <td>0</td>\n",
       "    </tr>\n",
       "    <tr>\n",
       "      <th>950048</th>\n",
       "      <td>3</td>\n",
       "      <td>3</td>\n",
       "      <td>BURGLARY</td>\n",
       "      <td>3</td>\n",
       "      <td>3</td>\n",
       "      <td>False</td>\n",
       "      <td>False</td>\n",
       "      <td>623</td>\n",
       "      <td>6.0</td>\n",
       "      <td>6.0</td>\n",
       "      <td>...</td>\n",
       "      <td>1851748.0</td>\n",
       "      <td>2014</td>\n",
       "      <td>41.748509</td>\n",
       "      <td>-87.622933</td>\n",
       "      <td>3</td>\n",
       "      <td>11</td>\n",
       "      <td>13</td>\n",
       "      <td>14</td>\n",
       "      <td>40</td>\n",
       "      <td>0</td>\n",
       "    </tr>\n",
       "    <tr>\n",
       "      <th>1268578</th>\n",
       "      <td>4</td>\n",
       "      <td>4</td>\n",
       "      <td>CRIMINAL DAMAGE</td>\n",
       "      <td>4</td>\n",
       "      <td>4</td>\n",
       "      <td>False</td>\n",
       "      <td>True</td>\n",
       "      <td>1914</td>\n",
       "      <td>19.0</td>\n",
       "      <td>46.0</td>\n",
       "      <td>...</td>\n",
       "      <td>1930493.0</td>\n",
       "      <td>2016</td>\n",
       "      <td>41.964798</td>\n",
       "      <td>-87.654782</td>\n",
       "      <td>4</td>\n",
       "      <td>2</td>\n",
       "      <td>14</td>\n",
       "      <td>10</td>\n",
       "      <td>30</td>\n",
       "      <td>0</td>\n",
       "    </tr>\n",
       "    <tr>\n",
       "      <th>...</th>\n",
       "      <td>...</td>\n",
       "      <td>...</td>\n",
       "      <td>...</td>\n",
       "      <td>...</td>\n",
       "      <td>...</td>\n",
       "      <td>...</td>\n",
       "      <td>...</td>\n",
       "      <td>...</td>\n",
       "      <td>...</td>\n",
       "      <td>...</td>\n",
       "      <td>...</td>\n",
       "      <td>...</td>\n",
       "      <td>...</td>\n",
       "      <td>...</td>\n",
       "      <td>...</td>\n",
       "      <td>...</td>\n",
       "      <td>...</td>\n",
       "      <td>...</td>\n",
       "      <td>...</td>\n",
       "      <td>...</td>\n",
       "      <td>...</td>\n",
       "    </tr>\n",
       "    <tr>\n",
       "      <th>1240500</th>\n",
       "      <td>15669</td>\n",
       "      <td>47</td>\n",
       "      <td>WEAPONS VIOLATION</td>\n",
       "      <td>44</td>\n",
       "      <td>0</td>\n",
       "      <td>True</td>\n",
       "      <td>False</td>\n",
       "      <td>634</td>\n",
       "      <td>6.0</td>\n",
       "      <td>21.0</td>\n",
       "      <td>...</td>\n",
       "      <td>1843143.0</td>\n",
       "      <td>2016</td>\n",
       "      <td>41.724908</td>\n",
       "      <td>-87.625145</td>\n",
       "      <td>133712</td>\n",
       "      <td>4</td>\n",
       "      <td>19</td>\n",
       "      <td>11</td>\n",
       "      <td>59</td>\n",
       "      <td>0</td>\n",
       "    </tr>\n",
       "    <tr>\n",
       "      <th>535052</th>\n",
       "      <td>4608</td>\n",
       "      <td>26</td>\n",
       "      <td>MOTOR VEHICLE THEFT</td>\n",
       "      <td>25</td>\n",
       "      <td>0</td>\n",
       "      <td>False</td>\n",
       "      <td>False</td>\n",
       "      <td>1132</td>\n",
       "      <td>11.0</td>\n",
       "      <td>24.0</td>\n",
       "      <td>...</td>\n",
       "      <td>1895744.0</td>\n",
       "      <td>2013</td>\n",
       "      <td>41.869826</td>\n",
       "      <td>-87.723890</td>\n",
       "      <td>170333</td>\n",
       "      <td>6</td>\n",
       "      <td>4</td>\n",
       "      <td>17</td>\n",
       "      <td>30</td>\n",
       "      <td>0</td>\n",
       "    </tr>\n",
       "    <tr>\n",
       "      <th>1181866</th>\n",
       "      <td>8187</td>\n",
       "      <td>9</td>\n",
       "      <td>THEFT</td>\n",
       "      <td>9</td>\n",
       "      <td>26</td>\n",
       "      <td>False</td>\n",
       "      <td>False</td>\n",
       "      <td>2232</td>\n",
       "      <td>22.0</td>\n",
       "      <td>34.0</td>\n",
       "      <td>...</td>\n",
       "      <td>1836553.0</td>\n",
       "      <td>2015</td>\n",
       "      <td>41.706926</td>\n",
       "      <td>-87.642046</td>\n",
       "      <td>11116</td>\n",
       "      <td>12</td>\n",
       "      <td>12</td>\n",
       "      <td>9</td>\n",
       "      <td>28</td>\n",
       "      <td>0</td>\n",
       "    </tr>\n",
       "    <tr>\n",
       "      <th>189404</th>\n",
       "      <td>7899</td>\n",
       "      <td>36</td>\n",
       "      <td>THEFT</td>\n",
       "      <td>34</td>\n",
       "      <td>0</td>\n",
       "      <td>False</td>\n",
       "      <td>False</td>\n",
       "      <td>1114</td>\n",
       "      <td>11.0</td>\n",
       "      <td>28.0</td>\n",
       "      <td>...</td>\n",
       "      <td>1901150.0</td>\n",
       "      <td>2012</td>\n",
       "      <td>41.884674</td>\n",
       "      <td>-87.726099</td>\n",
       "      <td>120809</td>\n",
       "      <td>5</td>\n",
       "      <td>11</td>\n",
       "      <td>11</td>\n",
       "      <td>30</td>\n",
       "      <td>0</td>\n",
       "    </tr>\n",
       "    <tr>\n",
       "      <th>115332</th>\n",
       "      <td>19189</td>\n",
       "      <td>26</td>\n",
       "      <td>MOTOR VEHICLE THEFT</td>\n",
       "      <td>25</td>\n",
       "      <td>0</td>\n",
       "      <td>False</td>\n",
       "      <td>False</td>\n",
       "      <td>2523</td>\n",
       "      <td>25.0</td>\n",
       "      <td>30.0</td>\n",
       "      <td>...</td>\n",
       "      <td>1919278.0</td>\n",
       "      <td>2012</td>\n",
       "      <td>41.934413</td>\n",
       "      <td>-87.724606</td>\n",
       "      <td>170334</td>\n",
       "      <td>2</td>\n",
       "      <td>4</td>\n",
       "      <td>12</td>\n",
       "      <td>0</td>\n",
       "      <td>0</td>\n",
       "    </tr>\n",
       "  </tbody>\n",
       "</table>\n",
       "<p>350000 rows × 23 columns</p>\n",
       "</div>"
      ],
      "text/plain": [
       "         Block  IUCR         Primary Type  Description  Location Description  \\\n",
       "1260040      0     0                THEFT            0                     0   \n",
       "1203295      1     1    CRIMINAL TRESPASS            1                     1   \n",
       "575603       2     2              ASSAULT            2                     2   \n",
       "950048       3     3             BURGLARY            3                     3   \n",
       "1268578      4     4      CRIMINAL DAMAGE            4                     4   \n",
       "...        ...   ...                  ...          ...                   ...   \n",
       "1240500  15669    47    WEAPONS VIOLATION           44                     0   \n",
       "535052    4608    26  MOTOR VEHICLE THEFT           25                     0   \n",
       "1181866   8187     9                THEFT            9                    26   \n",
       "189404    7899    36                THEFT           34                     0   \n",
       "115332   19189    26  MOTOR VEHICLE THEFT           25                     0   \n",
       "\n",
       "         Arrest  Domestic  Beat  District  Ward  ...  Y Coordinate  Year  \\\n",
       "1260040   False     False   121       1.0   2.0  ...     1898242.0  2016   \n",
       "1203295   False     False  1834      18.0  42.0  ...     1904895.0  2016   \n",
       "575603    False     False  1234      12.0  25.0  ...     1890719.0  2013   \n",
       "950048    False     False   623       6.0   6.0  ...     1851748.0  2014   \n",
       "1268578   False      True  1914      19.0  46.0  ...     1930493.0  2016   \n",
       "...         ...       ...   ...       ...   ...  ...           ...   ...   \n",
       "1240500    True     False   634       6.0  21.0  ...     1843143.0  2016   \n",
       "535052    False     False  1132      11.0  24.0  ...     1895744.0  2013   \n",
       "1181866   False     False  2232      22.0  34.0  ...     1836553.0  2015   \n",
       "189404    False     False  1114      11.0  28.0  ...     1901150.0  2012   \n",
       "115332    False     False  2523      25.0  30.0  ...     1919278.0  2012   \n",
       "\n",
       "          Latitude  Longitude  Location  Month  Day  Hour  Minute  Second  \n",
       "1260040  41.876212 -87.641007         0      4    6    19       0       0  \n",
       "1203295  41.894374 -87.625439         1      1    9     4      30       0  \n",
       "575603   41.855794 -87.679711         2      7   19     8      20       0  \n",
       "950048   41.748509 -87.622933         3     11   13    14      40       0  \n",
       "1268578  41.964798 -87.654782         4      2   14    10      30       0  \n",
       "...            ...        ...       ...    ...  ...   ...     ...     ...  \n",
       "1240500  41.724908 -87.625145    133712      4   19    11      59       0  \n",
       "535052   41.869826 -87.723890    170333      6    4    17      30       0  \n",
       "1181866  41.706926 -87.642046     11116     12   12     9      28       0  \n",
       "189404   41.884674 -87.726099    120809      5   11    11      30       0  \n",
       "115332   41.934413 -87.724606    170334      2    4    12       0       0  \n",
       "\n",
       "[350000 rows x 23 columns]"
      ]
     },
     "execution_count": 78,
     "metadata": {},
     "output_type": "execute_result"
    }
   ],
   "source": [
    "df"
   ]
  },
  {
   "cell_type": "code",
   "execution_count": 130,
   "metadata": {},
   "outputs": [
    {
     "data": {
      "text/plain": [
       "1260040         004XX S CLINTON ST\n",
       "1203295            006XX N RUSH ST\n",
       "575603             021XX W 19TH ST\n",
       "950048          080XX S WABASH AVE\n",
       "1268578        045XX N SHERIDAN RD\n",
       "                    ...           \n",
       "1240500      093XX S LAFAYETTE AVE\n",
       "535052       039XX W ARTHINGTON ST\n",
       "1181866           007XX W 103RD ST\n",
       "189404         040XX W MAYPOLE AVE\n",
       "115332     029XX N SPRINGFIELD AVE\n",
       "Name: Block, Length: 350000, dtype: object"
      ]
     },
     "execution_count": 130,
     "metadata": {},
     "output_type": "execute_result"
    }
   ],
   "source": [
    "BlockSeries"
   ]
  },
  {
   "cell_type": "markdown",
   "metadata": {
    "id": "6QZ_Yg5hPI5y"
   },
   "source": [
    "## Feature Selection: \n",
    "##### Looking for correlation between features"
   ]
  },
  {
   "cell_type": "code",
   "execution_count": 79,
   "metadata": {
    "colab": {
     "base_uri": "https://localhost:8080/",
     "height": 379
    },
    "executionInfo": {
     "elapsed": 917,
     "status": "ok",
     "timestamp": 1650765001098,
     "user": {
      "displayName": "Sayli Baser",
      "userId": "16837155984769911263"
     },
     "user_tz": 300
    },
    "id": "Rny1gW_XPI5z",
    "outputId": "48cb3bd3-c86a-48b1-cf5a-578bd5f00966"
   },
   "outputs": [
    {
     "data": {
      "text/plain": [
       "<AxesSubplot:>"
      ]
     },
     "execution_count": 79,
     "metadata": {},
     "output_type": "execute_result"
    },
    {
     "data": {
      "image/png": "[encoded data removed]",
      "text/plain": [
       "<Figure size 432x288 with 2 Axes>"
      ]
     },
     "metadata": {
      "needs_background": "light"
     },
     "output_type": "display_data"
    }
   ],
   "source": [
    "corr=df.corr()\n",
    "sns.heatmap(corr,  xticklabels=True, yticklabels=True)\n"
   ]
  },
  {
   "cell_type": "code",
   "execution_count": 80,
   "metadata": {
    "id": "-fgUbljCPI50"
   },
   "outputs": [],
   "source": [
    "#We see that there is high correlation between Longitude & x-coordinate and Latitude & x-coordinate"
   ]
  },
  {
   "cell_type": "markdown",
   "metadata": {
    "id": "X9KphJerPI50"
   },
   "source": [
    "## Exploratory Data Analysis"
   ]
  },
  {
   "cell_type": "markdown",
   "metadata": {
    "id": "r6t3v6gsPI51"
   },
   "source": [
    "#### Visualizing number of crimes reported per year"
   ]
  },
  {
   "cell_type": "code",
   "execution_count": 81,
   "metadata": {
    "colab": {
     "base_uri": "https://localhost:8080/"
    },
    "executionInfo": {
     "elapsed": 229,
     "status": "ok",
     "timestamp": 1650765082538,
     "user": {
      "displayName": "Sayli Baser",
      "userId": "16837155984769911263"
     },
     "user_tz": 300
    },
    "id": "RLYAzSaPPI51",
    "outputId": "ce337393-c5f2-4367-91aa-61a1c070254b"
   },
   "outputs": [
    {
     "name": "stdout",
     "output_type": "stream",
     "text": [
      "2012\n",
      "82602\n"
     ]
    }
   ],
   "source": [
    "total_crimes_in_every_year = df.groupby('Year')['Primary Type'].count()\n",
    "total_crimes_in_every_year = total_crimes_in_every_year.to_frame()\n",
    "total_crimes_in_every_year.rename(columns = {\"Primary Type\": \"Total Crimes\"}, inplace = True) \n",
    "total_crimes_in_every_year.reset_index(inplace = True)\n",
    "n = total_crimes_in_every_year['Total Crimes'].idxmax()\n",
    "year = total_crimes_in_every_year.iloc[n][0]\n",
    "number_of_crimes = total_crimes_in_every_year.iloc[n][1]\n",
    "print(year)\n",
    "print(number_of_crimes)"
   ]
  },
  {
   "cell_type": "code",
   "execution_count": 82,
   "metadata": {
    "colab": {
     "base_uri": "https://localhost:8080/",
     "height": 0
    },
    "executionInfo": {
     "elapsed": 10,
     "status": "ok",
     "timestamp": 1650765082812,
     "user": {
      "displayName": "Sayli Baser",
      "userId": "16837155984769911263"
     },
     "user_tz": 300
    },
    "id": "sHOTR4c3PI52",
    "outputId": "09b2e722-56ad-49d4-b313-362b0e7ee1c2"
   },
   "outputs": [
    {
     "data": {
      "text/html": [
       "<div>\n",
       "<style scoped>\n",
       "    .dataframe tbody tr th:only-of-type {\n",
       "        vertical-align: middle;\n",
       "    }\n",
       "\n",
       "    .dataframe tbody tr th {\n",
       "        vertical-align: top;\n",
       "    }\n",
       "\n",
       "    .dataframe thead th {\n",
       "        text-align: right;\n",
       "    }\n",
       "</style>\n",
       "<table border=\"1\" class=\"dataframe\">\n",
       "  <thead>\n",
       "    <tr style=\"text-align: right;\">\n",
       "      <th></th>\n",
       "      <th>Year</th>\n",
       "      <th>Total Crimes</th>\n",
       "    </tr>\n",
       "  </thead>\n",
       "  <tbody>\n",
       "    <tr>\n",
       "      <th>0</th>\n",
       "      <td>2012</td>\n",
       "      <td>82602</td>\n",
       "    </tr>\n",
       "    <tr>\n",
       "      <th>1</th>\n",
       "      <td>2013</td>\n",
       "      <td>74800</td>\n",
       "    </tr>\n",
       "    <tr>\n",
       "      <th>2</th>\n",
       "      <td>2014</td>\n",
       "      <td>66523</td>\n",
       "    </tr>\n",
       "    <tr>\n",
       "      <th>3</th>\n",
       "      <td>2015</td>\n",
       "      <td>64258</td>\n",
       "    </tr>\n",
       "    <tr>\n",
       "      <th>4</th>\n",
       "      <td>2016</td>\n",
       "      <td>61808</td>\n",
       "    </tr>\n",
       "    <tr>\n",
       "      <th>5</th>\n",
       "      <td>2017</td>\n",
       "      <td>9</td>\n",
       "    </tr>\n",
       "  </tbody>\n",
       "</table>\n",
       "</div>"
      ],
      "text/plain": [
       "   Year  Total Crimes\n",
       "0  2012         82602\n",
       "1  2013         74800\n",
       "2  2014         66523\n",
       "3  2015         64258\n",
       "4  2016         61808\n",
       "5  2017             9"
      ]
     },
     "execution_count": 82,
     "metadata": {},
     "output_type": "execute_result"
    }
   ],
   "source": [
    "total_crimes_in_every_year"
   ]
  },
  {
   "cell_type": "code",
   "execution_count": 83,
   "metadata": {
    "colab": {
     "base_uri": "https://localhost:8080/",
     "height": 0
    },
    "executionInfo": {
     "elapsed": 281,
     "status": "ok",
     "timestamp": 1650765083086,
     "user": {
      "displayName": "Sayli Baser",
      "userId": "16837155984769911263"
     },
     "user_tz": 300
    },
    "id": "urn9OjM2PI52",
    "outputId": "7fd8f830-5491-4a82-d815-bd5260da5436"
   },
   "outputs": [
    {
     "data": {
      "image/png": "[encoded data removed]",
      "text/plain": [
       "<Figure size 1152x720 with 1 Axes>"
      ]
     },
     "metadata": {
      "needs_background": "light"
     },
     "output_type": "display_data"
    }
   ],
   "source": [
    "import matplotlib.pyplot as plt\n",
    "year = total_crimes_in_every_year['Year']\n",
    "total_crimes = total_crimes_in_every_year['Total Crimes']\n",
    "plt.figure(figsize=(16,10))\n",
    "plt.plot(year, total_crimes, marker = 'o', label = 'Total Crimes')\n",
    "plt.title(\"Line Chart: Year V/S Number of Crimes\")\n",
    "plt.xlabel(\"Year\")\n",
    "plt.ylabel(\"Total Crimes\")\n",
    "plt.axis([2012, 2017, 0, 90000])\n",
    "plt.annotate('At this point crimes were at peak',\n",
    "xy=(2012, 82602), xytext=(2013, 87000), arrowprops=dict(facecolor='black',\n",
    "shrink=0.05))\n",
    "plt.grid()\n",
    "plt.show()"
   ]
  },
  {
   "cell_type": "markdown",
   "metadata": {
    "id": "37uPwL34PI53"
   },
   "source": [
    "#### Visualizing number of arrests done per year"
   ]
  },
  {
   "cell_type": "code",
   "execution_count": 84,
   "metadata": {
    "colab": {
     "base_uri": "https://localhost:8080/",
     "height": 223
    },
    "executionInfo": {
     "elapsed": 221,
     "status": "ok",
     "timestamp": 1650765085673,
     "user": {
      "displayName": "Sayli Baser",
      "userId": "16837155984769911263"
     },
     "user_tz": 300
    },
    "id": "BXmQ9YrePI54",
    "outputId": "522af81d-4be0-4ef9-fdfe-fb31cf33a144"
   },
   "outputs": [
    {
     "name": "stdout",
     "output_type": "stream",
     "text": [
      "Total No.of arrests are 91567\n"
     ]
    },
    {
     "data": {
      "text/html": [
       "<div>\n",
       "<style scoped>\n",
       "    .dataframe tbody tr th:only-of-type {\n",
       "        vertical-align: middle;\n",
       "    }\n",
       "\n",
       "    .dataframe tbody tr th {\n",
       "        vertical-align: top;\n",
       "    }\n",
       "\n",
       "    .dataframe thead th {\n",
       "        text-align: right;\n",
       "    }\n",
       "</style>\n",
       "<table border=\"1\" class=\"dataframe\">\n",
       "  <thead>\n",
       "    <tr style=\"text-align: right;\">\n",
       "      <th></th>\n",
       "      <th>Year</th>\n",
       "      <th>Arrest</th>\n",
       "    </tr>\n",
       "  </thead>\n",
       "  <tbody>\n",
       "    <tr>\n",
       "      <th>0</th>\n",
       "      <td>2012</td>\n",
       "      <td>22404</td>\n",
       "    </tr>\n",
       "    <tr>\n",
       "      <th>1</th>\n",
       "      <td>2013</td>\n",
       "      <td>21155</td>\n",
       "    </tr>\n",
       "    <tr>\n",
       "      <th>2</th>\n",
       "      <td>2014</td>\n",
       "      <td>19253</td>\n",
       "    </tr>\n",
       "    <tr>\n",
       "      <th>3</th>\n",
       "      <td>2015</td>\n",
       "      <td>16894</td>\n",
       "    </tr>\n",
       "    <tr>\n",
       "      <th>4</th>\n",
       "      <td>2016</td>\n",
       "      <td>11861</td>\n",
       "    </tr>\n",
       "  </tbody>\n",
       "</table>\n",
       "</div>"
      ],
      "text/plain": [
       "   Year  Arrest\n",
       "0  2012   22404\n",
       "1  2013   21155\n",
       "2  2014   19253\n",
       "3  2015   16894\n",
       "4  2016   11861"
      ]
     },
     "execution_count": 84,
     "metadata": {},
     "output_type": "execute_result"
    }
   ],
   "source": [
    "# total number of arrests are done\n",
    "total_arrests = sum(df['Arrest'] == True)\n",
    "print('Total No.of arrests are '+str(total_arrests))\n",
    "# arrest in every year\n",
    "arrest_data = df[df['Arrest'] == True]\n",
    "total_arrest_in_every_year = arrest_data.groupby('Year')['Arrest'].count()\n",
    "total_arrest_in_every_year = total_arrest_in_every_year.to_frame()\n",
    "total_arrest_in_every_year.reset_index(inplace = True)\n",
    "total_arrest_in_every_year"
   ]
  },
  {
   "cell_type": "code",
   "execution_count": 85,
   "metadata": {
    "executionInfo": {
     "elapsed": 8,
     "status": "ok",
     "timestamp": 1650765085943,
     "user": {
      "displayName": "Sayli Baser",
      "userId": "16837155984769911263"
     },
     "user_tz": 300
    },
    "id": "bcoILUN8PI55"
   },
   "outputs": [],
   "source": [
    "#Adding a new row 2017 and setting it to 0, as fo plotting purposes both crimes & arrests must have the same dimension\n",
    "df2 = {'Year': 2017, 'Arrest': 0}\n",
    "total_arrest_in_every_year = total_arrest_in_every_year.append(df2, ignore_index = True)"
   ]
  },
  {
   "cell_type": "code",
   "execution_count": 86,
   "metadata": {
    "colab": {
     "base_uri": "https://localhost:8080/",
     "height": 238
    },
    "executionInfo": {
     "elapsed": 8,
     "status": "ok",
     "timestamp": 1650765085944,
     "user": {
      "displayName": "Sayli Baser",
      "userId": "16837155984769911263"
     },
     "user_tz": 300
    },
    "id": "Nf6grg1SPI55",
    "outputId": "c96a9010-5836-4a4f-c50d-94331de30088"
   },
   "outputs": [
    {
     "data": {
      "text/html": [
       "<div>\n",
       "<style scoped>\n",
       "    .dataframe tbody tr th:only-of-type {\n",
       "        vertical-align: middle;\n",
       "    }\n",
       "\n",
       "    .dataframe tbody tr th {\n",
       "        vertical-align: top;\n",
       "    }\n",
       "\n",
       "    .dataframe thead th {\n",
       "        text-align: right;\n",
       "    }\n",
       "</style>\n",
       "<table border=\"1\" class=\"dataframe\">\n",
       "  <thead>\n",
       "    <tr style=\"text-align: right;\">\n",
       "      <th></th>\n",
       "      <th>Year</th>\n",
       "      <th>Arrest</th>\n",
       "    </tr>\n",
       "  </thead>\n",
       "  <tbody>\n",
       "    <tr>\n",
       "      <th>0</th>\n",
       "      <td>2012</td>\n",
       "      <td>22404</td>\n",
       "    </tr>\n",
       "    <tr>\n",
       "      <th>1</th>\n",
       "      <td>2013</td>\n",
       "      <td>21155</td>\n",
       "    </tr>\n",
       "    <tr>\n",
       "      <th>2</th>\n",
       "      <td>2014</td>\n",
       "      <td>19253</td>\n",
       "    </tr>\n",
       "    <tr>\n",
       "      <th>3</th>\n",
       "      <td>2015</td>\n",
       "      <td>16894</td>\n",
       "    </tr>\n",
       "    <tr>\n",
       "      <th>4</th>\n",
       "      <td>2016</td>\n",
       "      <td>11861</td>\n",
       "    </tr>\n",
       "    <tr>\n",
       "      <th>5</th>\n",
       "      <td>2017</td>\n",
       "      <td>0</td>\n",
       "    </tr>\n",
       "  </tbody>\n",
       "</table>\n",
       "</div>"
      ],
      "text/plain": [
       "   Year  Arrest\n",
       "0  2012   22404\n",
       "1  2013   21155\n",
       "2  2014   19253\n",
       "3  2015   16894\n",
       "4  2016   11861\n",
       "5  2017       0"
      ]
     },
     "execution_count": 86,
     "metadata": {},
     "output_type": "execute_result"
    }
   ],
   "source": [
    "total_arrest_in_every_year"
   ]
  },
  {
   "cell_type": "code",
   "execution_count": 87,
   "metadata": {
    "colab": {
     "base_uri": "https://localhost:8080/",
     "height": 458
    },
    "executionInfo": {
     "elapsed": 261,
     "status": "ok",
     "timestamp": 1650765086199,
     "user": {
      "displayName": "Sayli Baser",
      "userId": "16837155984769911263"
     },
     "user_tz": 300
    },
    "id": "F-odneM4PI56",
    "outputId": "032ebdbf-3345-456f-9d2e-5579b474ee89"
   },
   "outputs": [
    {
     "data": {
      "image/png": "[encoded data removed]",
      "text/plain": [
       "<Figure size 1080x504 with 1 Axes>"
      ]
     },
     "metadata": {
      "needs_background": "light"
     },
     "output_type": "display_data"
    }
   ],
   "source": [
    "total_arrest_in_every_year.plot(kind = 'line', x = 'Year', y = 'Arrest', figsize=(15,7), color = 'r')\n",
    "plt.title(\"Line Chart: Time V/S Arrest Rate\")\n",
    "plt.xlabel(\"Year\")\n",
    "plt.ylabel(\"Arrest Rate\")\n",
    "plt.show()"
   ]
  },
  {
   "cell_type": "code",
   "execution_count": 88,
   "metadata": {
    "colab": {
     "base_uri": "https://localhost:8080/",
     "height": 935
    },
    "executionInfo": {
     "elapsed": 216,
     "status": "error",
     "timestamp": 1650765093858,
     "user": {
      "displayName": "Sayli Baser",
      "userId": "16837155984769911263"
     },
     "user_tz": 300
    },
    "id": "RC40oWWOPI57",
    "outputId": "518c22b3-d19c-4b41-d163-eae4c9480f6b"
   },
   "outputs": [
    {
     "data": {
      "image/png": "[encoded data removed]",
      "text/plain": [
       "<Figure size 1440x720 with 1 Axes>"
      ]
     },
     "metadata": {
      "needs_background": "light"
     },
     "output_type": "display_data"
    }
   ],
   "source": [
    "import matplotlib.pyplot as plt\n",
    "date = total_arrest_in_every_year['Year']\n",
    "arrests = total_arrest_in_every_year['Arrest']\n",
    "crimes = total_crimes_in_every_year['Total Crimes']\n",
    "plt.figure(figsize=(20,10))\n",
    "plt.plot(date, crimes, marker = 'o', label = 'Crimes')\n",
    "plt.plot(date, arrests, marker = 'o', color = 'r', label = 'Arrests')\n",
    "labels = ['Crimes', 'Arrests']\n",
    "#cubes = [i*i*i for i in numbers]\n",
    "#plt.plot(numbers, cubes, marker = 'o')\n",
    "plt.annotate('At this point crimes were at peak',\n",
    "xy=(2012, 82602), xytext=(2013, 85000), arrowprops=dict(facecolor='black',\n",
    "shrink=0.05))\n",
    "plt.title(\"Line Chart: No. of arrests & crimes\")\n",
    "plt.xlabel(\"Year\")\n",
    "plt.ylabel(\"Total crimes/arrests\")\n",
    "plt.grid()\n",
    "plt.legend(labels)\n",
    "plt.show()"
   ]
  },
  {
   "cell_type": "code",
   "execution_count": 89,
   "metadata": {
    "colab": {
     "base_uri": "https://localhost:8080/"
    },
    "executionInfo": {
     "elapsed": 183,
     "status": "ok",
     "timestamp": 1650765107199,
     "user": {
      "displayName": "Sayli Baser",
      "userId": "16837155984769911263"
     },
     "user_tz": 300
    },
    "id": "jz3Lw3E5PI57",
    "outputId": "4727218c-34e5-4b7b-b5cf-60f0c1ee461c"
   },
   "outputs": [
    {
     "name": "stdout",
     "output_type": "stream",
     "text": [
      "Target:  Primary Type\n"
     ]
    }
   ],
   "source": [
    "Target = 'Primary Type'\n",
    "print('Target: ', Target)"
   ]
  },
  {
   "cell_type": "code",
   "execution_count": 90,
   "metadata": {
    "colab": {
     "base_uri": "https://localhost:8080/",
     "height": 621
    },
    "executionInfo": {
     "elapsed": 320,
     "status": "ok",
     "timestamp": 1650765110517,
     "user": {
      "displayName": "Sayli Baser",
      "userId": "16837155984769911263"
     },
     "user_tz": 300
    },
    "id": "25siIQ00PI58",
    "outputId": "bf3fb5dd-2fe1-4332-f2f2-951d6426eeba"
   },
   "outputs": [
    {
     "data": {
      "image/png": "[encoded data removed]",
      "text/plain": [
       "<Figure size 1008x720 with 1 Axes>"
      ]
     },
     "metadata": {
      "needs_background": "light"
     },
     "output_type": "display_data"
    }
   ],
   "source": [
    "# Plot Bar Chart visualize Primary Types\n",
    "plt.figure(figsize=(14,10))\n",
    "plt.title('Amount of Crimes by Primary Type')\n",
    "plt.ylabel('Crime Type')\n",
    "plt.xlabel('Amount of Crimes')\n",
    "\n",
    "df.groupby([df['Primary Type']]).size().sort_values(ascending=True).plot(kind='barh')\n",
    "\n",
    "plt.show()"
   ]
  },
  {
   "cell_type": "code",
   "execution_count": 91,
   "metadata": {
    "colab": {
     "base_uri": "https://localhost:8080/",
     "height": 457
    },
    "executionInfo": {
     "elapsed": 300,
     "status": "ok",
     "timestamp": 1650765115660,
     "user": {
      "displayName": "Sayli Baser",
      "userId": "16837155984769911263"
     },
     "user_tz": 300
    },
    "id": "6cjqGL3gPI59",
    "outputId": "dc246ec1-ea22-4365-cd77-bbc3be16cedb"
   },
   "outputs": [
    {
     "data": {
      "text/html": [
       "<div>\n",
       "<style scoped>\n",
       "    .dataframe tbody tr th:only-of-type {\n",
       "        vertical-align: middle;\n",
       "    }\n",
       "\n",
       "    .dataframe tbody tr th {\n",
       "        vertical-align: top;\n",
       "    }\n",
       "\n",
       "    .dataframe thead th {\n",
       "        text-align: right;\n",
       "    }\n",
       "</style>\n",
       "<table border=\"1\" class=\"dataframe\">\n",
       "  <thead>\n",
       "    <tr style=\"text-align: right;\">\n",
       "      <th></th>\n",
       "      <th>Primary Type</th>\n",
       "      <th>Amt</th>\n",
       "    </tr>\n",
       "  </thead>\n",
       "  <tbody>\n",
       "    <tr>\n",
       "      <th>0</th>\n",
       "      <td>ARSON</td>\n",
       "      <td>544</td>\n",
       "    </tr>\n",
       "    <tr>\n",
       "      <th>9</th>\n",
       "      <td>GAMBLING</td>\n",
       "      <td>542</td>\n",
       "    </tr>\n",
       "    <tr>\n",
       "      <th>15</th>\n",
       "      <td>LIQUOR LAW VIOLATION</td>\n",
       "      <td>465</td>\n",
       "    </tr>\n",
       "    <tr>\n",
       "      <th>14</th>\n",
       "      <td>KIDNAPPING</td>\n",
       "      <td>287</td>\n",
       "    </tr>\n",
       "    <tr>\n",
       "      <th>29</th>\n",
       "      <td>STALKING</td>\n",
       "      <td>176</td>\n",
       "    </tr>\n",
       "    <tr>\n",
       "      <th>13</th>\n",
       "      <td>INTIMIDATION</td>\n",
       "      <td>164</td>\n",
       "    </tr>\n",
       "    <tr>\n",
       "      <th>20</th>\n",
       "      <td>OBSCENITY</td>\n",
       "      <td>40</td>\n",
       "    </tr>\n",
       "    <tr>\n",
       "      <th>4</th>\n",
       "      <td>CONCEALED CARRY LICENSE VIOLATION</td>\n",
       "      <td>20</td>\n",
       "    </tr>\n",
       "    <tr>\n",
       "      <th>19</th>\n",
       "      <td>NON-CRIMINAL</td>\n",
       "      <td>17</td>\n",
       "    </tr>\n",
       "    <tr>\n",
       "      <th>25</th>\n",
       "      <td>PUBLIC INDECENCY</td>\n",
       "      <td>13</td>\n",
       "    </tr>\n",
       "    <tr>\n",
       "      <th>22</th>\n",
       "      <td>OTHER NARCOTIC VIOLATION</td>\n",
       "      <td>9</td>\n",
       "    </tr>\n",
       "    <tr>\n",
       "      <th>18</th>\n",
       "      <td>NON - CRIMINAL</td>\n",
       "      <td>7</td>\n",
       "    </tr>\n",
       "    <tr>\n",
       "      <th>11</th>\n",
       "      <td>HUMAN TRAFFICKING</td>\n",
       "      <td>6</td>\n",
       "    </tr>\n",
       "  </tbody>\n",
       "</table>\n",
       "</div>"
      ],
      "text/plain": [
       "                         Primary Type  Amt\n",
       "0                               ARSON  544\n",
       "9                            GAMBLING  542\n",
       "15               LIQUOR LAW VIOLATION  465\n",
       "14                         KIDNAPPING  287\n",
       "29                           STALKING  176\n",
       "13                       INTIMIDATION  164\n",
       "20                          OBSCENITY   40\n",
       "4   CONCEALED CARRY LICENSE VIOLATION   20\n",
       "19                       NON-CRIMINAL   17\n",
       "25                   PUBLIC INDECENCY   13\n",
       "22           OTHER NARCOTIC VIOLATION    9\n",
       "18                     NON - CRIMINAL    7\n",
       "11                  HUMAN TRAFFICKING    6"
      ]
     },
     "execution_count": 91,
     "metadata": {},
     "output_type": "execute_result"
    }
   ],
   "source": [
    "# At previous plot, we could see that the classes is quite imbalance\n",
    "# Therefore, we are going to group several less occured Crime Type into 'Others' to reduce the Target Class amount\n",
    "\n",
    "# First, we sum up the amount of Crime Type happened and select the last 13 classes\n",
    "all_classes = df.groupby(['Primary Type'])['Block'].size().reset_index()\n",
    "all_classes['Amt'] = all_classes['Block']\n",
    "all_classes = all_classes.drop(['Block'], axis=1)\n",
    "all_classes = all_classes.sort_values(['Amt'], ascending=[False])\n",
    "\n",
    "unwanted_classes = all_classes.tail(13)\n",
    "unwanted_classes"
   ]
  },
  {
   "cell_type": "code",
   "execution_count": 92,
   "metadata": {
    "colab": {
     "base_uri": "https://localhost:8080/",
     "height": 621
    },
    "executionInfo": {
     "elapsed": 830,
     "status": "ok",
     "timestamp": 1650765121317,
     "user": {
      "displayName": "Sayli Baser",
      "userId": "16837155984769911263"
     },
     "user_tz": 300
    },
    "id": "7lABsAKpPI59",
    "outputId": "26b9711a-cb51-4f44-87f3-a66249d5d431"
   },
   "outputs": [
    {
     "data": {
      "image/png": "[encoded data removed]",
      "text/plain": [
       "<Figure size 1008x720 with 1 Axes>"
      ]
     },
     "metadata": {
      "needs_background": "light"
     },
     "output_type": "display_data"
    }
   ],
   "source": [
    "# After that, we replaced it with label 'OTHERS'\n",
    "df.loc[df['Primary Type'].isin(unwanted_classes['Primary Type']), 'Primary Type'] = 'OTHERS'\n",
    "\n",
    "# Plot Bar Chart visualize Primary Types\n",
    "plt.figure(figsize=(14,10))\n",
    "plt.title('Amount of Crimes by Primary Type')\n",
    "plt.ylabel('Crime Type')\n",
    "plt.xlabel('Amount of Crimes')\n",
    "\n",
    "df.groupby([df['Primary Type']]).size().sort_values(ascending=True).plot(kind='barh')\n",
    "\n",
    "plt.show()"
   ]
  },
  {
   "cell_type": "code",
   "execution_count": 93,
   "metadata": {
    "colab": {
     "base_uri": "https://localhost:8080/"
    },
    "executionInfo": {
     "elapsed": 461,
     "status": "ok",
     "timestamp": 1650765268772,
     "user": {
      "displayName": "Sayli Baser",
      "userId": "16837155984769911263"
     },
     "user_tz": 300
    },
    "id": "LhozO36TPI5-",
    "outputId": "154973e7-5714-4406-94c9-6bc69f64aabd"
   },
   "outputs": [
    {
     "data": {
      "text/plain": [
       "array(['THEFT', 'CRIMINAL TRESPASS', 'ASSAULT', 'BURGLARY',\n",
       "       'CRIMINAL DAMAGE', 'BATTERY', 'CRIM SEXUAL ASSAULT',\n",
       "       'PUBLIC PEACE VIOLATION', 'DECEPTIVE PRACTICE', 'SEX OFFENSE',\n",
       "       'OTHER OFFENSE', 'NARCOTICS', 'ROBBERY', 'OTHERS', 'PROSTITUTION',\n",
       "       'MOTOR VEHICLE THEFT', 'WEAPONS VIOLATION',\n",
       "       'OFFENSE INVOLVING CHILDREN', 'HOMICIDE',\n",
       "       'INTERFERENCE WITH PUBLIC OFFICER'], dtype=object)"
      ]
     },
     "execution_count": 93,
     "metadata": {},
     "output_type": "execute_result"
    }
   ],
   "source": [
    "# Now we are left with 14 Class as our predictive class\n",
    "Classes = df['Primary Type'].unique()\n",
    "Classes"
   ]
  },
  {
   "cell_type": "code",
   "execution_count": 94,
   "metadata": {
    "colab": {
     "base_uri": "https://localhost:8080/"
    },
    "executionInfo": {
     "elapsed": 275,
     "status": "ok",
     "timestamp": 1650765272766,
     "user": {
      "displayName": "Sayli Baser",
      "userId": "16837155984769911263"
     },
     "user_tz": 300
    },
    "id": "QIlI7yQtPI5_",
    "outputId": "fed10d1a-9ab8-4007-8820-45fe0de784f7"
   },
   "outputs": [
    {
     "data": {
      "text/plain": [
       "array([ 0,  1,  2,  3,  4,  5,  6,  7,  8,  9, 10, 11, 12, 13, 14, 15, 16,\n",
       "       17, 18, 19])"
      ]
     },
     "execution_count": 94,
     "metadata": {},
     "output_type": "execute_result"
    }
   ],
   "source": [
    "#Encode target labels into categorical variables:\n",
    "df['Primary Type'] = pd.factorize(df[\"Primary Type\"])[0] \n",
    "df['Primary Type'].unique()"
   ]
  },
  {
   "cell_type": "code",
   "execution_count": 95,
   "metadata": {
    "colab": {
     "base_uri": "https://localhost:8080/",
     "height": 505
    },
    "executionInfo": {
     "elapsed": 261,
     "status": "ok",
     "timestamp": 1650765275430,
     "user": {
      "displayName": "Sayli Baser",
      "userId": "16837155984769911263"
     },
     "user_tz": 300
    },
    "id": "b3EwC98SPI5_",
    "outputId": "ebc3a0e3-de23-47a6-c715-09914bc51be3"
   },
   "outputs": [
    {
     "data": {
      "text/html": [
       "<div>\n",
       "<style scoped>\n",
       "    .dataframe tbody tr th:only-of-type {\n",
       "        vertical-align: middle;\n",
       "    }\n",
       "\n",
       "    .dataframe tbody tr th {\n",
       "        vertical-align: top;\n",
       "    }\n",
       "\n",
       "    .dataframe thead th {\n",
       "        text-align: right;\n",
       "    }\n",
       "</style>\n",
       "<table border=\"1\" class=\"dataframe\">\n",
       "  <thead>\n",
       "    <tr style=\"text-align: right;\">\n",
       "      <th></th>\n",
       "      <th>Block</th>\n",
       "      <th>IUCR</th>\n",
       "      <th>Primary Type</th>\n",
       "      <th>Description</th>\n",
       "      <th>Location Description</th>\n",
       "      <th>Arrest</th>\n",
       "      <th>Domestic</th>\n",
       "      <th>Beat</th>\n",
       "      <th>District</th>\n",
       "      <th>Ward</th>\n",
       "      <th>...</th>\n",
       "      <th>Y Coordinate</th>\n",
       "      <th>Year</th>\n",
       "      <th>Latitude</th>\n",
       "      <th>Longitude</th>\n",
       "      <th>Location</th>\n",
       "      <th>Month</th>\n",
       "      <th>Day</th>\n",
       "      <th>Hour</th>\n",
       "      <th>Minute</th>\n",
       "      <th>Second</th>\n",
       "    </tr>\n",
       "  </thead>\n",
       "  <tbody>\n",
       "    <tr>\n",
       "      <th>1260040</th>\n",
       "      <td>0</td>\n",
       "      <td>0</td>\n",
       "      <td>0</td>\n",
       "      <td>0</td>\n",
       "      <td>0</td>\n",
       "      <td>False</td>\n",
       "      <td>False</td>\n",
       "      <td>121</td>\n",
       "      <td>1.0</td>\n",
       "      <td>2.0</td>\n",
       "      <td>...</td>\n",
       "      <td>1898242.0</td>\n",
       "      <td>2016</td>\n",
       "      <td>41.876212</td>\n",
       "      <td>-87.641007</td>\n",
       "      <td>0</td>\n",
       "      <td>4</td>\n",
       "      <td>6</td>\n",
       "      <td>19</td>\n",
       "      <td>0</td>\n",
       "      <td>0</td>\n",
       "    </tr>\n",
       "    <tr>\n",
       "      <th>1203295</th>\n",
       "      <td>1</td>\n",
       "      <td>1</td>\n",
       "      <td>1</td>\n",
       "      <td>1</td>\n",
       "      <td>1</td>\n",
       "      <td>False</td>\n",
       "      <td>False</td>\n",
       "      <td>1834</td>\n",
       "      <td>18.0</td>\n",
       "      <td>42.0</td>\n",
       "      <td>...</td>\n",
       "      <td>1904895.0</td>\n",
       "      <td>2016</td>\n",
       "      <td>41.894374</td>\n",
       "      <td>-87.625439</td>\n",
       "      <td>1</td>\n",
       "      <td>1</td>\n",
       "      <td>9</td>\n",
       "      <td>4</td>\n",
       "      <td>30</td>\n",
       "      <td>0</td>\n",
       "    </tr>\n",
       "    <tr>\n",
       "      <th>575603</th>\n",
       "      <td>2</td>\n",
       "      <td>2</td>\n",
       "      <td>2</td>\n",
       "      <td>2</td>\n",
       "      <td>2</td>\n",
       "      <td>False</td>\n",
       "      <td>False</td>\n",
       "      <td>1234</td>\n",
       "      <td>12.0</td>\n",
       "      <td>25.0</td>\n",
       "      <td>...</td>\n",
       "      <td>1890719.0</td>\n",
       "      <td>2013</td>\n",
       "      <td>41.855794</td>\n",
       "      <td>-87.679711</td>\n",
       "      <td>2</td>\n",
       "      <td>7</td>\n",
       "      <td>19</td>\n",
       "      <td>8</td>\n",
       "      <td>20</td>\n",
       "      <td>0</td>\n",
       "    </tr>\n",
       "    <tr>\n",
       "      <th>950048</th>\n",
       "      <td>3</td>\n",
       "      <td>3</td>\n",
       "      <td>3</td>\n",
       "      <td>3</td>\n",
       "      <td>3</td>\n",
       "      <td>False</td>\n",
       "      <td>False</td>\n",
       "      <td>623</td>\n",
       "      <td>6.0</td>\n",
       "      <td>6.0</td>\n",
       "      <td>...</td>\n",
       "      <td>1851748.0</td>\n",
       "      <td>2014</td>\n",
       "      <td>41.748509</td>\n",
       "      <td>-87.622933</td>\n",
       "      <td>3</td>\n",
       "      <td>11</td>\n",
       "      <td>13</td>\n",
       "      <td>14</td>\n",
       "      <td>40</td>\n",
       "      <td>0</td>\n",
       "    </tr>\n",
       "    <tr>\n",
       "      <th>1268578</th>\n",
       "      <td>4</td>\n",
       "      <td>4</td>\n",
       "      <td>4</td>\n",
       "      <td>4</td>\n",
       "      <td>4</td>\n",
       "      <td>False</td>\n",
       "      <td>True</td>\n",
       "      <td>1914</td>\n",
       "      <td>19.0</td>\n",
       "      <td>46.0</td>\n",
       "      <td>...</td>\n",
       "      <td>1930493.0</td>\n",
       "      <td>2016</td>\n",
       "      <td>41.964798</td>\n",
       "      <td>-87.654782</td>\n",
       "      <td>4</td>\n",
       "      <td>2</td>\n",
       "      <td>14</td>\n",
       "      <td>10</td>\n",
       "      <td>30</td>\n",
       "      <td>0</td>\n",
       "    </tr>\n",
       "    <tr>\n",
       "      <th>...</th>\n",
       "      <td>...</td>\n",
       "      <td>...</td>\n",
       "      <td>...</td>\n",
       "      <td>...</td>\n",
       "      <td>...</td>\n",
       "      <td>...</td>\n",
       "      <td>...</td>\n",
       "      <td>...</td>\n",
       "      <td>...</td>\n",
       "      <td>...</td>\n",
       "      <td>...</td>\n",
       "      <td>...</td>\n",
       "      <td>...</td>\n",
       "      <td>...</td>\n",
       "      <td>...</td>\n",
       "      <td>...</td>\n",
       "      <td>...</td>\n",
       "      <td>...</td>\n",
       "      <td>...</td>\n",
       "      <td>...</td>\n",
       "      <td>...</td>\n",
       "    </tr>\n",
       "    <tr>\n",
       "      <th>1240500</th>\n",
       "      <td>15669</td>\n",
       "      <td>47</td>\n",
       "      <td>16</td>\n",
       "      <td>44</td>\n",
       "      <td>0</td>\n",
       "      <td>True</td>\n",
       "      <td>False</td>\n",
       "      <td>634</td>\n",
       "      <td>6.0</td>\n",
       "      <td>21.0</td>\n",
       "      <td>...</td>\n",
       "      <td>1843143.0</td>\n",
       "      <td>2016</td>\n",
       "      <td>41.724908</td>\n",
       "      <td>-87.625145</td>\n",
       "      <td>133712</td>\n",
       "      <td>4</td>\n",
       "      <td>19</td>\n",
       "      <td>11</td>\n",
       "      <td>59</td>\n",
       "      <td>0</td>\n",
       "    </tr>\n",
       "    <tr>\n",
       "      <th>535052</th>\n",
       "      <td>4608</td>\n",
       "      <td>26</td>\n",
       "      <td>15</td>\n",
       "      <td>25</td>\n",
       "      <td>0</td>\n",
       "      <td>False</td>\n",
       "      <td>False</td>\n",
       "      <td>1132</td>\n",
       "      <td>11.0</td>\n",
       "      <td>24.0</td>\n",
       "      <td>...</td>\n",
       "      <td>1895744.0</td>\n",
       "      <td>2013</td>\n",
       "      <td>41.869826</td>\n",
       "      <td>-87.723890</td>\n",
       "      <td>170333</td>\n",
       "      <td>6</td>\n",
       "      <td>4</td>\n",
       "      <td>17</td>\n",
       "      <td>30</td>\n",
       "      <td>0</td>\n",
       "    </tr>\n",
       "    <tr>\n",
       "      <th>1181866</th>\n",
       "      <td>8187</td>\n",
       "      <td>9</td>\n",
       "      <td>0</td>\n",
       "      <td>9</td>\n",
       "      <td>26</td>\n",
       "      <td>False</td>\n",
       "      <td>False</td>\n",
       "      <td>2232</td>\n",
       "      <td>22.0</td>\n",
       "      <td>34.0</td>\n",
       "      <td>...</td>\n",
       "      <td>1836553.0</td>\n",
       "      <td>2015</td>\n",
       "      <td>41.706926</td>\n",
       "      <td>-87.642046</td>\n",
       "      <td>11116</td>\n",
       "      <td>12</td>\n",
       "      <td>12</td>\n",
       "      <td>9</td>\n",
       "      <td>28</td>\n",
       "      <td>0</td>\n",
       "    </tr>\n",
       "    <tr>\n",
       "      <th>189404</th>\n",
       "      <td>7899</td>\n",
       "      <td>36</td>\n",
       "      <td>0</td>\n",
       "      <td>34</td>\n",
       "      <td>0</td>\n",
       "      <td>False</td>\n",
       "      <td>False</td>\n",
       "      <td>1114</td>\n",
       "      <td>11.0</td>\n",
       "      <td>28.0</td>\n",
       "      <td>...</td>\n",
       "      <td>1901150.0</td>\n",
       "      <td>2012</td>\n",
       "      <td>41.884674</td>\n",
       "      <td>-87.726099</td>\n",
       "      <td>120809</td>\n",
       "      <td>5</td>\n",
       "      <td>11</td>\n",
       "      <td>11</td>\n",
       "      <td>30</td>\n",
       "      <td>0</td>\n",
       "    </tr>\n",
       "    <tr>\n",
       "      <th>115332</th>\n",
       "      <td>19189</td>\n",
       "      <td>26</td>\n",
       "      <td>15</td>\n",
       "      <td>25</td>\n",
       "      <td>0</td>\n",
       "      <td>False</td>\n",
       "      <td>False</td>\n",
       "      <td>2523</td>\n",
       "      <td>25.0</td>\n",
       "      <td>30.0</td>\n",
       "      <td>...</td>\n",
       "      <td>1919278.0</td>\n",
       "      <td>2012</td>\n",
       "      <td>41.934413</td>\n",
       "      <td>-87.724606</td>\n",
       "      <td>170334</td>\n",
       "      <td>2</td>\n",
       "      <td>4</td>\n",
       "      <td>12</td>\n",
       "      <td>0</td>\n",
       "      <td>0</td>\n",
       "    </tr>\n",
       "  </tbody>\n",
       "</table>\n",
       "<p>350000 rows × 23 columns</p>\n",
       "</div>"
      ],
      "text/plain": [
       "         Block  IUCR  Primary Type  Description  Location Description  Arrest  \\\n",
       "1260040      0     0             0            0                     0   False   \n",
       "1203295      1     1             1            1                     1   False   \n",
       "575603       2     2             2            2                     2   False   \n",
       "950048       3     3             3            3                     3   False   \n",
       "1268578      4     4             4            4                     4   False   \n",
       "...        ...   ...           ...          ...                   ...     ...   \n",
       "1240500  15669    47            16           44                     0    True   \n",
       "535052    4608    26            15           25                     0   False   \n",
       "1181866   8187     9             0            9                    26   False   \n",
       "189404    7899    36             0           34                     0   False   \n",
       "115332   19189    26            15           25                     0   False   \n",
       "\n",
       "         Domestic  Beat  District  Ward  ...  Y Coordinate  Year   Latitude  \\\n",
       "1260040     False   121       1.0   2.0  ...     1898242.0  2016  41.876212   \n",
       "1203295     False  1834      18.0  42.0  ...     1904895.0  2016  41.894374   \n",
       "575603      False  1234      12.0  25.0  ...     1890719.0  2013  41.855794   \n",
       "950048      False   623       6.0   6.0  ...     1851748.0  2014  41.748509   \n",
       "1268578      True  1914      19.0  46.0  ...     1930493.0  2016  41.964798   \n",
       "...           ...   ...       ...   ...  ...           ...   ...        ...   \n",
       "1240500     False   634       6.0  21.0  ...     1843143.0  2016  41.724908   \n",
       "535052      False  1132      11.0  24.0  ...     1895744.0  2013  41.869826   \n",
       "1181866     False  2232      22.0  34.0  ...     1836553.0  2015  41.706926   \n",
       "189404      False  1114      11.0  28.0  ...     1901150.0  2012  41.884674   \n",
       "115332      False  2523      25.0  30.0  ...     1919278.0  2012  41.934413   \n",
       "\n",
       "         Longitude  Location  Month  Day  Hour  Minute  Second  \n",
       "1260040 -87.641007         0      4    6    19       0       0  \n",
       "1203295 -87.625439         1      1    9     4      30       0  \n",
       "575603  -87.679711         2      7   19     8      20       0  \n",
       "950048  -87.622933         3     11   13    14      40       0  \n",
       "1268578 -87.654782         4      2   14    10      30       0  \n",
       "...            ...       ...    ...  ...   ...     ...     ...  \n",
       "1240500 -87.625145    133712      4   19    11      59       0  \n",
       "535052  -87.723890    170333      6    4    17      30       0  \n",
       "1181866 -87.642046     11116     12   12     9      28       0  \n",
       "189404  -87.726099    120809      5   11    11      30       0  \n",
       "115332  -87.724606    170334      2    4    12       0       0  \n",
       "\n",
       "[350000 rows x 23 columns]"
      ]
     },
     "execution_count": 95,
     "metadata": {},
     "output_type": "execute_result"
    }
   ],
   "source": [
    "df"
   ]
  },
  {
   "cell_type": "code",
   "execution_count": 96,
   "metadata": {
    "executionInfo": {
     "elapsed": 309,
     "status": "ok",
     "timestamp": 1650765281159,
     "user": {
      "displayName": "Sayli Baser",
      "userId": "16837155984769911263"
     },
     "user_tz": 300
    },
    "id": "6s-YxF8PPI6A"
   },
   "outputs": [],
   "source": [
    "#Since our target variable is in the middle of our dataset, swapping it to the end - to make it look more streamlined\n",
    "#define function to swap columns\n",
    "\n",
    "def swap_columns(df, col1, col2):\n",
    "    col_list = list(df.columns)\n",
    "    x, y = col_list.index(col1), col_list.index(col2)\n",
    "    col_list[y], col_list[x] = col_list[x], col_list[y]\n",
    "    df = df[col_list]\n",
    "    return df\n",
    "\n",
    "#swap points and rebounds columns\n",
    "df = swap_columns(df, 'Primary Type', 'Second')"
   ]
  },
  {
   "cell_type": "code",
   "execution_count": 97,
   "metadata": {
    "executionInfo": {
     "elapsed": 299,
     "status": "ok",
     "timestamp": 1650765284328,
     "user": {
      "displayName": "Sayli Baser",
      "userId": "16837155984769911263"
     },
     "user_tz": 300
    },
    "id": "7Pd-AtRNPI6B"
   },
   "outputs": [],
   "source": [
    "dfnew = df.copy()\n",
    "#Creating copy of our original dataset so as to perform manipulations"
   ]
  },
  {
   "cell_type": "code",
   "execution_count": 98,
   "metadata": {
    "executionInfo": {
     "elapsed": 248,
     "status": "ok",
     "timestamp": 1650765287763,
     "user": {
      "displayName": "Sayli Baser",
      "userId": "16837155984769911263"
     },
     "user_tz": 300
    },
    "id": "uIltgG4iPI6B"
   },
   "outputs": [],
   "source": [
    "#Getting only columns with numerical variables as for Anova F-test, we need only numerical columns\n",
    "dfnew = dfnew.select_dtypes(include=np.number)\n",
    "dfnew = swap_columns(dfnew, 'Primary Type', 'Second')"
   ]
  },
  {
   "cell_type": "code",
   "execution_count": 99,
   "metadata": {
    "colab": {
     "base_uri": "https://localhost:8080/",
     "height": 505
    },
    "executionInfo": {
     "elapsed": 257,
     "status": "ok",
     "timestamp": 1650765289895,
     "user": {
      "displayName": "Sayli Baser",
      "userId": "16837155984769911263"
     },
     "user_tz": 300
    },
    "id": "qV1jcrzvPI6C",
    "outputId": "6e8fdbdf-e9a4-4f3c-c512-2837c727c0c6"
   },
   "outputs": [
    {
     "data": {
      "text/html": [
       "<div>\n",
       "<style scoped>\n",
       "    .dataframe tbody tr th:only-of-type {\n",
       "        vertical-align: middle;\n",
       "    }\n",
       "\n",
       "    .dataframe tbody tr th {\n",
       "        vertical-align: top;\n",
       "    }\n",
       "\n",
       "    .dataframe thead th {\n",
       "        text-align: right;\n",
       "    }\n",
       "</style>\n",
       "<table border=\"1\" class=\"dataframe\">\n",
       "  <thead>\n",
       "    <tr style=\"text-align: right;\">\n",
       "      <th></th>\n",
       "      <th>Block</th>\n",
       "      <th>IUCR</th>\n",
       "      <th>Primary Type</th>\n",
       "      <th>Description</th>\n",
       "      <th>Location Description</th>\n",
       "      <th>Beat</th>\n",
       "      <th>District</th>\n",
       "      <th>Ward</th>\n",
       "      <th>Community Area</th>\n",
       "      <th>FBI Code</th>\n",
       "      <th>...</th>\n",
       "      <th>Y Coordinate</th>\n",
       "      <th>Year</th>\n",
       "      <th>Latitude</th>\n",
       "      <th>Longitude</th>\n",
       "      <th>Location</th>\n",
       "      <th>Month</th>\n",
       "      <th>Day</th>\n",
       "      <th>Hour</th>\n",
       "      <th>Minute</th>\n",
       "      <th>Second</th>\n",
       "    </tr>\n",
       "  </thead>\n",
       "  <tbody>\n",
       "    <tr>\n",
       "      <th>1260040</th>\n",
       "      <td>0</td>\n",
       "      <td>0</td>\n",
       "      <td>0</td>\n",
       "      <td>0</td>\n",
       "      <td>0</td>\n",
       "      <td>121</td>\n",
       "      <td>1.0</td>\n",
       "      <td>2.0</td>\n",
       "      <td>28.0</td>\n",
       "      <td>0</td>\n",
       "      <td>...</td>\n",
       "      <td>1898242.0</td>\n",
       "      <td>2016</td>\n",
       "      <td>41.876212</td>\n",
       "      <td>-87.641007</td>\n",
       "      <td>0</td>\n",
       "      <td>4</td>\n",
       "      <td>6</td>\n",
       "      <td>19</td>\n",
       "      <td>0</td>\n",
       "      <td>0</td>\n",
       "    </tr>\n",
       "    <tr>\n",
       "      <th>1203295</th>\n",
       "      <td>1</td>\n",
       "      <td>1</td>\n",
       "      <td>1</td>\n",
       "      <td>1</td>\n",
       "      <td>1</td>\n",
       "      <td>1834</td>\n",
       "      <td>18.0</td>\n",
       "      <td>42.0</td>\n",
       "      <td>8.0</td>\n",
       "      <td>1</td>\n",
       "      <td>...</td>\n",
       "      <td>1904895.0</td>\n",
       "      <td>2016</td>\n",
       "      <td>41.894374</td>\n",
       "      <td>-87.625439</td>\n",
       "      <td>1</td>\n",
       "      <td>1</td>\n",
       "      <td>9</td>\n",
       "      <td>4</td>\n",
       "      <td>30</td>\n",
       "      <td>0</td>\n",
       "    </tr>\n",
       "    <tr>\n",
       "      <th>575603</th>\n",
       "      <td>2</td>\n",
       "      <td>2</td>\n",
       "      <td>2</td>\n",
       "      <td>2</td>\n",
       "      <td>2</td>\n",
       "      <td>1234</td>\n",
       "      <td>12.0</td>\n",
       "      <td>25.0</td>\n",
       "      <td>31.0</td>\n",
       "      <td>2</td>\n",
       "      <td>...</td>\n",
       "      <td>1890719.0</td>\n",
       "      <td>2013</td>\n",
       "      <td>41.855794</td>\n",
       "      <td>-87.679711</td>\n",
       "      <td>2</td>\n",
       "      <td>7</td>\n",
       "      <td>19</td>\n",
       "      <td>8</td>\n",
       "      <td>20</td>\n",
       "      <td>0</td>\n",
       "    </tr>\n",
       "    <tr>\n",
       "      <th>950048</th>\n",
       "      <td>3</td>\n",
       "      <td>3</td>\n",
       "      <td>3</td>\n",
       "      <td>3</td>\n",
       "      <td>3</td>\n",
       "      <td>623</td>\n",
       "      <td>6.0</td>\n",
       "      <td>6.0</td>\n",
       "      <td>44.0</td>\n",
       "      <td>3</td>\n",
       "      <td>...</td>\n",
       "      <td>1851748.0</td>\n",
       "      <td>2014</td>\n",
       "      <td>41.748509</td>\n",
       "      <td>-87.622933</td>\n",
       "      <td>3</td>\n",
       "      <td>11</td>\n",
       "      <td>13</td>\n",
       "      <td>14</td>\n",
       "      <td>40</td>\n",
       "      <td>0</td>\n",
       "    </tr>\n",
       "    <tr>\n",
       "      <th>1268578</th>\n",
       "      <td>4</td>\n",
       "      <td>4</td>\n",
       "      <td>4</td>\n",
       "      <td>4</td>\n",
       "      <td>4</td>\n",
       "      <td>1914</td>\n",
       "      <td>19.0</td>\n",
       "      <td>46.0</td>\n",
       "      <td>3.0</td>\n",
       "      <td>4</td>\n",
       "      <td>...</td>\n",
       "      <td>1930493.0</td>\n",
       "      <td>2016</td>\n",
       "      <td>41.964798</td>\n",
       "      <td>-87.654782</td>\n",
       "      <td>4</td>\n",
       "      <td>2</td>\n",
       "      <td>14</td>\n",
       "      <td>10</td>\n",
       "      <td>30</td>\n",
       "      <td>0</td>\n",
       "    </tr>\n",
       "    <tr>\n",
       "      <th>...</th>\n",
       "      <td>...</td>\n",
       "      <td>...</td>\n",
       "      <td>...</td>\n",
       "      <td>...</td>\n",
       "      <td>...</td>\n",
       "      <td>...</td>\n",
       "      <td>...</td>\n",
       "      <td>...</td>\n",
       "      <td>...</td>\n",
       "      <td>...</td>\n",
       "      <td>...</td>\n",
       "      <td>...</td>\n",
       "      <td>...</td>\n",
       "      <td>...</td>\n",
       "      <td>...</td>\n",
       "      <td>...</td>\n",
       "      <td>...</td>\n",
       "      <td>...</td>\n",
       "      <td>...</td>\n",
       "      <td>...</td>\n",
       "      <td>...</td>\n",
       "    </tr>\n",
       "    <tr>\n",
       "      <th>1240500</th>\n",
       "      <td>15669</td>\n",
       "      <td>47</td>\n",
       "      <td>16</td>\n",
       "      <td>44</td>\n",
       "      <td>0</td>\n",
       "      <td>634</td>\n",
       "      <td>6.0</td>\n",
       "      <td>21.0</td>\n",
       "      <td>49.0</td>\n",
       "      <td>17</td>\n",
       "      <td>...</td>\n",
       "      <td>1843143.0</td>\n",
       "      <td>2016</td>\n",
       "      <td>41.724908</td>\n",
       "      <td>-87.625145</td>\n",
       "      <td>133712</td>\n",
       "      <td>4</td>\n",
       "      <td>19</td>\n",
       "      <td>11</td>\n",
       "      <td>59</td>\n",
       "      <td>0</td>\n",
       "    </tr>\n",
       "    <tr>\n",
       "      <th>535052</th>\n",
       "      <td>4608</td>\n",
       "      <td>26</td>\n",
       "      <td>15</td>\n",
       "      <td>25</td>\n",
       "      <td>0</td>\n",
       "      <td>1132</td>\n",
       "      <td>11.0</td>\n",
       "      <td>24.0</td>\n",
       "      <td>26.0</td>\n",
       "      <td>15</td>\n",
       "      <td>...</td>\n",
       "      <td>1895744.0</td>\n",
       "      <td>2013</td>\n",
       "      <td>41.869826</td>\n",
       "      <td>-87.723890</td>\n",
       "      <td>170333</td>\n",
       "      <td>6</td>\n",
       "      <td>4</td>\n",
       "      <td>17</td>\n",
       "      <td>30</td>\n",
       "      <td>0</td>\n",
       "    </tr>\n",
       "    <tr>\n",
       "      <th>1181866</th>\n",
       "      <td>8187</td>\n",
       "      <td>9</td>\n",
       "      <td>0</td>\n",
       "      <td>9</td>\n",
       "      <td>26</td>\n",
       "      <td>2232</td>\n",
       "      <td>22.0</td>\n",
       "      <td>34.0</td>\n",
       "      <td>49.0</td>\n",
       "      <td>0</td>\n",
       "      <td>...</td>\n",
       "      <td>1836553.0</td>\n",
       "      <td>2015</td>\n",
       "      <td>41.706926</td>\n",
       "      <td>-87.642046</td>\n",
       "      <td>11116</td>\n",
       "      <td>12</td>\n",
       "      <td>12</td>\n",
       "      <td>9</td>\n",
       "      <td>28</td>\n",
       "      <td>0</td>\n",
       "    </tr>\n",
       "    <tr>\n",
       "      <th>189404</th>\n",
       "      <td>7899</td>\n",
       "      <td>36</td>\n",
       "      <td>0</td>\n",
       "      <td>34</td>\n",
       "      <td>0</td>\n",
       "      <td>1114</td>\n",
       "      <td>11.0</td>\n",
       "      <td>28.0</td>\n",
       "      <td>26.0</td>\n",
       "      <td>0</td>\n",
       "      <td>...</td>\n",
       "      <td>1901150.0</td>\n",
       "      <td>2012</td>\n",
       "      <td>41.884674</td>\n",
       "      <td>-87.726099</td>\n",
       "      <td>120809</td>\n",
       "      <td>5</td>\n",
       "      <td>11</td>\n",
       "      <td>11</td>\n",
       "      <td>30</td>\n",
       "      <td>0</td>\n",
       "    </tr>\n",
       "    <tr>\n",
       "      <th>115332</th>\n",
       "      <td>19189</td>\n",
       "      <td>26</td>\n",
       "      <td>15</td>\n",
       "      <td>25</td>\n",
       "      <td>0</td>\n",
       "      <td>2523</td>\n",
       "      <td>25.0</td>\n",
       "      <td>30.0</td>\n",
       "      <td>21.0</td>\n",
       "      <td>15</td>\n",
       "      <td>...</td>\n",
       "      <td>1919278.0</td>\n",
       "      <td>2012</td>\n",
       "      <td>41.934413</td>\n",
       "      <td>-87.724606</td>\n",
       "      <td>170334</td>\n",
       "      <td>2</td>\n",
       "      <td>4</td>\n",
       "      <td>12</td>\n",
       "      <td>0</td>\n",
       "      <td>0</td>\n",
       "    </tr>\n",
       "  </tbody>\n",
       "</table>\n",
       "<p>350000 rows × 21 columns</p>\n",
       "</div>"
      ],
      "text/plain": [
       "         Block  IUCR  Primary Type  Description  Location Description  Beat  \\\n",
       "1260040      0     0             0            0                     0   121   \n",
       "1203295      1     1             1            1                     1  1834   \n",
       "575603       2     2             2            2                     2  1234   \n",
       "950048       3     3             3            3                     3   623   \n",
       "1268578      4     4             4            4                     4  1914   \n",
       "...        ...   ...           ...          ...                   ...   ...   \n",
       "1240500  15669    47            16           44                     0   634   \n",
       "535052    4608    26            15           25                     0  1132   \n",
       "1181866   8187     9             0            9                    26  2232   \n",
       "189404    7899    36             0           34                     0  1114   \n",
       "115332   19189    26            15           25                     0  2523   \n",
       "\n",
       "         District  Ward  Community Area  FBI Code  ...  Y Coordinate  Year  \\\n",
       "1260040       1.0   2.0            28.0         0  ...     1898242.0  2016   \n",
       "1203295      18.0  42.0             8.0         1  ...     1904895.0  2016   \n",
       "575603       12.0  25.0            31.0         2  ...     1890719.0  2013   \n",
       "950048        6.0   6.0            44.0         3  ...     1851748.0  2014   \n",
       "1268578      19.0  46.0             3.0         4  ...     1930493.0  2016   \n",
       "...           ...   ...             ...       ...  ...           ...   ...   \n",
       "1240500       6.0  21.0            49.0        17  ...     1843143.0  2016   \n",
       "535052       11.0  24.0            26.0        15  ...     1895744.0  2013   \n",
       "1181866      22.0  34.0            49.0         0  ...     1836553.0  2015   \n",
       "189404       11.0  28.0            26.0         0  ...     1901150.0  2012   \n",
       "115332       25.0  30.0            21.0        15  ...     1919278.0  2012   \n",
       "\n",
       "          Latitude  Longitude  Location  Month  Day  Hour  Minute  Second  \n",
       "1260040  41.876212 -87.641007         0      4    6    19       0       0  \n",
       "1203295  41.894374 -87.625439         1      1    9     4      30       0  \n",
       "575603   41.855794 -87.679711         2      7   19     8      20       0  \n",
       "950048   41.748509 -87.622933         3     11   13    14      40       0  \n",
       "1268578  41.964798 -87.654782         4      2   14    10      30       0  \n",
       "...            ...        ...       ...    ...  ...   ...     ...     ...  \n",
       "1240500  41.724908 -87.625145    133712      4   19    11      59       0  \n",
       "535052   41.869826 -87.723890    170333      6    4    17      30       0  \n",
       "1181866  41.706926 -87.642046     11116     12   12     9      28       0  \n",
       "189404   41.884674 -87.726099    120809      5   11    11      30       0  \n",
       "115332   41.934413 -87.724606    170334      2    4    12       0       0  \n",
       "\n",
       "[350000 rows x 21 columns]"
      ]
     },
     "execution_count": 99,
     "metadata": {},
     "output_type": "execute_result"
    }
   ],
   "source": [
    "dfnew"
   ]
  },
  {
   "cell_type": "code",
   "execution_count": 100,
   "metadata": {
    "executionInfo": {
     "elapsed": 197,
     "status": "ok",
     "timestamp": 1650765294464,
     "user": {
      "displayName": "Sayli Baser",
      "userId": "16837155984769911263"
     },
     "user_tz": 300
    },
    "id": "UEQpZISEPI6C"
   },
   "outputs": [],
   "source": [
    "X = dfnew.iloc[:,:-1]\n",
    "y = dfnew.iloc[:,-1]\n",
    "X_train, X_test, y_train, y_test = train_test_split(X, y, test_size=0.33, random_state=1)\n"
   ]
  },
  {
   "cell_type": "markdown",
   "metadata": {
    "id": "VtNze_LSPI6C"
   },
   "source": [
    "### Using ANOVA f-test for feature selection of numerical variables"
   ]
  },
  {
   "cell_type": "code",
   "execution_count": 101,
   "metadata": {
    "executionInfo": {
     "elapsed": 743,
     "status": "ok",
     "timestamp": 1650765300001,
     "user": {
      "displayName": "Sayli Baser",
      "userId": "16837155984769911263"
     },
     "user_tz": 300
    },
    "id": "UYAHuQTTPI6D"
   },
   "outputs": [],
   "source": [
    "# feature selection\n",
    "def select_features(X_train, y_train, X_test):\n",
    "# configure to select all features\n",
    "    fs = SelectKBest(score_func=f_classif, k='all')\n",
    "# learn relationship from training data\n",
    "    fs.fit(X_train, y_train)\n",
    "# transform train input data\n",
    "    X_train_fs = fs.transform(X_train)\n",
    "# transform test input data\n",
    "    X_test_fs = fs.transform(X_test)\n",
    "    return X_train_fs, X_test_fs, fs"
   ]
  },
  {
   "cell_type": "code",
   "execution_count": 102,
   "metadata": {
    "executionInfo": {
     "elapsed": 513,
     "status": "ok",
     "timestamp": 1650765303177,
     "user": {
      "displayName": "Sayli Baser",
      "userId": "16837155984769911263"
     },
     "user_tz": 300
    },
    "id": "gV_nGnQSPI6D"
   },
   "outputs": [],
   "source": [
    "# feature selection\n",
    "X_train_fs, X_test_fs, fs = select_features(X_train, y_train, X_test)"
   ]
  },
  {
   "cell_type": "code",
   "execution_count": 103,
   "metadata": {
    "colab": {
     "base_uri": "https://localhost:8080/",
     "height": 612
    },
    "executionInfo": {
     "elapsed": 289,
     "status": "ok",
     "timestamp": 1650765306940,
     "user": {
      "displayName": "Sayli Baser",
      "userId": "16837155984769911263"
     },
     "user_tz": 300
    },
    "id": "TgGlvr2kPI6E",
    "outputId": "134531c4-d52f-4f3e-aa7a-41c14622648f"
   },
   "outputs": [
    {
     "name": "stdout",
     "output_type": "stream",
     "text": [
      "Feature 0: 0.907808\n",
      "Feature 1: 3.692711\n",
      "Feature 2: 9.257246\n",
      "Feature 3: 4.142993\n",
      "Feature 4: 0.804952\n",
      "Feature 5: 0.833800\n",
      "Feature 6: 0.835456\n",
      "Feature 7: 0.876180\n",
      "Feature 8: 1.487922\n",
      "Feature 9: 7.279967\n",
      "Feature 10: 1.177274\n",
      "Feature 11: 1.170858\n",
      "Feature 12: 2.599957\n",
      "Feature 13: 1.165896\n",
      "Feature 14: 1.210968\n",
      "Feature 15: 1.174205\n",
      "Feature 16: 1.665222\n",
      "Feature 17: 0.783685\n",
      "Feature 18: 0.912390\n",
      "Feature 19: 3.279349\n"
     ]
    },
    {
     "data": {
      "image/png": "[encoded data removed]",
      "text/plain": [
       "<Figure size 432x288 with 1 Axes>"
      ]
     },
     "metadata": {
      "needs_background": "light"
     },
     "output_type": "display_data"
    }
   ],
   "source": [
    "# what are scores for the features\n",
    "for i in range(len(fs.scores_)):\n",
    "\tprint('Feature %d: %f' % (i, fs.scores_[i]))\n",
    "# plot the scores\n",
    "pyplot.bar([i for i in range(len(fs.scores_))], fs.scores_)\n",
    "pyplot.show()"
   ]
  },
  {
   "cell_type": "markdown",
   "metadata": {
    "id": "dCHgo02aPI6E"
   },
   "source": [
    "## Because of their low scores, all features except \n",
    "* Arrest\n",
    "* Domestic\n",
    "* Year\n",
    "* Month\n",
    "* Day\n",
    "* Hour\n",
    "* Longitude\n",
    "* Latitude\n",
    "* FBI Code\n",
    "* Location Description are selected as important features. \n"
   ]
  },
  {
   "cell_type": "code",
   "execution_count": 104,
   "metadata": {
    "colab": {
     "base_uri": "https://localhost:8080/"
    },
    "executionInfo": {
     "elapsed": 313,
     "status": "ok",
     "timestamp": 1650765312648,
     "user": {
      "displayName": "Sayli Baser",
      "userId": "16837155984769911263"
     },
     "user_tz": 300
    },
    "id": "ZWcMtORPPI6E",
    "outputId": "f4568757-68f5-4492-f47f-f229200ba70d"
   },
   "outputs": [
    {
     "name": "stdout",
     "output_type": "stream",
     "text": [
      "Full Features:  ['Arrest', 'Domestic', 'Year', 'Month', 'Day', 'Hour', 'Longitude', 'Latitude', 'FBI Code', 'Location Description', 'Block']\n"
     ]
    }
   ],
   "source": [
    "# At Current Point, the attributes is select manually based on Feature Selection Part. \n",
    "Features = [\"Arrest\",\"Domestic\",\"Year\",\"Month\",\"Day\",\"Hour\",\"Longitude\",\"Latitude\",\"FBI Code\",\"Location Description\",\"Block\"]\n",
    "print('Full Features: ', Features)\n",
    "#,\"FBI Code\"\n",
    "\n",
    "#Block\tIUCR\tPrimary Type\tDescription\tFBI Code,Location Description\tArrest\tDomestic\tBeat\tDistrict\tWard\t...\tY Coordinate\tYear\tLatitude\tLongitude\tLocation\tMonth\tDay\tHour\tMinute\tSecond\n",
    "##\n",
    "#"
   ]
  },
  {
   "cell_type": "code",
   "execution_count": 105,
   "metadata": {},
   "outputs": [],
   "source": [
    "# df = df.sample(n=10000)"
   ]
  },
  {
   "cell_type": "markdown",
   "metadata": {
    "id": "nElLx30XPI6F"
   },
   "source": [
    "#### Splitting data into train and test"
   ]
  },
  {
   "cell_type": "code",
   "execution_count": 106,
   "metadata": {
    "colab": {
     "base_uri": "https://localhost:8080/"
    },
    "executionInfo": {
     "elapsed": 258,
     "status": "ok",
     "timestamp": 1650767757802,
     "user": {
      "displayName": "Sayli Baser",
      "userId": "16837155984769911263"
     },
     "user_tz": 300
    },
    "id": "X8vAcSI2PI6F",
    "outputId": "6bfd6a14-d41e-40aa-cd94-65a6838f0d77"
   },
   "outputs": [
    {
     "name": "stdout",
     "output_type": "stream",
     "text": [
      "Feature Set Used    :  ['Arrest', 'Domestic', 'Year', 'Month', 'Day', 'Hour', 'Longitude', 'Latitude', 'FBI Code', 'Location Description', 'Block']\n",
      "Target Class        :  Primary Type\n",
      "Training Set Size   :  (280000, 23)\n",
      "Test Set Size       :  (70000, 23)\n"
     ]
    }
   ],
   "source": [
    "#Split dataset to Training Set & Test Set\n",
    "x, y = train_test_split(df, \n",
    "                        test_size = 0.2, \n",
    "                        train_size = 0.8, \n",
    "                        random_state= 3)\n",
    "\n",
    "x1 = x[Features]    #Features to train\n",
    "x2 = x[Target]      #Target Class to train\n",
    "y1 = y[Features]    #Features to test\n",
    "y2 = y[Target]      #Target Class to test\n",
    "\n",
    "print('Feature Set Used    : ', Features)\n",
    "print('Target Class        : ', Target)\n",
    "print('Training Set Size   : ', x.shape)\n",
    "print('Test Set Size       : ', y.shape)"
   ]
  },
  {
   "cell_type": "markdown",
   "metadata": {
    "id": "VBgc28FrPI6G"
   },
   "source": [
    "## Machine Learning Models"
   ]
  },
  {
   "cell_type": "markdown",
   "metadata": {
    "id": "p8QPlmyIPI6G"
   },
   "source": [
    "## K-NN"
   ]
  },
  {
   "cell_type": "code",
   "execution_count": 107,
   "metadata": {
    "executionInfo": {
     "elapsed": 902,
     "status": "ok",
     "timestamp": 1650767763482,
     "user": {
      "displayName": "Sayli Baser",
      "userId": "16837155984769911263"
     },
     "user_tz": 300
    },
    "id": "NcUm6ANcPI6G"
   },
   "outputs": [],
   "source": [
    "# K-Nearest Neighbors\n",
    "# Create Model with configuration \n",
    "knn_model = KNeighborsClassifier(n_neighbors=3)\n",
    "\n",
    "# Model Training\n",
    "knn_model.fit(X=x1,y=x2)\n",
    "\n",
    "# Prediction\n",
    "result = knn_model.predict(y[Features]) "
   ]
  },
  {
   "cell_type": "code",
   "execution_count": 108,
   "metadata": {
    "colab": {
     "base_uri": "https://localhost:8080/"
    },
    "executionInfo": {
     "elapsed": 181,
     "status": "ok",
     "timestamp": 1650767774620,
     "user": {
      "displayName": "Sayli Baser",
      "userId": "16837155984769911263"
     },
     "user_tz": 300
    },
    "id": "29whGcP-PI6H",
    "outputId": "defe0ee8-5917-44b9-d68b-aa4f87c699b0"
   },
   "outputs": [
    {
     "name": "stdout",
     "output_type": "stream",
     "text": [
      "========== K-Nearest Neighbors Results ==========\n",
      "Accuracy    :  0.392\n",
      "Recall      :  0.392\n",
      "Precision   :  0.358\n",
      "F1 Score    :  0.392\n",
      "Confusion Matrix: \n",
      "[[12294   517   879   591   739    84     0     1     4     0   728    18\n",
      "      0     3     0     0     0     2     0     0]\n",
      " [ 1174   257   133    85    85    20     0     0     5     0    77     3\n",
      "      0     0     0     0     0     1     0     0]\n",
      " [ 2224   214   689   369   504   276     0     2     2     0   187     5\n",
      "      0     0     0     0     0     1     0     0]\n",
      " [ 1926   159   514   571   473   130     0     0     3     0   190     4\n",
      "      0     0     0     0     0     2     0     0]\n",
      " [ 3236   280  1055   747  1391   567     7     4     0     0   209    10\n",
      "      2     0     0     0     0     2     0     0]\n",
      " [  783   180  1022   766  1597  7209    20    61    42     4    35   865\n",
      "     92     0     9    27     0     1     0     5]\n",
      " [   50    13    37    34    50   113     0     1     0     0     2     2\n",
      "      2     0     0     0     0     0     0     0]\n",
      " [   79     9    22    16    35   319     1    15     5     0     5    97\n",
      "      7     0     2     5     0     0     0     0]\n",
      " [   73    12    20    17    41   765    10    30  1405    11     1   478\n",
      "    194     4    19   214    26     2     0     0]\n",
      " [    8     4     8     3    22   125     0     0     7     1     0    41\n",
      "      9     0     1     4     0     1     0     0]\n",
      " [ 2602   140   384   262   273    35     1     1     0     0   445     6\n",
      "      0     0     0     0     0     0     1     0]\n",
      " [  192    34   134    98   236  2747    20   101   230    24    12  2336\n",
      "    164     1    20   123     5     1     0     4]\n",
      " [   22     4    34    35    76  1406     8    49   229    14     2   609\n",
      "    195     0    22   103     4     0     0     1]\n",
      " [   65     7    15     7    17    46     0     1   142     1    10    70\n",
      "     18    18     2    18    16     2     0     0]\n",
      " [    2     0     2     0     3    90     0     6    34     1     0    79\n",
      "     17     1   139    22     1     0     0     0]\n",
      " [   19     5    20    23    73   955     7    68   565    17     2   688\n",
      "    129     1    28   439    13     0     0     1]\n",
      " [    6     0     6     4    12   157     2    13   233     1     0   230\n",
      "     52     6     4    85    15     0     0     0]\n",
      " [  125    14    21    16    23    37     1     1   143     3    10    21\n",
      "     22    15     0    47    18    19     0     0]\n",
      " [   16     2     4     3     2    12     0     2    39     0     1    13\n",
      "      6     1     3    13     3     1     1     0]\n",
      " [    9     2    16     7    33   167     3     2     6     1     1    61\n",
      "      4     0     1     3     0     0     0     0]]\n"
     ]
    }
   ],
   "source": [
    "# Model Evaluation\n",
    "ac_sc_knn = round(accuracy_score(y2, result), 3)\n",
    "rc_sc_knn = round(recall_score(y2, result, average=\"weighted\"), 3)\n",
    "pr_sc_knn = round(precision_score(y2, result, average=\"weighted\"), 3)\n",
    "f1_sc_knn = round(f1_score(y2, result, average='micro'), 3)\n",
    "confusion_knn = confusion_matrix(y2, result)\n",
    "\n",
    "print(\"========== K-Nearest Neighbors Results ==========\")\n",
    "print(\"Accuracy    : \", ac_sc_knn)\n",
    "print(\"Recall      : \", rc_sc_knn)\n",
    "print(\"Precision   : \", pr_sc_knn)\n",
    "print(\"F1 Score    : \", f1_sc_knn)\n",
    "print(\"Confusion Matrix: \")\n",
    "print(confusion_knn)"
   ]
  },
  {
   "cell_type": "markdown",
   "metadata": {},
   "source": [
    "## Logistic Regression"
   ]
  },
  {
   "cell_type": "code",
   "execution_count": 109,
   "metadata": {
    "executionInfo": {
     "elapsed": 260,
     "status": "ok",
     "timestamp": 1650767781559,
     "user": {
      "displayName": "Sayli Baser",
      "userId": "16837155984769911263"
     },
     "user_tz": 300
    },
    "id": "xanErOKmPI6H"
   },
   "outputs": [],
   "source": [
    "from sklearn.linear_model import LogisticRegression \n",
    "from sklearn import preprocessing"
   ]
  },
  {
   "cell_type": "code",
   "execution_count": 110,
   "metadata": {
    "executionInfo": {
     "elapsed": 24319,
     "status": "ok",
     "timestamp": 1650767806950,
     "user": {
      "displayName": "Sayli Baser",
      "userId": "16837155984769911263"
     },
     "user_tz": 300
    },
    "id": "-fCesEfGPI6I"
   },
   "outputs": [],
   "source": [
    "# Logistic Regression \n",
    "# Rescaling train and test features \n",
    "scaler1 = preprocessing.StandardScaler().fit(x1) \n",
    "scaler2 = preprocessing.StandardScaler().fit(y1) \n",
    " \n",
    "x1_scaled = scaler1.transform(x1) \n",
    "y1_scaled = scaler2.transform(y1) \n",
    " \n",
    "# Create Model with configuration  \n",
    "lr_model = LogisticRegression(random_state = 0, max_iter = 1000) \n",
    " \n",
    "# Model Training \n",
    "lr_model.fit(X=x1_scaled, \n",
    "             y=x2) \n",
    " \n",
    "# Prediction \n",
    "result = lr_model.predict(y1_scaled)"
   ]
  },
  {
   "cell_type": "code",
   "execution_count": 111,
   "metadata": {
    "colab": {
     "base_uri": "https://localhost:8080/"
    },
    "executionInfo": {
     "elapsed": 25,
     "status": "ok",
     "timestamp": 1650767806952,
     "user": {
      "displayName": "Sayli Baser",
      "userId": "16837155984769911263"
     },
     "user_tz": 300
    },
    "id": "VnSL-ijjPI6I",
    "outputId": "5edbf586-a547-4590-ce16-f6800b6b1e65"
   },
   "outputs": [
    {
     "name": "stdout",
     "output_type": "stream",
     "text": [
      "========== Logistic Regression Results ==========\n",
      "Accuracy    :  0.805\n",
      "Recall      :  0.805\n",
      "Precision   :  0.785\n",
      "F1 Score    :  0.805\n",
      "Confusion Matrix: \n",
      "[[15860     0     0     0     0     0     0     0     0     0     0     0\n",
      "      0     0     0     0     0     0     0     0]\n",
      " [    0  1100     0     0     0     0     0     0     0     0   740     0\n",
      "      0     0     0     0     0     0     0     0]\n",
      " [    0     0  1675  1600   765   414     0     9     0     0     0    10\n",
      "      0     0     0     0     0     0     0     0]\n",
      " [    0     0   252  1658  2062     0     0     0     0     0     0     0\n",
      "      0     0     0     0     0     0     0     0]\n",
      " [    0     0   188     0  7321     1     0     0     0     0     0     0\n",
      "      0     0     0     0     0     0     0     0]\n",
      " [    0     0     0     0   358 11212     0     0     0     0     0  1148\n",
      "      0     0     0     0     0     0     0     0]\n",
      " [    0     0     0     0     0   296     0     0     0     0     0     8\n",
      "      0     0     0     0     0     0     0     0]\n",
      " [    0    24     0     0     0    89     0     0     0     0    57   447\n",
      "      0     0     0     0     0     0     0     0]\n",
      " [    0     0     0     0     0     8     0     0  2333     0     0    18\n",
      "      0     4    15   741   159    44     0     0]\n",
      " [    0     0     0     0     0   179     0     0     0     0     0    55\n",
      "      0     0     0     0     0     0     0     0]\n",
      " [    0   416     8     0     0    19     0     0     0     0  3707     0\n",
      "      0     0     0     0     0     0     0     0]\n",
      " [    0   146     0     0     0     7     0     0     0     0   124  6161\n",
      "     44     0     0     0     0     0     0     0]\n",
      " [    0     0     0     0     0     2     0     0     6     0     0   255\n",
      "   2423     0     0    94     0    33     0     0]\n",
      " [    0    11    20    15     0     2     0     0   156     0    63    11\n",
      "      1     0     0     2   169     4     1     0]\n",
      " [    0     0     0     0     0     0     0     0     4     0     0   392\n",
      "      0     0     0     1     0     0     0     0]\n",
      " [    0     0     0     0     0     0     0     0   601     0     0   117\n",
      "     12     0     6  2227    63    27     0     0]\n",
      " [    0     0     0     0     0     0     0     0   221     0     0     0\n",
      "      0     1     8    36   557     3     0     0]\n",
      " [    0    14     2     0     0    49     0     0   123     0   177     2\n",
      "      0    45     0     0    12   107     5     0]\n",
      " [    0     0     0     0     0     0     0     0    84     0     0     0\n",
      "      0     3     0     2    24     4     5     0]\n",
      " [    0     7     0     0     0    21     0     0     0     0     1   287\n",
      "      0     0     0     0     0     0     0     0]]\n"
     ]
    },
    {
     "name": "stderr",
     "output_type": "stream",
     "text": [
      "/Users/mine/opt/anaconda3/lib/python3.9/site-packages/sklearn/metrics/_classification.py:1248: UndefinedMetricWarning: Precision is ill-defined and being set to 0.0 in labels with no predicted samples. Use `zero_division` parameter to control this behavior.\n",
      "  _warn_prf(average, modifier, msg_start, len(result))\n"
     ]
    }
   ],
   "source": [
    "ac_sc_lgstc = round(accuracy_score(y2, result), 3)\n",
    "rc_sc_lgstc = round(recall_score(y2, result, average=\"weighted\"), 3)\n",
    "pr_sc_lgstc = round(precision_score(y2, result, average=\"weighted\"), 3)\n",
    "f1_sc_lgstc = round(f1_score(y2, result, average='micro'), 3)\n",
    "confusion_lgstc = confusion_matrix(y2, result) \n",
    "\n",
    "print(\"========== Logistic Regression Results ==========\") \n",
    "print(\"Accuracy    : \", ac_sc_lgstc) \n",
    "print(\"Recall      : \", rc_sc_lgstc) \n",
    "print(\"Precision   : \", pr_sc_lgstc) \n",
    "print(\"F1 Score    : \", f1_sc_lgstc) \n",
    "print(\"Confusion Matrix: \") \n",
    "print(confusion_lgstc)"
   ]
  },
  {
   "cell_type": "code",
   "execution_count": 112,
   "metadata": {
    "colab": {
     "base_uri": "https://localhost:8080/",
     "height": 279
    },
    "executionInfo": {
     "elapsed": 231,
     "status": "ok",
     "timestamp": 1650768781838,
     "user": {
      "displayName": "Sayli Baser",
      "userId": "16837155984769911263"
     },
     "user_tz": 300
    },
    "id": "Sn7E7xIPbFXA",
    "outputId": "63077c96-8f4a-43fc-a59e-793b54e1b9df"
   },
   "outputs": [
    {
     "data": {
      "image/png": "[encoded data removed]",
      "text/plain": [
       "<Figure size 432x288 with 1 Axes>"
      ]
     },
     "metadata": {
      "needs_background": "light"
     },
     "output_type": "display_data"
    }
   ],
   "source": [
    "\n",
    "y_pred_proba = lr_model.predict_proba(y1_scaled)[::,1]\n",
    "fpr,tpr,_= metrics.roc_curve(y2,  y_pred_proba,pos_label=2)\n",
    "#create ROC curve\n",
    "plt.plot(fpr,tpr)\n",
    "plt.ylabel('True Positive Rate')\n",
    "plt.xlabel('False Positive Rate')\n",
    "plt.show()"
   ]
  },
  {
   "cell_type": "code",
   "execution_count": 113,
   "metadata": {
    "colab": {
     "base_uri": "https://localhost:8080/"
    },
    "executionInfo": {
     "elapsed": 182,
     "status": "ok",
     "timestamp": 1650768871724,
     "user": {
      "displayName": "Sayli Baser",
      "userId": "16837155984769911263"
     },
     "user_tz": 300
    },
    "id": "_rSertW0fe8p",
    "outputId": "36bb2dc3-facf-4b76-e8ab-656a538a1501"
   },
   "outputs": [
    {
     "data": {
      "text/plain": [
       "0.7871340955935481"
      ]
     },
     "execution_count": 113,
     "metadata": {},
     "output_type": "execute_result"
    }
   ],
   "source": [
    "metrics.auc(fpr,tpr)"
   ]
  },
  {
   "cell_type": "code",
   "execution_count": 114,
   "metadata": {
    "colab": {
     "base_uri": "https://localhost:8080/",
     "height": 295
    },
    "executionInfo": {
     "elapsed": 249,
     "status": "ok",
     "timestamp": 1650770747982,
     "user": {
      "displayName": "Sayli Baser",
      "userId": "16837155984769911263"
     },
     "user_tz": 300
    },
    "id": "Q0tOl_bqPI6J",
    "outputId": "13d64d80-c3e0-46d2-db7d-0349cb8988fb"
   },
   "outputs": [
    {
     "data": {
      "image/png": "[encoded data removed]",
      "text/plain": [
       "<Figure size 432x288 with 1 Axes>"
      ]
     },
     "metadata": {
      "needs_background": "light"
     },
     "output_type": "display_data"
    }
   ],
   "source": [
    "import numpy as np \n",
    "import matplotlib.pyplot as plt \n",
    "  \n",
    "X = ['Accuracy','Precision','F score']\n",
    "knn = [ac_sc_knn,pr_sc_knn,f1_sc_knn]\n",
    "logistic = [ac_sc_lgstc,pr_sc_lgstc,f1_sc_lgstc]\n",
    "\n",
    "\n",
    "  \n",
    "X_axis = np.arange(len(X))\n",
    "  \n",
    "plt.bar(X_axis - 0.2, knn, 0.4, label = 'knn')\n",
    "plt.bar(X_axis + 0.2, logistic, 0.4, label = 'logistic')\n",
    "  \n",
    "plt.xticks(X_axis, X)\n",
    "plt.xlabel(\".\")\n",
    "plt.ylabel(\"rate\")\n",
    "plt.title(\"models' performance comparison\")\n",
    "plt.legend()\n",
    "plt.ylim([0.6, 0.85])\n",
    "plt.show()"
   ]
  },
  {
   "cell_type": "markdown",
   "metadata": {},
   "source": [
    "## Random Forest"
   ]
  },
  {
   "cell_type": "code",
   "execution_count": 48,
   "metadata": {},
   "outputs": [],
   "source": [
    "df_extra = df.copy()"
   ]
  },
  {
   "cell_type": "code",
   "execution_count": 49,
   "metadata": {},
   "outputs": [],
   "source": [
    "df_extra = df_extra.sample(n=10000)"
   ]
  },
  {
   "cell_type": "code",
   "execution_count": 50,
   "metadata": {},
   "outputs": [
    {
     "name": "stdout",
     "output_type": "stream",
     "text": [
      "Feature Set Used    :  ['Arrest', 'Domestic', 'Year', 'Month', 'Day', 'Hour', 'Longitude', 'Latitude', 'FBI Code', 'Location Description']\n",
      "Target Class        :  Primary Type\n",
      "Training Set Size   :  (280000, 23)\n",
      "Test Set Size       :  (70000, 23)\n"
     ]
    }
   ],
   "source": [
    "#Split dataset to Training Set & Test Set\n",
    "X, Y = train_test_split(df_extra, \n",
    "                        test_size = 0.2, \n",
    "                        train_size = 0.8, \n",
    "                        random_state= 3)\n",
    "\n",
    "X1 = X[Features]    #Features to train\n",
    "X2 = X[Target]      #Target Class to train\n",
    "Y1 = Y[Features]    #Features to test\n",
    "Y2 = Y[Target]      #Target Class to test\n",
    "\n",
    "print('Feature Set Used    : ', Features)\n",
    "print('Target Class        : ', Target)\n",
    "print('Training Set Size   : ', x.shape)\n",
    "print('Test Set Size       : ', y.shape)"
   ]
  },
  {
   "cell_type": "code",
   "execution_count": 51,
   "metadata": {
    "executionInfo": {
     "elapsed": 7075,
     "status": "ok",
     "timestamp": 1650770759330,
     "user": {
      "displayName": "Sayli Baser",
      "userId": "16837155984769911263"
     },
     "user_tz": 300
    },
    "id": "g5wfLDjZPI6J"
   },
   "outputs": [],
   "source": [
    "from sklearn.ensemble import RandomForestClassifier\n",
    "\n",
    "#Random Forest Classifier\n",
    "clf=RandomForestClassifier(n_estimators=100)\n",
    "\n",
    "#Model Training\n",
    "clf.fit(X1,X2)\n",
    "\n",
    "#Prediction\n",
    "y_pred=clf.predict(Y1)"
   ]
  },
  {
   "cell_type": "code",
   "execution_count": 52,
   "metadata": {
    "colab": {
     "base_uri": "https://localhost:8080/"
    },
    "executionInfo": {
     "elapsed": 238,
     "status": "ok",
     "timestamp": 1650770772421,
     "user": {
      "displayName": "Sayli Baser",
      "userId": "16837155984769911263"
     },
     "user_tz": 300
    },
    "id": "Pi8maNUYPI6K",
    "outputId": "bd0a8b51-83e9-44bd-a5f1-6b0431c4c74b"
   },
   "outputs": [
    {
     "name": "stdout",
     "output_type": "stream",
     "text": [
      "========== Random Forest Results ==========\n",
      "Accuracy    :  0.946\n",
      "Recall      :  0.946\n",
      "Precision   :  0.94\n",
      "F1 Score    :  0.946\n",
      "Confusion Matrix: \n",
      "[[440   0   0   0   0   0   0   0   0   0   0   0   0   0   0   0   0   0\n",
      "    0   0]\n",
      " [  0  28   0   0   1   0   0   0   0   0  13   0   0   0   0   0   0   0\n",
      "    0   0]\n",
      " [  0   0 127   0   2   0   0   0   0   0   0   0   0   0   0   0   0   0\n",
      "    0   0]\n",
      " [  0   0   3 126   0   0   0   0   0   0   0   0   0   0   0   0   0   0\n",
      "    0   0]\n",
      " [  0   0   3   0 203   0   0   0   0   0   0   0   0   0   0   0   0   0\n",
      "    0   0]\n",
      " [  0   0   0   0   0 348   0   0   0   0   0   0   0   0   0   0   0   0\n",
      "    0   0]\n",
      " [  0   0   0   0   0   9   0   0   0   0   0   0   0   0   0   0   0   0\n",
      "    0   0]\n",
      " [  0   3   0   0   0   5   0  14   0   0   2   0   0   0   0   0   0   0\n",
      "    0   2]\n",
      " [  0   0   0   0   0   3   0   0 100   0   0   0   0   0   1   3   0   0\n",
      "    0   0]\n",
      " [  0   0   0   0   0   3   0   1   0   2   0   1   1   0   0   0   0   0\n",
      "    0   0]\n",
      " [  0  12   0   0   0   0   0   0   0   0 114   0   0   0   0   0   0   0\n",
      "    0   0]\n",
      " [  0   0   0   0   0   0   0   0   0   0   2 164   2   0   0   0   0   0\n",
      "    0   0]\n",
      " [  0   0   0   0   0   1   0   0   0   0   0   5  86   0   0   0   0   0\n",
      "    0   0]\n",
      " [  0   0   0   0   0   0   0   0   0   0   2   0   0   7   0   1   2   0\n",
      "    0   0]\n",
      " [  0   0   0   0   0   0   0   0   0   0   0   0   0   0  11   0   0   0\n",
      "    0   0]\n",
      " [  0   0   0   0   0   0   0   0   1   0   0   0   0   0   0  87   1   0\n",
      "    0   0]\n",
      " [  0   0   0   0   0   0   0   0   4   0   0   0   0   0   0   1  26   0\n",
      "    0   0]\n",
      " [  0   0   0   0   0   0   0   0   0   1   7   0   0   1   0   0   1   6\n",
      "    0   0]\n",
      " [  0   0   0   0   0   0   0   0   0   0   0   0   0   0   0   0   2   0\n",
      "    0   0]\n",
      " [  0   1   0   0   0   0   0   5   0   0   0   0   0   0   0   0   0   0\n",
      "    0   3]]\n"
     ]
    },
    {
     "name": "stderr",
     "output_type": "stream",
     "text": [
      "/Users/mine/opt/anaconda3/lib/python3.9/site-packages/sklearn/metrics/_classification.py:1248: UndefinedMetricWarning: Precision is ill-defined and being set to 0.0 in labels with no predicted samples. Use `zero_division` parameter to control this behavior.\n",
      "  _warn_prf(average, modifier, msg_start, len(result))\n"
     ]
    }
   ],
   "source": [
    "# Model Evaluation\n",
    "ac_sc_rf = accuracy_score(Y2, y_pred)\n",
    "rc_sc_rf = recall_score(Y2, y_pred, average=\"weighted\")\n",
    "pr_sc_rf = round(precision_score(Y2, y_pred, average=\"weighted\"),3 )\n",
    "f1_sc_rf = f1_score(Y2, y_pred, average='micro')\n",
    "confusion_rf = confusion_matrix(Y2, y_pred)\n",
    "\n",
    "print(\"========== Random Forest Results ==========\")\n",
    "print(\"Accuracy    : \", ac_sc_rf)\n",
    "print(\"Recall      : \", rc_sc_rf)\n",
    "print(\"Precision   : \", pr_sc_rf)\n",
    "print(\"F1 Score    : \", f1_sc_rf)\n",
    "print(\"Confusion Matrix: \")\n",
    "print(confusion_rf)"
   ]
  },
  {
   "cell_type": "code",
   "execution_count": 53,
   "metadata": {
    "colab": {
     "base_uri": "https://localhost:8080/",
     "height": 279
    },
    "executionInfo": {
     "elapsed": 847,
     "status": "ok",
     "timestamp": 1650770926206,
     "user": {
      "displayName": "Sayli Baser",
      "userId": "16837155984769911263"
     },
     "user_tz": 300
    },
    "id": "JovYZk1umyPJ",
    "outputId": "f261931e-4c5f-4911-f7b0-5eaa792f05bd"
   },
   "outputs": [
    {
     "data": {
      "image/png": "[encoded data removed]",
      "text/plain": [
       "<Figure size 432x288 with 1 Axes>"
      ]
     },
     "metadata": {
      "needs_background": "light"
     },
     "output_type": "display_data"
    }
   ],
   "source": [
    "y_pred_proba = clf.predict_proba(Y1)[::,1]\n",
    "fpr,tpr,_= metrics.roc_curve(Y2,  y_pred_proba,pos_label=2)\n",
    "#create ROC curve\n",
    "plt.plot(fpr,tpr)\n",
    "plt.ylabel('True Positive Rate')\n",
    "plt.xlabel('False Positive Rate')\n",
    "plt.show()"
   ]
  },
  {
   "cell_type": "code",
   "execution_count": 54,
   "metadata": {
    "colab": {
     "base_uri": "https://localhost:8080/"
    },
    "executionInfo": {
     "elapsed": 210,
     "status": "ok",
     "timestamp": 1650770998227,
     "user": {
      "displayName": "Sayli Baser",
      "userId": "16837155984769911263"
     },
     "user_tz": 300
    },
    "id": "OzolDbOtngzQ",
    "outputId": "084c2aec-385b-4bd1-9290-ba81041236f1"
   },
   "outputs": [
    {
     "data": {
      "text/plain": [
       "0.6863427508400349"
      ]
     },
     "execution_count": 54,
     "metadata": {},
     "output_type": "execute_result"
    }
   ],
   "source": [
    "metrics.auc(fpr,tpr)"
   ]
  },
  {
   "cell_type": "markdown",
   "metadata": {},
   "source": [
    "## Ada Boost"
   ]
  },
  {
   "cell_type": "code",
   "execution_count": 184,
   "metadata": {
    "executionInfo": {
     "elapsed": 6898,
     "status": "ok",
     "timestamp": 1650771084707,
     "user": {
      "displayName": "Sayli Baser",
      "userId": "16837155984769911263"
     },
     "user_tz": 300
    },
    "id": "fWe-VtIuPI6K"
   },
   "outputs": [],
   "source": [
    "# Ada Boost \n",
    "# Using Decision Tree as Base Estimator as default\n",
    "from sklearn.ensemble import AdaBoostClassifier\n",
    "# Create adaboost classifer object\n",
    "abc = AdaBoostClassifier(n_estimators=50,\n",
    "                         learning_rate=1)\n",
    "# Train Adaboost Classifer\n",
    "model = abc.fit(X1, X2)\n",
    "\n",
    "#Predict the response for test dataset\n",
    "y_pred = model.predict(Y1)"
   ]
  },
  {
   "cell_type": "code",
   "execution_count": 185,
   "metadata": {
    "colab": {
     "base_uri": "https://localhost:8080/",
     "height": 279
    },
    "executionInfo": {
     "elapsed": 1028,
     "status": "ok",
     "timestamp": 1650771089873,
     "user": {
      "displayName": "Sayli Baser",
      "userId": "16837155984769911263"
     },
     "user_tz": 300
    },
    "id": "xNIn_ndfnd4F",
    "outputId": "3ca88930-ecfa-4efe-dd96-70dab2de88a8"
   },
   "outputs": [
    {
     "data": {
      "image/png": "[encoded data removed]",
      "text/plain": [
       "<Figure size 432x288 with 1 Axes>"
      ]
     },
     "metadata": {},
     "output_type": "display_data"
    }
   ],
   "source": [
    "y_pred_proba = model.predict_proba(Y1)[::,1]\n",
    "fpr,tpr,_= metrics.roc_curve(Y2,  y_pred_proba,pos_label=2)\n",
    "#create ROC curve\n",
    "plt.plot(fpr,tpr)\n",
    "plt.ylabel('True Positive Rate')\n",
    "plt.xlabel('False Positive Rate')\n",
    "plt.show()"
   ]
  },
  {
   "cell_type": "code",
   "execution_count": 186,
   "metadata": {
    "colab": {
     "base_uri": "https://localhost:8080/"
    },
    "executionInfo": {
     "elapsed": 309,
     "status": "ok",
     "timestamp": 1650771122514,
     "user": {
      "displayName": "Sayli Baser",
      "userId": "16837155984769911263"
     },
     "user_tz": 300
    },
    "id": "wTEDn-4fn-_K",
    "outputId": "ca88eb78-37c2-4066-d634-0ea7de53dd70"
   },
   "outputs": [
    {
     "data": {
      "text/plain": [
       "0.7645023948908994"
      ]
     },
     "execution_count": 186,
     "metadata": {},
     "output_type": "execute_result"
    }
   ],
   "source": [
    "metrics.auc(fpr,tpr)"
   ]
  },
  {
   "cell_type": "code",
   "execution_count": 187,
   "metadata": {
    "colab": {
     "base_uri": "https://localhost:8080/"
    },
    "executionInfo": {
     "elapsed": 210,
     "status": "ok",
     "timestamp": 1650771128275,
     "user": {
      "displayName": "Sayli Baser",
      "userId": "16837155984769911263"
     },
     "user_tz": 300
    },
    "id": "XPRHoL_ePI6L",
    "outputId": "f915e8db-278d-4abb-813b-23c9c4d37593"
   },
   "outputs": [
    {
     "name": "stdout",
     "output_type": "stream",
     "text": [
      "Accuracy: 0.546\n"
     ]
    }
   ],
   "source": [
    "# Model Accuracy, how often is the classifier correct?\n",
    "print(\"Accuracy:\",metrics.accuracy_score(Y2, y_pred))"
   ]
  },
  {
   "cell_type": "code",
   "execution_count": 188,
   "metadata": {
    "colab": {
     "base_uri": "https://localhost:8080/",
     "height": 380
    },
    "executionInfo": {
     "elapsed": 82903,
     "status": "error",
     "timestamp": 1650782790392,
     "user": {
      "displayName": "Sayli Baser",
      "userId": "16837155984769911263"
     },
     "user_tz": 300
    },
    "id": "wNwT4lMePI6M",
    "outputId": "fe4e501b-a809-4806-d6d7-591394b0a7c8"
   },
   "outputs": [],
   "source": [
    "# Using SVC as Base Estimator\n",
    "from sklearn.svm import SVC\n",
    "svc=SVC(probability=True, kernel='rbf')"
   ]
  },
  {
   "cell_type": "code",
   "execution_count": 193,
   "metadata": {},
   "outputs": [
    {
     "name": "stdout",
     "output_type": "stream",
     "text": [
      "Accuracy: 0.653\n"
     ]
    }
   ],
   "source": [
    "\n",
    "abc =AdaBoostClassifier(n_estimators=3, base_estimator=svc,learning_rate=1)\n",
    "\n",
    "# Train Adaboost Classifer\n",
    "model = abc.fit(X1, X2)\n",
    "\n",
    "#Predict the response for test dataset\n",
    "y_pred = model.predict(Y1)\n",
    "\n",
    "\n",
    "# Model Accuracy, how often is the classifier correct?\n",
    "print(\"Accuracy:\",metrics.accuracy_score(Y2, y_pred))"
   ]
  },
  {
   "cell_type": "code",
   "execution_count": 230,
   "metadata": {},
   "outputs": [
    {
     "name": "stdout",
     "output_type": "stream",
     "text": [
      "========== SVM Results ==========\n",
      "Accuracy    :  0.907\n",
      "Recall      :  0.907\n",
      "Precision   :  0.89\n",
      "F1 Score    :  0.907\n",
      "Confusion Matrix: \n",
      "[[471   0   0   0   0   0   0   0   0   0   0   0   0   0   0   0   0   0\n",
      "    0   0]\n",
      " [  0  26   0   0   0   0   0   0   0   0  23   0   0   0   0   0   0   0\n",
      "    0   0]\n",
      " [  0   0  88  23   7   3   0   0   0   0   0   0   0   0   0   0   0   0\n",
      "    0   0]\n",
      " [  0   0  40  72   0   0   0   0   0   0   0   0   0   0   0   0   0   0\n",
      "    0   0]\n",
      " [  0   0   2   0 219   0   0   0   0   0   0   0   0   0   0   0   0   0\n",
      "    0   0]\n",
      " [  0   0   0   0   0 320   0   0   0   0   0   9   0   0   0   0   0   0\n",
      "    0   0]\n",
      " [  0   0   0   0   0   6   0   0   0   0   0   0   0   0   0   0   0   0\n",
      "    0   0]\n",
      " [  0   0   0   0   0   3   0   0   0   0   1  13   0   0   0   0   0   0\n",
      "    0   0]\n",
      " [  0   0   0   0   0   1   0   0 106   0   0   0   0   0   0   0   1   0\n",
      "    0   0]\n",
      " [  0   0   0   0   0   0   0   0   0   5   0   2   0   0   0   0   0   0\n",
      "    0   0]\n",
      " [  0   6   0   0   0   0   0   0   0   0 124   0   0   0   0   0   0   0\n",
      "    0   0]\n",
      " [  0   4   0   0   0   0   0   0   0   0   4 185   0   0   0   0   0   0\n",
      "    0   0]\n",
      " [  0   0   0   0   0   0   0   0   0   0   0   0  87   0   0   0   0   0\n",
      "    0   0]\n",
      " [  0   1   0   0   0   0   0   0   0   0   0   0   0   0   0   0   7   1\n",
      "    0   0]\n",
      " [  0   0   0   0   0   0   0   0   0   0   0   0   6   0   8   0   0   0\n",
      "    0   0]\n",
      " [  0   0   0   0   0   0   0   0   0   0   0   0   0   0   1  86   0   0\n",
      "    0   0]\n",
      " [  0   0   0   0   0   0   0   0   7   0   0   0   0   0   0   0  13   0\n",
      "    0   0]\n",
      " [  0   0   0   0   0   0   0   0   0   0   4   0   0   0   0   0   1   4\n",
      "    1   0]\n",
      " [  0   0   0   0   0   0   0   0   0   0   0   0   0   0   0   0   2   0\n",
      "    0   0]\n",
      " [  0   0   0   0   0   0   0   0   0   0   0   7   0   0   0   0   0   0\n",
      "    0   0]]\n"
     ]
    },
    {
     "name": "stderr",
     "output_type": "stream",
     "text": [
      "C:\\Users\\kvijay7\\Anaconda3\\lib\\site-packages\\sklearn\\metrics\\_classification.py:1248: UndefinedMetricWarning: Precision is ill-defined and being set to 0.0 in labels with no predicted samples. Use `zero_division` parameter to control this behavior.\n",
      "  _warn_prf(average, modifier, msg_start, len(result))\n"
     ]
    }
   ],
   "source": [
    "# Model Evaluation\n",
    "ac_sc_abc = accuracy_score(Y2, y_pred)\n",
    "rc_sc_abc = recall_score(Y2, y_pred, average=\"weighted\")\n",
    "pr_sc_abc = round(precision_score(Y2, y_pred, average=\"weighted\"), 3)\n",
    "f1_sc_abc = f1_score(Y2, y_pred, average='micro')\n",
    "confusion_abc = confusion_matrix(Y2, y_pred)\n",
    "\n",
    "print(\"========== SVM Results ==========\")\n",
    "print(\"Accuracy    : \", ac_sc_abc)\n",
    "print(\"Recall      : \", rc_sc_abc)\n",
    "print(\"Precision   : \", pr_sc_abc)\n",
    "print(\"F1 Score    : \", f1_sc_abc)\n",
    "print(\"Confusion Matrix: \")\n",
    "print(confusion_abc)\n"
   ]
  },
  {
   "cell_type": "markdown",
   "metadata": {},
   "source": [
    "## SVM"
   ]
  },
  {
   "cell_type": "code",
   "execution_count": 231,
   "metadata": {},
   "outputs": [
    {
     "name": "stdout",
     "output_type": "stream",
     "text": [
      "========== SVM Results ==========\n",
      "Accuracy    :  0.907\n",
      "Recall      :  0.907\n",
      "Precision   :  0.89\n",
      "F1 Score    :  0.907\n",
      "Confusion Matrix: \n",
      "[[471   0   0   0   0   0   0   0   0   0   0   0   0   0   0   0   0   0\n",
      "    0   0]\n",
      " [  0  26   0   0   0   0   0   0   0   0  23   0   0   0   0   0   0   0\n",
      "    0   0]\n",
      " [  0   0  88  23   7   3   0   0   0   0   0   0   0   0   0   0   0   0\n",
      "    0   0]\n",
      " [  0   0  40  72   0   0   0   0   0   0   0   0   0   0   0   0   0   0\n",
      "    0   0]\n",
      " [  0   0   2   0 219   0   0   0   0   0   0   0   0   0   0   0   0   0\n",
      "    0   0]\n",
      " [  0   0   0   0   0 320   0   0   0   0   0   9   0   0   0   0   0   0\n",
      "    0   0]\n",
      " [  0   0   0   0   0   6   0   0   0   0   0   0   0   0   0   0   0   0\n",
      "    0   0]\n",
      " [  0   0   0   0   0   3   0   0   0   0   1  13   0   0   0   0   0   0\n",
      "    0   0]\n",
      " [  0   0   0   0   0   1   0   0 106   0   0   0   0   0   0   0   1   0\n",
      "    0   0]\n",
      " [  0   0   0   0   0   0   0   0   0   5   0   2   0   0   0   0   0   0\n",
      "    0   0]\n",
      " [  0   6   0   0   0   0   0   0   0   0 124   0   0   0   0   0   0   0\n",
      "    0   0]\n",
      " [  0   4   0   0   0   0   0   0   0   0   4 185   0   0   0   0   0   0\n",
      "    0   0]\n",
      " [  0   0   0   0   0   0   0   0   0   0   0   0  87   0   0   0   0   0\n",
      "    0   0]\n",
      " [  0   1   0   0   0   0   0   0   0   0   0   0   0   0   0   0   7   1\n",
      "    0   0]\n",
      " [  0   0   0   0   0   0   0   0   0   0   0   0   6   0   8   0   0   0\n",
      "    0   0]\n",
      " [  0   0   0   0   0   0   0   0   0   0   0   0   0   0   1  86   0   0\n",
      "    0   0]\n",
      " [  0   0   0   0   0   0   0   0   7   0   0   0   0   0   0   0  13   0\n",
      "    0   0]\n",
      " [  0   0   0   0   0   0   0   0   0   0   4   0   0   0   0   0   1   4\n",
      "    1   0]\n",
      " [  0   0   0   0   0   0   0   0   0   0   0   0   0   0   0   0   2   0\n",
      "    0   0]\n",
      " [  0   0   0   0   0   0   0   0   0   0   0   7   0   0   0   0   0   0\n",
      "    0   0]]\n"
     ]
    },
    {
     "name": "stderr",
     "output_type": "stream",
     "text": [
      "C:\\Users\\kvijay7\\Anaconda3\\lib\\site-packages\\sklearn\\metrics\\_classification.py:1248: UndefinedMetricWarning: Precision is ill-defined and being set to 0.0 in labels with no predicted samples. Use `zero_division` parameter to control this behavior.\n",
      "  _warn_prf(average, modifier, msg_start, len(result))\n"
     ]
    }
   ],
   "source": [
    "# import support vector classifier\n",
    "# \"Support Vector Classifier\"\n",
    "from sklearn.svm import SVC \n",
    "svm_model = SVC(kernel='linear')\n",
    " \n",
    "# fitting x samples and y classes\n",
    "svm_model.fit(X1, X2)\n",
    "\n",
    "#Predict the response for test dataset\n",
    "y_pred = svm_model.predict(Y1)\n",
    "\n",
    "\n",
    "# Model Evaluation\n",
    "ac_sc_svm = accuracy_score(Y2, y_pred)\n",
    "rc_sc_svm = recall_score(Y2, y_pred, average=\"weighted\")\n",
    "pr_sc_svm = round(precision_score(Y2, y_pred, average=\"weighted\"), 3)\n",
    "f1_sc_svm = f1_score(Y2, y_pred, average='micro')\n",
    "confusion_svm = confusion_matrix(Y2, y_pred)\n",
    "\n",
    "print(\"========== SVM Results ==========\")\n",
    "print(\"Accuracy    : \", ac_sc_svm)\n",
    "print(\"Recall      : \", rc_sc_svm)\n",
    "print(\"Precision   : \", pr_sc_svm)\n",
    "print(\"F1 Score    : \", f1_sc_svm)\n",
    "print(\"Confusion Matrix: \")\n",
    "print(confusion_svm)\n"
   ]
  },
  {
   "cell_type": "code",
   "execution_count": 206,
   "metadata": {},
   "outputs": [
    {
     "name": "stdout",
     "output_type": "stream",
     "text": [
      "Collecting tabulateNote: you may need to restart the kernel to use updated packages.\n",
      "\n",
      "  Downloading tabulate-0.8.9-py3-none-any.whl (25 kB)\n",
      "Installing collected packages: tabulate\n",
      "Successfully installed tabulate-0.8.9\n"
     ]
    }
   ],
   "source": [
    "pip install tabulate"
   ]
  },
  {
   "cell_type": "code",
   "execution_count": 207,
   "metadata": {},
   "outputs": [],
   "source": [
    "from tabulate import tabulate"
   ]
  },
  {
   "cell_type": "code",
   "execution_count": 232,
   "metadata": {},
   "outputs": [],
   "source": [
    "table = [['Model', 'Accuracy', 'Recall', 'Precision', 'F1'], ['Logistic', ac_sc_lgstc, rc_sc_lgstc ,pr_sc_lgstc, f1_sc_lgstc], ['K-NN',ac_sc_knn, rc_sc_knn, pr_sc_knn,f1_sc_knn], ['Ada Boost', ac_sc_abc, rc_sc_abc, pr_sc_abc, f1_sc_abc], ['SVM', ac_sc_svm, rc_sc_svm, pr_sc_svm, f1_sc_svm], ['Random Forest', ac_sc_rf, rc_sc_rf , pr_sc_rf, f1_sc_rf]]"
   ]
  },
  {
   "cell_type": "code",
   "execution_count": 234,
   "metadata": {},
   "outputs": [
    {
     "name": "stdout",
     "output_type": "stream",
     "text": [
      "╒═══════════════╤════════════╤══════════╤═════════════╤═══════╕\n",
      "│ Model         │   Accuracy │   Recall │   Precision │    F1 │\n",
      "╞═══════════════╪════════════╪══════════╪═════════════╪═══════╡\n",
      "│ Logistic      │      0.803 │    0.803 │       0.783 │ 0.803 │\n",
      "├───────────────┼────────────┼──────────┼─────────────┼───────┤\n",
      "│ K-NN          │      0.803 │    0.803 │       0.783 │ 0.803 │\n",
      "├───────────────┼────────────┼──────────┼─────────────┼───────┤\n",
      "│ Ada Boost     │      0.907 │    0.907 │       0.89  │ 0.907 │\n",
      "├───────────────┼────────────┼──────────┼─────────────┼───────┤\n",
      "│ SVM           │      0.907 │    0.907 │       0.89  │ 0.907 │\n",
      "├───────────────┼────────────┼──────────┼─────────────┼───────┤\n",
      "│ Random Forest │      0.907 │    0.907 │       0.89  │ 0.907 │\n",
      "╘═══════════════╧════════════╧══════════╧═════════════╧═══════╛\n"
     ]
    }
   ],
   "source": [
    "print(tabulate(table, headers='firstrow', tablefmt='fancy_grid'))\n"
   ]
  },
  {
   "cell_type": "markdown",
   "metadata": {
    "id": "UuVo1AGKPI6M"
   },
   "source": [
    "### Unsupervised Learning"
   ]
  },
  {
   "cell_type": "code",
   "execution_count": 59,
   "metadata": {
    "id": "6vieoGiVPI6O"
   },
   "outputs": [],
   "source": [
    "# #Unsupervised Learning\n",
    "# #K-Means Clustering\n",
    "from sklearn.cluster import KMeans\n",
    "import matplotlib.pyplot as plt\n",
    "import seaborn as sns\n",
    "import numpy as np\n",
    "sns.set()"
   ]
  },
  {
   "cell_type": "code",
   "execution_count": 60,
   "metadata": {
    "id": "LtcIDvztPI6O"
   },
   "outputs": [
    {
     "data": {
      "image/png": "[encoded data removed]",
      "text/plain": [
       "<Figure size 432x288 with 1 Axes>"
      ]
     },
     "metadata": {},
     "output_type": "display_data"
    }
   ],
   "source": [
    "#Plotting the data\n",
    "plt.scatter(df['Longitude'],df['Latitude'])\n",
    "plt.xlim(-180,180)\n",
    "plt.ylim(-90,90)\n",
    "plt.show()"
   ]
  },
  {
   "cell_type": "code",
   "execution_count": 61,
   "metadata": {},
   "outputs": [
    {
     "data": {
      "text/html": [
       "<div>\n",
       "<style scoped>\n",
       "    .dataframe tbody tr th:only-of-type {\n",
       "        vertical-align: middle;\n",
       "    }\n",
       "\n",
       "    .dataframe tbody tr th {\n",
       "        vertical-align: top;\n",
       "    }\n",
       "\n",
       "    .dataframe thead th {\n",
       "        text-align: right;\n",
       "    }\n",
       "</style>\n",
       "<table border=\"1\" class=\"dataframe\">\n",
       "  <thead>\n",
       "    <tr style=\"text-align: right;\">\n",
       "      <th></th>\n",
       "      <th>Minute</th>\n",
       "      <th>Primary Type</th>\n",
       "    </tr>\n",
       "  </thead>\n",
       "  <tbody>\n",
       "    <tr>\n",
       "      <th>1054303</th>\n",
       "      <td>30</td>\n",
       "      <td>15</td>\n",
       "    </tr>\n",
       "    <tr>\n",
       "      <th>889116</th>\n",
       "      <td>8</td>\n",
       "      <td>5</td>\n",
       "    </tr>\n",
       "    <tr>\n",
       "      <th>454991</th>\n",
       "      <td>0</td>\n",
       "      <td>3</td>\n",
       "    </tr>\n",
       "    <tr>\n",
       "      <th>1312012</th>\n",
       "      <td>30</td>\n",
       "      <td>5</td>\n",
       "    </tr>\n",
       "    <tr>\n",
       "      <th>1077659</th>\n",
       "      <td>35</td>\n",
       "      <td>11</td>\n",
       "    </tr>\n",
       "    <tr>\n",
       "      <th>...</th>\n",
       "      <td>...</td>\n",
       "      <td>...</td>\n",
       "    </tr>\n",
       "    <tr>\n",
       "      <th>463007</th>\n",
       "      <td>45</td>\n",
       "      <td>11</td>\n",
       "    </tr>\n",
       "    <tr>\n",
       "      <th>731506</th>\n",
       "      <td>30</td>\n",
       "      <td>0</td>\n",
       "    </tr>\n",
       "    <tr>\n",
       "      <th>313882</th>\n",
       "      <td>30</td>\n",
       "      <td>0</td>\n",
       "    </tr>\n",
       "    <tr>\n",
       "      <th>1033778</th>\n",
       "      <td>0</td>\n",
       "      <td>17</td>\n",
       "    </tr>\n",
       "    <tr>\n",
       "      <th>1033947</th>\n",
       "      <td>0</td>\n",
       "      <td>0</td>\n",
       "    </tr>\n",
       "  </tbody>\n",
       "</table>\n",
       "<p>10000 rows × 2 columns</p>\n",
       "</div>"
      ],
      "text/plain": [
       "         Minute  Primary Type\n",
       "1054303      30            15\n",
       "889116        8             5\n",
       "454991        0             3\n",
       "1312012      30             5\n",
       "1077659      35            11\n",
       "...         ...           ...\n",
       "463007       45            11\n",
       "731506       30             0\n",
       "313882       30             0\n",
       "1033778       0            17\n",
       "1033947       0             0\n",
       "\n",
       "[10000 rows x 2 columns]"
      ]
     },
     "execution_count": 61,
     "metadata": {},
     "output_type": "execute_result"
    }
   ],
   "source": [
    "#Selecting the feature\n",
    "x = df.iloc[:,21:23] # 1t for rows and second for columns\n",
    "x"
   ]
  },
  {
   "cell_type": "code",
   "execution_count": 62,
   "metadata": {},
   "outputs": [
    {
     "data": {
      "text/plain": [
       "KMeans(n_clusters=3)"
      ]
     },
     "execution_count": 62,
     "metadata": {},
     "output_type": "execute_result"
    }
   ],
   "source": [
    "#Clustering\n",
    "kmeans = KMeans(3)\n",
    "kmeans.fit(x1)"
   ]
  },
  {
   "cell_type": "code",
   "execution_count": 63,
   "metadata": {},
   "outputs": [
    {
     "data": {
      "text/plain": [
       "array([1, 0, 0, ..., 1, 0, 0])"
      ]
     },
     "execution_count": 63,
     "metadata": {},
     "output_type": "execute_result"
    }
   ],
   "source": [
    "#Clustering Results\n",
    "identified_clusters = kmeans.fit_predict(x)\n",
    "identified_clusters"
   ]
  },
  {
   "cell_type": "code",
   "execution_count": 64,
   "metadata": {},
   "outputs": [
    {
     "data": {
      "text/plain": [
       "<matplotlib.collections.PathCollection at 0x2cb802a7460>"
      ]
     },
     "execution_count": 64,
     "metadata": {},
     "output_type": "execute_result"
    },
    {
     "data": {
      "image/png": "[encoded data removed]",
      "text/plain": [
       "<Figure size 432x288 with 1 Axes>"
      ]
     },
     "metadata": {},
     "output_type": "display_data"
    }
   ],
   "source": [
    "data_with_clusters = df.copy()\n",
    "data_with_clusters['Clusters'] = identified_clusters \n",
    "plt.scatter(data_with_clusters['Longitude'],data_with_clusters['Latitude'],c=data_with_clusters['Clusters'],cmap='rainbow')"
   ]
  },
  {
   "cell_type": "code",
   "execution_count": 65,
   "metadata": {},
   "outputs": [
    {
     "data": {
      "text/plain": [
       "Text(0, 0.5, 'WCSS')"
      ]
     },
     "execution_count": 65,
     "metadata": {},
     "output_type": "execute_result"
    },
    {
     "data": {
      "image/png": "[encoded data removed]",
      "text/plain": [
       "<Figure size 432x288 with 1 Axes>"
      ]
     },
     "metadata": {},
     "output_type": "display_data"
    }
   ],
   "source": [
    "wcss=[]\n",
    "for i in range(1,20):\n",
    "    kmeans = KMeans(i)\n",
    "    kmeans.fit(x1)\n",
    "    wcss_iter = kmeans.inertia_\n",
    "    wcss.append(wcss_iter)\n",
    "\n",
    "number_clusters = range(1,20)\n",
    "plt.plot(number_clusters,wcss)\n",
    "plt.title('The Elbow title')\n",
    "plt.xlabel('Number of clusters')\n",
    "plt.ylabel('WCSS')"
   ]
  },
  {
   "cell_type": "code",
   "execution_count": 55,
   "metadata": {},
   "outputs": [
    {
     "ename": "NameError",
     "evalue": "name 'head' is not defined",
     "output_type": "error",
     "traceback": [
      "\u001b[0;31m---------------------------------------------------------------------------\u001b[0m",
      "\u001b[0;31mNameError\u001b[0m                                 Traceback (most recent call last)",
      "\u001b[0;32m/var/folders/b6/89bshl6x2hlcn5s5dy96xq_r0000gn/T/ipykernel_1523/1897523883.py\u001b[0m in \u001b[0;36m<module>\u001b[0;34m\u001b[0m\n\u001b[0;32m----> 1\u001b[0;31m \u001b[0mhead\u001b[0m\u001b[0;34m(\u001b[0m\u001b[0my_pred\u001b[0m\u001b[0;34m)\u001b[0m\u001b[0;34m\u001b[0m\u001b[0;34m\u001b[0m\u001b[0m\n\u001b[0m",
      "\u001b[0;31mNameError\u001b[0m: name 'head' is not defined"
     ]
    }
   ],
   "source": [
    "Head"
   ]
  },
  {
   "cell_type": "code",
   "execution_count": 56,
   "metadata": {},
   "outputs": [
    {
     "ename": "TypeError",
     "evalue": "cannot do positional indexing on Int64Index with these indexers [[ 0 17 10 ...  5  0  5]] of type ndarray",
     "output_type": "error",
     "traceback": [
      "\u001b[0;31m---------------------------------------------------------------------------\u001b[0m",
      "\u001b[0;31mTypeError\u001b[0m                                 Traceback (most recent call last)",
      "\u001b[0;32m/var/folders/b6/89bshl6x2hlcn5s5dy96xq_r0000gn/T/ipykernel_1523/2277914260.py\u001b[0m in \u001b[0;36m<module>\u001b[0;34m\u001b[0m\n\u001b[0;32m----> 1\u001b[0;31m \u001b[0mdf\u001b[0m\u001b[0;34m.\u001b[0m\u001b[0mhead\u001b[0m\u001b[0;34m(\u001b[0m\u001b[0my_pred\u001b[0m\u001b[0;34m)\u001b[0m\u001b[0;34m\u001b[0m\u001b[0;34m\u001b[0m\u001b[0m\n\u001b[0m",
      "\u001b[0;32m~/opt/anaconda3/lib/python3.9/site-packages/pandas/core/generic.py\u001b[0m in \u001b[0;36mhead\u001b[0;34m(self, n)\u001b[0m\n\u001b[1;32m   5071\u001b[0m         \u001b[0;36m5\u001b[0m     \u001b[0mparrot\u001b[0m\u001b[0;34m\u001b[0m\u001b[0;34m\u001b[0m\u001b[0m\n\u001b[1;32m   5072\u001b[0m         \"\"\"\n\u001b[0;32m-> 5073\u001b[0;31m         \u001b[0;32mreturn\u001b[0m \u001b[0mself\u001b[0m\u001b[0;34m.\u001b[0m\u001b[0miloc\u001b[0m\u001b[0;34m[\u001b[0m\u001b[0;34m:\u001b[0m\u001b[0mn\u001b[0m\u001b[0;34m]\u001b[0m\u001b[0;34m\u001b[0m\u001b[0;34m\u001b[0m\u001b[0m\n\u001b[0m\u001b[1;32m   5074\u001b[0m \u001b[0;34m\u001b[0m\u001b[0m\n\u001b[1;32m   5075\u001b[0m     \u001b[0;34m@\u001b[0m\u001b[0mfinal\u001b[0m\u001b[0;34m\u001b[0m\u001b[0;34m\u001b[0m\u001b[0m\n",
      "\u001b[0;32m~/opt/anaconda3/lib/python3.9/site-packages/pandas/core/indexing.py\u001b[0m in \u001b[0;36m__getitem__\u001b[0;34m(self, key)\u001b[0m\n\u001b[1;32m    929\u001b[0m \u001b[0;34m\u001b[0m\u001b[0m\n\u001b[1;32m    930\u001b[0m             \u001b[0mmaybe_callable\u001b[0m \u001b[0;34m=\u001b[0m \u001b[0mcom\u001b[0m\u001b[0;34m.\u001b[0m\u001b[0mapply_if_callable\u001b[0m\u001b[0;34m(\u001b[0m\u001b[0mkey\u001b[0m\u001b[0;34m,\u001b[0m \u001b[0mself\u001b[0m\u001b[0;34m.\u001b[0m\u001b[0mobj\u001b[0m\u001b[0;34m)\u001b[0m\u001b[0;34m\u001b[0m\u001b[0;34m\u001b[0m\u001b[0m\n\u001b[0;32m--> 931\u001b[0;31m             \u001b[0;32mreturn\u001b[0m \u001b[0mself\u001b[0m\u001b[0;34m.\u001b[0m\u001b[0m_getitem_axis\u001b[0m\u001b[0;34m(\u001b[0m\u001b[0mmaybe_callable\u001b[0m\u001b[0;34m,\u001b[0m \u001b[0maxis\u001b[0m\u001b[0;34m=\u001b[0m\u001b[0maxis\u001b[0m\u001b[0;34m)\u001b[0m\u001b[0;34m\u001b[0m\u001b[0;34m\u001b[0m\u001b[0m\n\u001b[0m\u001b[1;32m    932\u001b[0m \u001b[0;34m\u001b[0m\u001b[0m\n\u001b[1;32m    933\u001b[0m     \u001b[0;32mdef\u001b[0m \u001b[0m_is_scalar_access\u001b[0m\u001b[0;34m(\u001b[0m\u001b[0mself\u001b[0m\u001b[0;34m,\u001b[0m \u001b[0mkey\u001b[0m\u001b[0;34m:\u001b[0m \u001b[0mtuple\u001b[0m\u001b[0;34m)\u001b[0m\u001b[0;34m:\u001b[0m\u001b[0;34m\u001b[0m\u001b[0;34m\u001b[0m\u001b[0m\n",
      "\u001b[0;32m~/opt/anaconda3/lib/python3.9/site-packages/pandas/core/indexing.py\u001b[0m in \u001b[0;36m_getitem_axis\u001b[0;34m(self, key, axis)\u001b[0m\n\u001b[1;32m   1541\u001b[0m \u001b[0;34m\u001b[0m\u001b[0m\n\u001b[1;32m   1542\u001b[0m         \u001b[0;32mif\u001b[0m \u001b[0misinstance\u001b[0m\u001b[0;34m(\u001b[0m\u001b[0mkey\u001b[0m\u001b[0;34m,\u001b[0m \u001b[0mslice\u001b[0m\u001b[0;34m)\u001b[0m\u001b[0;34m:\u001b[0m\u001b[0;34m\u001b[0m\u001b[0;34m\u001b[0m\u001b[0m\n\u001b[0;32m-> 1543\u001b[0;31m             \u001b[0;32mreturn\u001b[0m \u001b[0mself\u001b[0m\u001b[0;34m.\u001b[0m\u001b[0m_get_slice_axis\u001b[0m\u001b[0;34m(\u001b[0m\u001b[0mkey\u001b[0m\u001b[0;34m,\u001b[0m \u001b[0maxis\u001b[0m\u001b[0;34m=\u001b[0m\u001b[0maxis\u001b[0m\u001b[0;34m)\u001b[0m\u001b[0;34m\u001b[0m\u001b[0;34m\u001b[0m\u001b[0m\n\u001b[0m\u001b[1;32m   1544\u001b[0m \u001b[0;34m\u001b[0m\u001b[0m\n\u001b[1;32m   1545\u001b[0m         \u001b[0;32mif\u001b[0m \u001b[0mis_iterator\u001b[0m\u001b[0;34m(\u001b[0m\u001b[0mkey\u001b[0m\u001b[0;34m)\u001b[0m\u001b[0;34m:\u001b[0m\u001b[0;34m\u001b[0m\u001b[0;34m\u001b[0m\u001b[0m\n",
      "\u001b[0;32m~/opt/anaconda3/lib/python3.9/site-packages/pandas/core/indexing.py\u001b[0m in \u001b[0;36m_get_slice_axis\u001b[0;34m(self, slice_obj, axis)\u001b[0m\n\u001b[1;32m   1576\u001b[0m \u001b[0;34m\u001b[0m\u001b[0m\n\u001b[1;32m   1577\u001b[0m         \u001b[0mlabels\u001b[0m \u001b[0;34m=\u001b[0m \u001b[0mobj\u001b[0m\u001b[0;34m.\u001b[0m\u001b[0m_get_axis\u001b[0m\u001b[0;34m(\u001b[0m\u001b[0maxis\u001b[0m\u001b[0;34m)\u001b[0m\u001b[0;34m\u001b[0m\u001b[0;34m\u001b[0m\u001b[0m\n\u001b[0;32m-> 1578\u001b[0;31m         \u001b[0mlabels\u001b[0m\u001b[0;34m.\u001b[0m\u001b[0m_validate_positional_slice\u001b[0m\u001b[0;34m(\u001b[0m\u001b[0mslice_obj\u001b[0m\u001b[0;34m)\u001b[0m\u001b[0;34m\u001b[0m\u001b[0;34m\u001b[0m\u001b[0m\n\u001b[0m\u001b[1;32m   1579\u001b[0m         \u001b[0;32mreturn\u001b[0m \u001b[0mself\u001b[0m\u001b[0;34m.\u001b[0m\u001b[0mobj\u001b[0m\u001b[0;34m.\u001b[0m\u001b[0m_slice\u001b[0m\u001b[0;34m(\u001b[0m\u001b[0mslice_obj\u001b[0m\u001b[0;34m,\u001b[0m \u001b[0maxis\u001b[0m\u001b[0;34m=\u001b[0m\u001b[0maxis\u001b[0m\u001b[0;34m)\u001b[0m\u001b[0;34m\u001b[0m\u001b[0;34m\u001b[0m\u001b[0m\n\u001b[1;32m   1580\u001b[0m \u001b[0;34m\u001b[0m\u001b[0m\n",
      "\u001b[0;32m~/opt/anaconda3/lib/python3.9/site-packages/pandas/core/indexes/base.py\u001b[0m in \u001b[0;36m_validate_positional_slice\u001b[0;34m(self, key)\u001b[0m\n\u001b[1;32m   3682\u001b[0m         \"\"\"\n\u001b[1;32m   3683\u001b[0m         \u001b[0mself\u001b[0m\u001b[0;34m.\u001b[0m\u001b[0m_validate_indexer\u001b[0m\u001b[0;34m(\u001b[0m\u001b[0;34m\"positional\"\u001b[0m\u001b[0;34m,\u001b[0m \u001b[0mkey\u001b[0m\u001b[0;34m.\u001b[0m\u001b[0mstart\u001b[0m\u001b[0;34m,\u001b[0m \u001b[0;34m\"iloc\"\u001b[0m\u001b[0;34m)\u001b[0m\u001b[0;34m\u001b[0m\u001b[0;34m\u001b[0m\u001b[0m\n\u001b[0;32m-> 3684\u001b[0;31m         \u001b[0mself\u001b[0m\u001b[0;34m.\u001b[0m\u001b[0m_validate_indexer\u001b[0m\u001b[0;34m(\u001b[0m\u001b[0;34m\"positional\"\u001b[0m\u001b[0;34m,\u001b[0m \u001b[0mkey\u001b[0m\u001b[0;34m.\u001b[0m\u001b[0mstop\u001b[0m\u001b[0;34m,\u001b[0m \u001b[0;34m\"iloc\"\u001b[0m\u001b[0;34m)\u001b[0m\u001b[0;34m\u001b[0m\u001b[0;34m\u001b[0m\u001b[0m\n\u001b[0m\u001b[1;32m   3685\u001b[0m         \u001b[0mself\u001b[0m\u001b[0;34m.\u001b[0m\u001b[0m_validate_indexer\u001b[0m\u001b[0;34m(\u001b[0m\u001b[0;34m\"positional\"\u001b[0m\u001b[0;34m,\u001b[0m \u001b[0mkey\u001b[0m\u001b[0;34m.\u001b[0m\u001b[0mstep\u001b[0m\u001b[0;34m,\u001b[0m \u001b[0;34m\"iloc\"\u001b[0m\u001b[0;34m)\u001b[0m\u001b[0;34m\u001b[0m\u001b[0;34m\u001b[0m\u001b[0m\n\u001b[1;32m   3686\u001b[0m \u001b[0;34m\u001b[0m\u001b[0m\n",
      "\u001b[0;32m~/opt/anaconda3/lib/python3.9/site-packages/pandas/core/indexes/base.py\u001b[0m in \u001b[0;36m_validate_indexer\u001b[0;34m(self, form, key, kind)\u001b[0m\n\u001b[1;32m   5717\u001b[0m \u001b[0;34m\u001b[0m\u001b[0m\n\u001b[1;32m   5718\u001b[0m         \u001b[0;32mif\u001b[0m \u001b[0mkey\u001b[0m \u001b[0;32mis\u001b[0m \u001b[0;32mnot\u001b[0m \u001b[0;32mNone\u001b[0m \u001b[0;32mand\u001b[0m \u001b[0;32mnot\u001b[0m \u001b[0mis_integer\u001b[0m\u001b[0;34m(\u001b[0m\u001b[0mkey\u001b[0m\u001b[0;34m)\u001b[0m\u001b[0;34m:\u001b[0m\u001b[0;34m\u001b[0m\u001b[0;34m\u001b[0m\u001b[0m\n\u001b[0;32m-> 5719\u001b[0;31m             \u001b[0;32mraise\u001b[0m \u001b[0mself\u001b[0m\u001b[0;34m.\u001b[0m\u001b[0m_invalid_indexer\u001b[0m\u001b[0;34m(\u001b[0m\u001b[0mform\u001b[0m\u001b[0;34m,\u001b[0m \u001b[0mkey\u001b[0m\u001b[0;34m)\u001b[0m\u001b[0;34m\u001b[0m\u001b[0;34m\u001b[0m\u001b[0m\n\u001b[0m\u001b[1;32m   5720\u001b[0m \u001b[0;34m\u001b[0m\u001b[0m\n\u001b[1;32m   5721\u001b[0m     \u001b[0;32mdef\u001b[0m \u001b[0m_maybe_cast_slice_bound\u001b[0m\u001b[0;34m(\u001b[0m\u001b[0mself\u001b[0m\u001b[0;34m,\u001b[0m \u001b[0mlabel\u001b[0m\u001b[0;34m,\u001b[0m \u001b[0mside\u001b[0m\u001b[0;34m:\u001b[0m \u001b[0mstr_t\u001b[0m\u001b[0;34m,\u001b[0m \u001b[0mkind\u001b[0m\u001b[0;34m=\u001b[0m\u001b[0mno_default\u001b[0m\u001b[0;34m)\u001b[0m\u001b[0;34m:\u001b[0m\u001b[0;34m\u001b[0m\u001b[0;34m\u001b[0m\u001b[0m\n",
      "\u001b[0;31mTypeError\u001b[0m: cannot do positional indexing on Int64Index with these indexers [[ 0 17 10 ...  5  0  5]] of type ndarray"
     ]
    }
   ],
   "source": [
    "df.head(y_pred)"
   ]
  },
  {
   "cell_type": "code",
   "execution_count": 57,
   "metadata": {},
   "outputs": [
    {
     "name": "stdout",
     "output_type": "stream",
     "text": [
      "[ 0 17 10 ...  5  0  5]\n"
     ]
    }
   ],
   "source": [
    "print(y_pred)"
   ]
  },
  {
   "cell_type": "code",
   "execution_count": 58,
   "metadata": {},
   "outputs": [
    {
     "data": {
      "text/html": [
       "<div>\n",
       "<style scoped>\n",
       "    .dataframe tbody tr th:only-of-type {\n",
       "        vertical-align: middle;\n",
       "    }\n",
       "\n",
       "    .dataframe tbody tr th {\n",
       "        vertical-align: top;\n",
       "    }\n",
       "\n",
       "    .dataframe thead th {\n",
       "        text-align: right;\n",
       "    }\n",
       "</style>\n",
       "<table border=\"1\" class=\"dataframe\">\n",
       "  <thead>\n",
       "    <tr style=\"text-align: right;\">\n",
       "      <th></th>\n",
       "      <th>Block</th>\n",
       "      <th>IUCR</th>\n",
       "      <th>Second</th>\n",
       "      <th>Description</th>\n",
       "      <th>Location Description</th>\n",
       "      <th>Arrest</th>\n",
       "      <th>Domestic</th>\n",
       "      <th>Beat</th>\n",
       "      <th>District</th>\n",
       "      <th>Ward</th>\n",
       "      <th>...</th>\n",
       "      <th>Y Coordinate</th>\n",
       "      <th>Year</th>\n",
       "      <th>Latitude</th>\n",
       "      <th>Longitude</th>\n",
       "      <th>Location</th>\n",
       "      <th>Month</th>\n",
       "      <th>Day</th>\n",
       "      <th>Hour</th>\n",
       "      <th>Minute</th>\n",
       "      <th>Primary Type</th>\n",
       "    </tr>\n",
       "  </thead>\n",
       "  <tbody>\n",
       "    <tr>\n",
       "      <th>193852</th>\n",
       "      <td>3322</td>\n",
       "      <td>52</td>\n",
       "      <td>0</td>\n",
       "      <td>49</td>\n",
       "      <td>3</td>\n",
       "      <td>False</td>\n",
       "      <td>False</td>\n",
       "      <td>513</td>\n",
       "      <td>5.0</td>\n",
       "      <td>9.0</td>\n",
       "      <td>...</td>\n",
       "      <td>1834091.0</td>\n",
       "      <td>2012</td>\n",
       "      <td>41.699999</td>\n",
       "      <td>-87.614341</td>\n",
       "      <td>3771</td>\n",
       "      <td>5</td>\n",
       "      <td>15</td>\n",
       "      <td>10</td>\n",
       "      <td>0</td>\n",
       "      <td>8</td>\n",
       "    </tr>\n",
       "    <tr>\n",
       "      <th>643792</th>\n",
       "      <td>43</td>\n",
       "      <td>70</td>\n",
       "      <td>0</td>\n",
       "      <td>67</td>\n",
       "      <td>0</td>\n",
       "      <td>True</td>\n",
       "      <td>False</td>\n",
       "      <td>931</td>\n",
       "      <td>9.0</td>\n",
       "      <td>20.0</td>\n",
       "      <td>...</td>\n",
       "      <td>1873509.0</td>\n",
       "      <td>2013</td>\n",
       "      <td>41.808526</td>\n",
       "      <td>-87.672888</td>\n",
       "      <td>29711</td>\n",
       "      <td>10</td>\n",
       "      <td>2</td>\n",
       "      <td>19</td>\n",
       "      <td>45</td>\n",
       "      <td>14</td>\n",
       "    </tr>\n",
       "    <tr>\n",
       "      <th>755908</th>\n",
       "      <td>1109</td>\n",
       "      <td>66</td>\n",
       "      <td>0</td>\n",
       "      <td>63</td>\n",
       "      <td>47</td>\n",
       "      <td>False</td>\n",
       "      <td>False</td>\n",
       "      <td>815</td>\n",
       "      <td>8.0</td>\n",
       "      <td>23.0</td>\n",
       "      <td>...</td>\n",
       "      <td>1870231.0</td>\n",
       "      <td>2014</td>\n",
       "      <td>41.799809</td>\n",
       "      <td>-87.723351</td>\n",
       "      <td>17502</td>\n",
       "      <td>3</td>\n",
       "      <td>10</td>\n",
       "      <td>16</td>\n",
       "      <td>18</td>\n",
       "      <td>1</td>\n",
       "    </tr>\n",
       "    <tr>\n",
       "      <th>702696</th>\n",
       "      <td>9536</td>\n",
       "      <td>12</td>\n",
       "      <td>0</td>\n",
       "      <td>2</td>\n",
       "      <td>63</td>\n",
       "      <td>False</td>\n",
       "      <td>False</td>\n",
       "      <td>423</td>\n",
       "      <td>4.0</td>\n",
       "      <td>10.0</td>\n",
       "      <td>...</td>\n",
       "      <td>1845691.0</td>\n",
       "      <td>2013</td>\n",
       "      <td>41.731431</td>\n",
       "      <td>-87.552670</td>\n",
       "      <td>13777</td>\n",
       "      <td>12</td>\n",
       "      <td>17</td>\n",
       "      <td>14</td>\n",
       "      <td>30</td>\n",
       "      <td>5</td>\n",
       "    </tr>\n",
       "    <tr>\n",
       "      <th>986245</th>\n",
       "      <td>25317</td>\n",
       "      <td>24</td>\n",
       "      <td>0</td>\n",
       "      <td>23</td>\n",
       "      <td>0</td>\n",
       "      <td>False</td>\n",
       "      <td>False</td>\n",
       "      <td>633</td>\n",
       "      <td>6.0</td>\n",
       "      <td>6.0</td>\n",
       "      <td>...</td>\n",
       "      <td>1845020.0</td>\n",
       "      <td>2015</td>\n",
       "      <td>41.730019</td>\n",
       "      <td>-87.618612</td>\n",
       "      <td>123212</td>\n",
       "      <td>3</td>\n",
       "      <td>20</td>\n",
       "      <td>9</td>\n",
       "      <td>0</td>\n",
       "      <td>4</td>\n",
       "    </tr>\n",
       "    <tr>\n",
       "      <th>1124296</th>\n",
       "      <td>10250</td>\n",
       "      <td>24</td>\n",
       "      <td>0</td>\n",
       "      <td>23</td>\n",
       "      <td>0</td>\n",
       "      <td>False</td>\n",
       "      <td>True</td>\n",
       "      <td>815</td>\n",
       "      <td>8.0</td>\n",
       "      <td>23.0</td>\n",
       "      <td>...</td>\n",
       "      <td>1873053.0</td>\n",
       "      <td>2015</td>\n",
       "      <td>41.807646</td>\n",
       "      <td>-87.741110</td>\n",
       "      <td>37904</td>\n",
       "      <td>9</td>\n",
       "      <td>20</td>\n",
       "      <td>23</td>\n",
       "      <td>0</td>\n",
       "      <td>4</td>\n",
       "    </tr>\n",
       "    <tr>\n",
       "      <th>1278407</th>\n",
       "      <td>13676</td>\n",
       "      <td>33</td>\n",
       "      <td>0</td>\n",
       "      <td>32</td>\n",
       "      <td>0</td>\n",
       "      <td>True</td>\n",
       "      <td>True</td>\n",
       "      <td>711</td>\n",
       "      <td>7.0</td>\n",
       "      <td>20.0</td>\n",
       "      <td>...</td>\n",
       "      <td>1866416.0</td>\n",
       "      <td>2016</td>\n",
       "      <td>41.788830</td>\n",
       "      <td>-87.634020</td>\n",
       "      <td>46658</td>\n",
       "      <td>6</td>\n",
       "      <td>1</td>\n",
       "      <td>1</td>\n",
       "      <td>23</td>\n",
       "      <td>2</td>\n",
       "    </tr>\n",
       "    <tr>\n",
       "      <th>1048694</th>\n",
       "      <td>22645</td>\n",
       "      <td>92</td>\n",
       "      <td>0</td>\n",
       "      <td>88</td>\n",
       "      <td>5</td>\n",
       "      <td>True</td>\n",
       "      <td>False</td>\n",
       "      <td>2511</td>\n",
       "      <td>25.0</td>\n",
       "      <td>29.0</td>\n",
       "      <td>...</td>\n",
       "      <td>1919647.0</td>\n",
       "      <td>2015</td>\n",
       "      <td>41.935692</td>\n",
       "      <td>-87.777176</td>\n",
       "      <td>68876</td>\n",
       "      <td>6</td>\n",
       "      <td>13</td>\n",
       "      <td>1</td>\n",
       "      <td>41</td>\n",
       "      <td>5</td>\n",
       "    </tr>\n",
       "    <tr>\n",
       "      <th>853176</th>\n",
       "      <td>7066</td>\n",
       "      <td>9</td>\n",
       "      <td>0</td>\n",
       "      <td>9</td>\n",
       "      <td>8</td>\n",
       "      <td>False</td>\n",
       "      <td>False</td>\n",
       "      <td>1233</td>\n",
       "      <td>12.0</td>\n",
       "      <td>2.0</td>\n",
       "      <td>...</td>\n",
       "      <td>1894846.0</td>\n",
       "      <td>2014</td>\n",
       "      <td>41.866989</td>\n",
       "      <td>-87.657205</td>\n",
       "      <td>37187</td>\n",
       "      <td>7</td>\n",
       "      <td>13</td>\n",
       "      <td>9</td>\n",
       "      <td>18</td>\n",
       "      <td>0</td>\n",
       "    </tr>\n",
       "    <tr>\n",
       "      <th>852625</th>\n",
       "      <td>530</td>\n",
       "      <td>0</td>\n",
       "      <td>0</td>\n",
       "      <td>0</td>\n",
       "      <td>2</td>\n",
       "      <td>False</td>\n",
       "      <td>False</td>\n",
       "      <td>1834</td>\n",
       "      <td>18.0</td>\n",
       "      <td>42.0</td>\n",
       "      <td>...</td>\n",
       "      <td>1904058.0</td>\n",
       "      <td>2014</td>\n",
       "      <td>41.891990</td>\n",
       "      <td>-87.611462</td>\n",
       "      <td>538</td>\n",
       "      <td>7</td>\n",
       "      <td>11</td>\n",
       "      <td>15</td>\n",
       "      <td>50</td>\n",
       "      <td>0</td>\n",
       "    </tr>\n",
       "  </tbody>\n",
       "</table>\n",
       "<p>10 rows × 23 columns</p>\n",
       "</div>"
      ],
      "text/plain": [
       "         Block  IUCR  Second  Description  Location Description  Arrest  \\\n",
       "193852    3322    52       0           49                     3   False   \n",
       "643792      43    70       0           67                     0    True   \n",
       "755908    1109    66       0           63                    47   False   \n",
       "702696    9536    12       0            2                    63   False   \n",
       "986245   25317    24       0           23                     0   False   \n",
       "1124296  10250    24       0           23                     0   False   \n",
       "1278407  13676    33       0           32                     0    True   \n",
       "1048694  22645    92       0           88                     5    True   \n",
       "853176    7066     9       0            9                     8   False   \n",
       "852625     530     0       0            0                     2   False   \n",
       "\n",
       "         Domestic  Beat  District  Ward  ...  Y Coordinate  Year   Latitude  \\\n",
       "193852      False   513       5.0   9.0  ...     1834091.0  2012  41.699999   \n",
       "643792      False   931       9.0  20.0  ...     1873509.0  2013  41.808526   \n",
       "755908      False   815       8.0  23.0  ...     1870231.0  2014  41.799809   \n",
       "702696      False   423       4.0  10.0  ...     1845691.0  2013  41.731431   \n",
       "986245      False   633       6.0   6.0  ...     1845020.0  2015  41.730019   \n",
       "1124296      True   815       8.0  23.0  ...     1873053.0  2015  41.807646   \n",
       "1278407      True   711       7.0  20.0  ...     1866416.0  2016  41.788830   \n",
       "1048694     False  2511      25.0  29.0  ...     1919647.0  2015  41.935692   \n",
       "853176      False  1233      12.0   2.0  ...     1894846.0  2014  41.866989   \n",
       "852625      False  1834      18.0  42.0  ...     1904058.0  2014  41.891990   \n",
       "\n",
       "         Longitude  Location  Month  Day  Hour  Minute  Primary Type  \n",
       "193852  -87.614341      3771      5   15    10       0             8  \n",
       "643792  -87.672888     29711     10    2    19      45            14  \n",
       "755908  -87.723351     17502      3   10    16      18             1  \n",
       "702696  -87.552670     13777     12   17    14      30             5  \n",
       "986245  -87.618612    123212      3   20     9       0             4  \n",
       "1124296 -87.741110     37904      9   20    23       0             4  \n",
       "1278407 -87.634020     46658      6    1     1      23             2  \n",
       "1048694 -87.777176     68876      6   13     1      41             5  \n",
       "853176  -87.657205     37187      7   13     9      18             0  \n",
       "852625  -87.611462       538      7   11    15      50             0  \n",
       "\n",
       "[10 rows x 23 columns]"
      ]
     },
     "execution_count": 58,
     "metadata": {},
     "output_type": "execute_result"
    }
   ],
   "source": [
    "df_extra.head(10)"
   ]
  },
  {
   "cell_type": "code",
   "execution_count": 59,
   "metadata": {},
   "outputs": [
    {
     "ename": "ValueError",
     "evalue": "Length of values (2000) does not match length of index (10000)",
     "output_type": "error",
     "traceback": [
      "\u001b[0;31m---------------------------------------------------------------------------\u001b[0m",
      "\u001b[0;31mValueError\u001b[0m                                Traceback (most recent call last)",
      "\u001b[0;32m/var/folders/b6/89bshl6x2hlcn5s5dy96xq_r0000gn/T/ipykernel_1523/3693337213.py\u001b[0m in \u001b[0;36m<module>\u001b[0;34m\u001b[0m\n\u001b[0;32m----> 1\u001b[0;31m \u001b[0mdf_extra\u001b[0m\u001b[0;34m[\u001b[0m\u001b[0;34m\"prediction\"\u001b[0m\u001b[0;34m]\u001b[0m \u001b[0;34m=\u001b[0m \u001b[0my_pred\u001b[0m\u001b[0;34m\u001b[0m\u001b[0;34m\u001b[0m\u001b[0m\n\u001b[0m\u001b[1;32m      2\u001b[0m \u001b[0mdf_extra\u001b[0m\u001b[0;34m.\u001b[0m\u001b[0mhead\u001b[0m\u001b[0;34m(\u001b[0m\u001b[0;36m10\u001b[0m\u001b[0;34m)\u001b[0m\u001b[0;34m\u001b[0m\u001b[0;34m\u001b[0m\u001b[0m\n",
      "\u001b[0;32m~/opt/anaconda3/lib/python3.9/site-packages/pandas/core/frame.py\u001b[0m in \u001b[0;36m__setitem__\u001b[0;34m(self, key, value)\u001b[0m\n\u001b[1;32m   3610\u001b[0m         \u001b[0;32melse\u001b[0m\u001b[0;34m:\u001b[0m\u001b[0;34m\u001b[0m\u001b[0;34m\u001b[0m\u001b[0m\n\u001b[1;32m   3611\u001b[0m             \u001b[0;31m# set column\u001b[0m\u001b[0;34m\u001b[0m\u001b[0;34m\u001b[0m\u001b[0m\n\u001b[0;32m-> 3612\u001b[0;31m             \u001b[0mself\u001b[0m\u001b[0;34m.\u001b[0m\u001b[0m_set_item\u001b[0m\u001b[0;34m(\u001b[0m\u001b[0mkey\u001b[0m\u001b[0;34m,\u001b[0m \u001b[0mvalue\u001b[0m\u001b[0;34m)\u001b[0m\u001b[0;34m\u001b[0m\u001b[0;34m\u001b[0m\u001b[0m\n\u001b[0m\u001b[1;32m   3613\u001b[0m \u001b[0;34m\u001b[0m\u001b[0m\n\u001b[1;32m   3614\u001b[0m     \u001b[0;32mdef\u001b[0m \u001b[0m_setitem_slice\u001b[0m\u001b[0;34m(\u001b[0m\u001b[0mself\u001b[0m\u001b[0;34m,\u001b[0m \u001b[0mkey\u001b[0m\u001b[0;34m:\u001b[0m \u001b[0mslice\u001b[0m\u001b[0;34m,\u001b[0m \u001b[0mvalue\u001b[0m\u001b[0;34m)\u001b[0m\u001b[0;34m:\u001b[0m\u001b[0;34m\u001b[0m\u001b[0;34m\u001b[0m\u001b[0m\n",
      "\u001b[0;32m~/opt/anaconda3/lib/python3.9/site-packages/pandas/core/frame.py\u001b[0m in \u001b[0;36m_set_item\u001b[0;34m(self, key, value)\u001b[0m\n\u001b[1;32m   3782\u001b[0m         \u001b[0mensure\u001b[0m \u001b[0mhomogeneity\u001b[0m\u001b[0;34m.\u001b[0m\u001b[0;34m\u001b[0m\u001b[0;34m\u001b[0m\u001b[0m\n\u001b[1;32m   3783\u001b[0m         \"\"\"\n\u001b[0;32m-> 3784\u001b[0;31m         \u001b[0mvalue\u001b[0m \u001b[0;34m=\u001b[0m \u001b[0mself\u001b[0m\u001b[0;34m.\u001b[0m\u001b[0m_sanitize_column\u001b[0m\u001b[0;34m(\u001b[0m\u001b[0mvalue\u001b[0m\u001b[0;34m)\u001b[0m\u001b[0;34m\u001b[0m\u001b[0;34m\u001b[0m\u001b[0m\n\u001b[0m\u001b[1;32m   3785\u001b[0m \u001b[0;34m\u001b[0m\u001b[0m\n\u001b[1;32m   3786\u001b[0m         if (\n",
      "\u001b[0;32m~/opt/anaconda3/lib/python3.9/site-packages/pandas/core/frame.py\u001b[0m in \u001b[0;36m_sanitize_column\u001b[0;34m(self, value)\u001b[0m\n\u001b[1;32m   4507\u001b[0m \u001b[0;34m\u001b[0m\u001b[0m\n\u001b[1;32m   4508\u001b[0m         \u001b[0;32mif\u001b[0m \u001b[0mis_list_like\u001b[0m\u001b[0;34m(\u001b[0m\u001b[0mvalue\u001b[0m\u001b[0;34m)\u001b[0m\u001b[0;34m:\u001b[0m\u001b[0;34m\u001b[0m\u001b[0;34m\u001b[0m\u001b[0m\n\u001b[0;32m-> 4509\u001b[0;31m             \u001b[0mcom\u001b[0m\u001b[0;34m.\u001b[0m\u001b[0mrequire_length_match\u001b[0m\u001b[0;34m(\u001b[0m\u001b[0mvalue\u001b[0m\u001b[0;34m,\u001b[0m \u001b[0mself\u001b[0m\u001b[0;34m.\u001b[0m\u001b[0mindex\u001b[0m\u001b[0;34m)\u001b[0m\u001b[0;34m\u001b[0m\u001b[0;34m\u001b[0m\u001b[0m\n\u001b[0m\u001b[1;32m   4510\u001b[0m         \u001b[0;32mreturn\u001b[0m \u001b[0msanitize_array\u001b[0m\u001b[0;34m(\u001b[0m\u001b[0mvalue\u001b[0m\u001b[0;34m,\u001b[0m \u001b[0mself\u001b[0m\u001b[0;34m.\u001b[0m\u001b[0mindex\u001b[0m\u001b[0;34m,\u001b[0m \u001b[0mcopy\u001b[0m\u001b[0;34m=\u001b[0m\u001b[0;32mTrue\u001b[0m\u001b[0;34m,\u001b[0m \u001b[0mallow_2d\u001b[0m\u001b[0;34m=\u001b[0m\u001b[0;32mTrue\u001b[0m\u001b[0;34m)\u001b[0m\u001b[0;34m\u001b[0m\u001b[0;34m\u001b[0m\u001b[0m\n\u001b[1;32m   4511\u001b[0m \u001b[0;34m\u001b[0m\u001b[0m\n",
      "\u001b[0;32m~/opt/anaconda3/lib/python3.9/site-packages/pandas/core/common.py\u001b[0m in \u001b[0;36mrequire_length_match\u001b[0;34m(data, index)\u001b[0m\n\u001b[1;32m    529\u001b[0m     \"\"\"\n\u001b[1;32m    530\u001b[0m     \u001b[0;32mif\u001b[0m \u001b[0mlen\u001b[0m\u001b[0;34m(\u001b[0m\u001b[0mdata\u001b[0m\u001b[0;34m)\u001b[0m \u001b[0;34m!=\u001b[0m \u001b[0mlen\u001b[0m\u001b[0;34m(\u001b[0m\u001b[0mindex\u001b[0m\u001b[0;34m)\u001b[0m\u001b[0;34m:\u001b[0m\u001b[0;34m\u001b[0m\u001b[0;34m\u001b[0m\u001b[0m\n\u001b[0;32m--> 531\u001b[0;31m         raise ValueError(\n\u001b[0m\u001b[1;32m    532\u001b[0m             \u001b[0;34m\"Length of values \"\u001b[0m\u001b[0;34m\u001b[0m\u001b[0;34m\u001b[0m\u001b[0m\n\u001b[1;32m    533\u001b[0m             \u001b[0;34mf\"({len(data)}) \"\u001b[0m\u001b[0;34m\u001b[0m\u001b[0;34m\u001b[0m\u001b[0m\n",
      "\u001b[0;31mValueError\u001b[0m: Length of values (2000) does not match length of index (10000)"
     ]
    }
   ],
   "source": [
    "df_extra[\"prediction\"] = y_pred\n",
    "df_extra.head(10)"
   ]
  },
  {
   "cell_type": "code",
   "execution_count": null,
   "metadata": {},
   "outputs": [],
   "source": []
  },
  {
   "cell_type": "code",
   "execution_count": 60,
   "metadata": {},
   "outputs": [
    {
     "ename": "SyntaxError",
     "evalue": "invalid syntax (4269894321.py, line 1)",
     "output_type": "error",
     "traceback": [
      "\u001b[0;36m  File \u001b[0;32m\"/var/folders/b6/89bshl6x2hlcn5s5dy96xq_r0000gn/T/ipykernel_1523/4269894321.py\"\u001b[0;36m, line \u001b[0;32m1\u001b[0m\n\u001b[0;31m    df11 = pd.(Y2)\u001b[0m\n\u001b[0m              ^\u001b[0m\n\u001b[0;31mSyntaxError\u001b[0m\u001b[0;31m:\u001b[0m invalid syntax\n"
     ]
    }
   ],
   "source": [
    "df11 = pd.(Y2)\n",
    "head(df11)"
   ]
  },
  {
   "cell_type": "code",
   "execution_count": 61,
   "metadata": {},
   "outputs": [
    {
     "ename": "NameError",
     "evalue": "name 'head' is not defined",
     "output_type": "error",
     "traceback": [
      "\u001b[0;31m---------------------------------------------------------------------------\u001b[0m",
      "\u001b[0;31mNameError\u001b[0m                                 Traceback (most recent call last)",
      "\u001b[0;32m/var/folders/b6/89bshl6x2hlcn5s5dy96xq_r0000gn/T/ipykernel_1523/144657564.py\u001b[0m in \u001b[0;36m<module>\u001b[0;34m\u001b[0m\n\u001b[0;32m----> 1\u001b[0;31m \u001b[0mhead\u001b[0m\u001b[0;34m(\u001b[0m\u001b[0mY2\u001b[0m\u001b[0;34m)\u001b[0m\u001b[0;34m\u001b[0m\u001b[0;34m\u001b[0m\u001b[0m\n\u001b[0m",
      "\u001b[0;31mNameError\u001b[0m: name 'head' is not defined"
     ]
    }
   ],
   "source": [
    "head(Y2)"
   ]
  },
  {
   "cell_type": "code",
   "execution_count": 62,
   "metadata": {},
   "outputs": [
    {
     "data": {
      "text/plain": [
       "805928      0\n",
       "832199     17\n",
       "1358292    10\n",
       "828430      0\n",
       "104011      0\n",
       "921515      8\n",
       "99286       2\n",
       "1235056     5\n",
       "962699      2\n",
       "1269649    15\n",
       "Name: Primary Type, dtype: int64"
      ]
     },
     "execution_count": 62,
     "metadata": {},
     "output_type": "execute_result"
    }
   ],
   "source": [
    "Y2.head(10)"
   ]
  },
  {
   "cell_type": "code",
   "execution_count": 63,
   "metadata": {},
   "outputs": [
    {
     "data": {
      "text/html": [
       "<div>\n",
       "<style scoped>\n",
       "    .dataframe tbody tr th:only-of-type {\n",
       "        vertical-align: middle;\n",
       "    }\n",
       "\n",
       "    .dataframe tbody tr th {\n",
       "        vertical-align: top;\n",
       "    }\n",
       "\n",
       "    .dataframe thead th {\n",
       "        text-align: right;\n",
       "    }\n",
       "</style>\n",
       "<table border=\"1\" class=\"dataframe\">\n",
       "  <thead>\n",
       "    <tr style=\"text-align: right;\">\n",
       "      <th></th>\n",
       "      <th>Arrest</th>\n",
       "      <th>Domestic</th>\n",
       "      <th>Year</th>\n",
       "      <th>Month</th>\n",
       "      <th>Day</th>\n",
       "      <th>Hour</th>\n",
       "      <th>Longitude</th>\n",
       "      <th>Latitude</th>\n",
       "      <th>FBI Code</th>\n",
       "      <th>Location Description</th>\n",
       "    </tr>\n",
       "  </thead>\n",
       "  <tbody>\n",
       "    <tr>\n",
       "      <th>805928</th>\n",
       "      <td>False</td>\n",
       "      <td>False</td>\n",
       "      <td>2014</td>\n",
       "      <td>5</td>\n",
       "      <td>10</td>\n",
       "      <td>22</td>\n",
       "      <td>-87.685759</td>\n",
       "      <td>41.767380</td>\n",
       "      <td>0</td>\n",
       "      <td>0</td>\n",
       "    </tr>\n",
       "    <tr>\n",
       "      <th>832199</th>\n",
       "      <td>True</td>\n",
       "      <td>True</td>\n",
       "      <td>2014</td>\n",
       "      <td>6</td>\n",
       "      <td>18</td>\n",
       "      <td>5</td>\n",
       "      <td>-87.696987</td>\n",
       "      <td>41.851887</td>\n",
       "      <td>23</td>\n",
       "      <td>4</td>\n",
       "    </tr>\n",
       "    <tr>\n",
       "      <th>1358292</th>\n",
       "      <td>False</td>\n",
       "      <td>False</td>\n",
       "      <td>2016</td>\n",
       "      <td>9</td>\n",
       "      <td>7</td>\n",
       "      <td>14</td>\n",
       "      <td>-87.755444</td>\n",
       "      <td>41.882363</td>\n",
       "      <td>1</td>\n",
       "      <td>28</td>\n",
       "    </tr>\n",
       "    <tr>\n",
       "      <th>828430</th>\n",
       "      <td>False</td>\n",
       "      <td>False</td>\n",
       "      <td>2014</td>\n",
       "      <td>6</td>\n",
       "      <td>12</td>\n",
       "      <td>16</td>\n",
       "      <td>-87.737692</td>\n",
       "      <td>41.921485</td>\n",
       "      <td>0</td>\n",
       "      <td>0</td>\n",
       "    </tr>\n",
       "    <tr>\n",
       "      <th>104011</th>\n",
       "      <td>True</td>\n",
       "      <td>False</td>\n",
       "      <td>2012</td>\n",
       "      <td>2</td>\n",
       "      <td>2</td>\n",
       "      <td>17</td>\n",
       "      <td>-87.653392</td>\n",
       "      <td>41.888654</td>\n",
       "      <td>0</td>\n",
       "      <td>18</td>\n",
       "    </tr>\n",
       "    <tr>\n",
       "      <th>921515</th>\n",
       "      <td>False</td>\n",
       "      <td>False</td>\n",
       "      <td>2014</td>\n",
       "      <td>10</td>\n",
       "      <td>5</td>\n",
       "      <td>22</td>\n",
       "      <td>-87.626020</td>\n",
       "      <td>41.875369</td>\n",
       "      <td>16</td>\n",
       "      <td>6</td>\n",
       "    </tr>\n",
       "    <tr>\n",
       "      <th>99286</th>\n",
       "      <td>False</td>\n",
       "      <td>False</td>\n",
       "      <td>2012</td>\n",
       "      <td>1</td>\n",
       "      <td>30</td>\n",
       "      <td>8</td>\n",
       "      <td>-87.537358</td>\n",
       "      <td>41.688218</td>\n",
       "      <td>2</td>\n",
       "      <td>13</td>\n",
       "    </tr>\n",
       "    <tr>\n",
       "      <th>1235056</th>\n",
       "      <td>False</td>\n",
       "      <td>True</td>\n",
       "      <td>2016</td>\n",
       "      <td>3</td>\n",
       "      <td>5</td>\n",
       "      <td>21</td>\n",
       "      <td>-87.551941</td>\n",
       "      <td>41.749212</td>\n",
       "      <td>9</td>\n",
       "      <td>3</td>\n",
       "    </tr>\n",
       "    <tr>\n",
       "      <th>962699</th>\n",
       "      <td>False</td>\n",
       "      <td>False</td>\n",
       "      <td>2014</td>\n",
       "      <td>12</td>\n",
       "      <td>3</td>\n",
       "      <td>9</td>\n",
       "      <td>-87.750808</td>\n",
       "      <td>41.889351</td>\n",
       "      <td>5</td>\n",
       "      <td>0</td>\n",
       "    </tr>\n",
       "    <tr>\n",
       "      <th>1269649</th>\n",
       "      <td>False</td>\n",
       "      <td>False</td>\n",
       "      <td>2016</td>\n",
       "      <td>4</td>\n",
       "      <td>22</td>\n",
       "      <td>18</td>\n",
       "      <td>-87.738343</td>\n",
       "      <td>41.941631</td>\n",
       "      <td>15</td>\n",
       "      <td>0</td>\n",
       "    </tr>\n",
       "  </tbody>\n",
       "</table>\n",
       "</div>"
      ],
      "text/plain": [
       "         Arrest  Domestic  Year  Month  Day  Hour  Longitude   Latitude  \\\n",
       "805928    False     False  2014      5   10    22 -87.685759  41.767380   \n",
       "832199     True      True  2014      6   18     5 -87.696987  41.851887   \n",
       "1358292   False     False  2016      9    7    14 -87.755444  41.882363   \n",
       "828430    False     False  2014      6   12    16 -87.737692  41.921485   \n",
       "104011     True     False  2012      2    2    17 -87.653392  41.888654   \n",
       "921515    False     False  2014     10    5    22 -87.626020  41.875369   \n",
       "99286     False     False  2012      1   30     8 -87.537358  41.688218   \n",
       "1235056   False      True  2016      3    5    21 -87.551941  41.749212   \n",
       "962699    False     False  2014     12    3     9 -87.750808  41.889351   \n",
       "1269649   False     False  2016      4   22    18 -87.738343  41.941631   \n",
       "\n",
       "         FBI Code  Location Description  \n",
       "805928          0                     0  \n",
       "832199         23                     4  \n",
       "1358292         1                    28  \n",
       "828430          0                     0  \n",
       "104011          0                    18  \n",
       "921515         16                     6  \n",
       "99286           2                    13  \n",
       "1235056         9                     3  \n",
       "962699          5                     0  \n",
       "1269649        15                     0  "
      ]
     },
     "execution_count": 63,
     "metadata": {},
     "output_type": "execute_result"
    }
   ],
   "source": [
    "Y1.head(10)"
   ]
  },
  {
   "cell_type": "code",
   "execution_count": 64,
   "metadata": {},
   "outputs": [
    {
     "name": "stderr",
     "output_type": "stream",
     "text": [
      "/var/folders/b6/89bshl6x2hlcn5s5dy96xq_r0000gn/T/ipykernel_1523/335033884.py:1: SettingWithCopyWarning: \n",
      "A value is trying to be set on a copy of a slice from a DataFrame.\n",
      "Try using .loc[row_indexer,col_indexer] = value instead\n",
      "\n",
      "See the caveats in the documentation: https://pandas.pydata.org/pandas-docs/stable/user_guide/indexing.html#returning-a-view-versus-a-copy\n",
      "  Y1[\"Primary_type\"] = Y2\n"
     ]
    },
    {
     "data": {
      "text/html": [
       "<div>\n",
       "<style scoped>\n",
       "    .dataframe tbody tr th:only-of-type {\n",
       "        vertical-align: middle;\n",
       "    }\n",
       "\n",
       "    .dataframe tbody tr th {\n",
       "        vertical-align: top;\n",
       "    }\n",
       "\n",
       "    .dataframe thead th {\n",
       "        text-align: right;\n",
       "    }\n",
       "</style>\n",
       "<table border=\"1\" class=\"dataframe\">\n",
       "  <thead>\n",
       "    <tr style=\"text-align: right;\">\n",
       "      <th></th>\n",
       "      <th>Arrest</th>\n",
       "      <th>Domestic</th>\n",
       "      <th>Year</th>\n",
       "      <th>Month</th>\n",
       "      <th>Day</th>\n",
       "      <th>Hour</th>\n",
       "      <th>Longitude</th>\n",
       "      <th>Latitude</th>\n",
       "      <th>FBI Code</th>\n",
       "      <th>Location Description</th>\n",
       "      <th>Primary_type</th>\n",
       "    </tr>\n",
       "  </thead>\n",
       "  <tbody>\n",
       "    <tr>\n",
       "      <th>805928</th>\n",
       "      <td>False</td>\n",
       "      <td>False</td>\n",
       "      <td>2014</td>\n",
       "      <td>5</td>\n",
       "      <td>10</td>\n",
       "      <td>22</td>\n",
       "      <td>-87.685759</td>\n",
       "      <td>41.767380</td>\n",
       "      <td>0</td>\n",
       "      <td>0</td>\n",
       "      <td>0</td>\n",
       "    </tr>\n",
       "    <tr>\n",
       "      <th>832199</th>\n",
       "      <td>True</td>\n",
       "      <td>True</td>\n",
       "      <td>2014</td>\n",
       "      <td>6</td>\n",
       "      <td>18</td>\n",
       "      <td>5</td>\n",
       "      <td>-87.696987</td>\n",
       "      <td>41.851887</td>\n",
       "      <td>23</td>\n",
       "      <td>4</td>\n",
       "      <td>17</td>\n",
       "    </tr>\n",
       "    <tr>\n",
       "      <th>1358292</th>\n",
       "      <td>False</td>\n",
       "      <td>False</td>\n",
       "      <td>2016</td>\n",
       "      <td>9</td>\n",
       "      <td>7</td>\n",
       "      <td>14</td>\n",
       "      <td>-87.755444</td>\n",
       "      <td>41.882363</td>\n",
       "      <td>1</td>\n",
       "      <td>28</td>\n",
       "      <td>10</td>\n",
       "    </tr>\n",
       "    <tr>\n",
       "      <th>828430</th>\n",
       "      <td>False</td>\n",
       "      <td>False</td>\n",
       "      <td>2014</td>\n",
       "      <td>6</td>\n",
       "      <td>12</td>\n",
       "      <td>16</td>\n",
       "      <td>-87.737692</td>\n",
       "      <td>41.921485</td>\n",
       "      <td>0</td>\n",
       "      <td>0</td>\n",
       "      <td>0</td>\n",
       "    </tr>\n",
       "    <tr>\n",
       "      <th>104011</th>\n",
       "      <td>True</td>\n",
       "      <td>False</td>\n",
       "      <td>2012</td>\n",
       "      <td>2</td>\n",
       "      <td>2</td>\n",
       "      <td>17</td>\n",
       "      <td>-87.653392</td>\n",
       "      <td>41.888654</td>\n",
       "      <td>0</td>\n",
       "      <td>18</td>\n",
       "      <td>0</td>\n",
       "    </tr>\n",
       "    <tr>\n",
       "      <th>921515</th>\n",
       "      <td>False</td>\n",
       "      <td>False</td>\n",
       "      <td>2014</td>\n",
       "      <td>10</td>\n",
       "      <td>5</td>\n",
       "      <td>22</td>\n",
       "      <td>-87.626020</td>\n",
       "      <td>41.875369</td>\n",
       "      <td>16</td>\n",
       "      <td>6</td>\n",
       "      <td>8</td>\n",
       "    </tr>\n",
       "    <tr>\n",
       "      <th>99286</th>\n",
       "      <td>False</td>\n",
       "      <td>False</td>\n",
       "      <td>2012</td>\n",
       "      <td>1</td>\n",
       "      <td>30</td>\n",
       "      <td>8</td>\n",
       "      <td>-87.537358</td>\n",
       "      <td>41.688218</td>\n",
       "      <td>2</td>\n",
       "      <td>13</td>\n",
       "      <td>2</td>\n",
       "    </tr>\n",
       "    <tr>\n",
       "      <th>1235056</th>\n",
       "      <td>False</td>\n",
       "      <td>True</td>\n",
       "      <td>2016</td>\n",
       "      <td>3</td>\n",
       "      <td>5</td>\n",
       "      <td>21</td>\n",
       "      <td>-87.551941</td>\n",
       "      <td>41.749212</td>\n",
       "      <td>9</td>\n",
       "      <td>3</td>\n",
       "      <td>5</td>\n",
       "    </tr>\n",
       "    <tr>\n",
       "      <th>962699</th>\n",
       "      <td>False</td>\n",
       "      <td>False</td>\n",
       "      <td>2014</td>\n",
       "      <td>12</td>\n",
       "      <td>3</td>\n",
       "      <td>9</td>\n",
       "      <td>-87.750808</td>\n",
       "      <td>41.889351</td>\n",
       "      <td>5</td>\n",
       "      <td>0</td>\n",
       "      <td>2</td>\n",
       "    </tr>\n",
       "    <tr>\n",
       "      <th>1269649</th>\n",
       "      <td>False</td>\n",
       "      <td>False</td>\n",
       "      <td>2016</td>\n",
       "      <td>4</td>\n",
       "      <td>22</td>\n",
       "      <td>18</td>\n",
       "      <td>-87.738343</td>\n",
       "      <td>41.941631</td>\n",
       "      <td>15</td>\n",
       "      <td>0</td>\n",
       "      <td>15</td>\n",
       "    </tr>\n",
       "  </tbody>\n",
       "</table>\n",
       "</div>"
      ],
      "text/plain": [
       "         Arrest  Domestic  Year  Month  Day  Hour  Longitude   Latitude  \\\n",
       "805928    False     False  2014      5   10    22 -87.685759  41.767380   \n",
       "832199     True      True  2014      6   18     5 -87.696987  41.851887   \n",
       "1358292   False     False  2016      9    7    14 -87.755444  41.882363   \n",
       "828430    False     False  2014      6   12    16 -87.737692  41.921485   \n",
       "104011     True     False  2012      2    2    17 -87.653392  41.888654   \n",
       "921515    False     False  2014     10    5    22 -87.626020  41.875369   \n",
       "99286     False     False  2012      1   30     8 -87.537358  41.688218   \n",
       "1235056   False      True  2016      3    5    21 -87.551941  41.749212   \n",
       "962699    False     False  2014     12    3     9 -87.750808  41.889351   \n",
       "1269649   False     False  2016      4   22    18 -87.738343  41.941631   \n",
       "\n",
       "         FBI Code  Location Description  Primary_type  \n",
       "805928          0                     0             0  \n",
       "832199         23                     4            17  \n",
       "1358292         1                    28            10  \n",
       "828430          0                     0             0  \n",
       "104011          0                    18             0  \n",
       "921515         16                     6             8  \n",
       "99286           2                    13             2  \n",
       "1235056         9                     3             5  \n",
       "962699          5                     0             2  \n",
       "1269649        15                     0            15  "
      ]
     },
     "execution_count": 64,
     "metadata": {},
     "output_type": "execute_result"
    }
   ],
   "source": [
    "Y1[\"Primary_type\"] = Y2\n",
    "Y1.head(10)"
   ]
  },
  {
   "cell_type": "code",
   "execution_count": 65,
   "metadata": {},
   "outputs": [
    {
     "name": "stderr",
     "output_type": "stream",
     "text": [
      "/var/folders/b6/89bshl6x2hlcn5s5dy96xq_r0000gn/T/ipykernel_1523/2942660665.py:1: SettingWithCopyWarning: \n",
      "A value is trying to be set on a copy of a slice from a DataFrame.\n",
      "Try using .loc[row_indexer,col_indexer] = value instead\n",
      "\n",
      "See the caveats in the documentation: https://pandas.pydata.org/pandas-docs/stable/user_guide/indexing.html#returning-a-view-versus-a-copy\n",
      "  Y1[\"prediction\"] = y_pred\n"
     ]
    },
    {
     "data": {
      "text/html": [
       "<div>\n",
       "<style scoped>\n",
       "    .dataframe tbody tr th:only-of-type {\n",
       "        vertical-align: middle;\n",
       "    }\n",
       "\n",
       "    .dataframe tbody tr th {\n",
       "        vertical-align: top;\n",
       "    }\n",
       "\n",
       "    .dataframe thead th {\n",
       "        text-align: right;\n",
       "    }\n",
       "</style>\n",
       "<table border=\"1\" class=\"dataframe\">\n",
       "  <thead>\n",
       "    <tr style=\"text-align: right;\">\n",
       "      <th></th>\n",
       "      <th>Arrest</th>\n",
       "      <th>Domestic</th>\n",
       "      <th>Year</th>\n",
       "      <th>Month</th>\n",
       "      <th>Day</th>\n",
       "      <th>Hour</th>\n",
       "      <th>Longitude</th>\n",
       "      <th>Latitude</th>\n",
       "      <th>FBI Code</th>\n",
       "      <th>Location Description</th>\n",
       "      <th>Primary_type</th>\n",
       "      <th>prediction</th>\n",
       "    </tr>\n",
       "  </thead>\n",
       "  <tbody>\n",
       "    <tr>\n",
       "      <th>805928</th>\n",
       "      <td>False</td>\n",
       "      <td>False</td>\n",
       "      <td>2014</td>\n",
       "      <td>5</td>\n",
       "      <td>10</td>\n",
       "      <td>22</td>\n",
       "      <td>-87.685759</td>\n",
       "      <td>41.767380</td>\n",
       "      <td>0</td>\n",
       "      <td>0</td>\n",
       "      <td>0</td>\n",
       "      <td>0</td>\n",
       "    </tr>\n",
       "    <tr>\n",
       "      <th>832199</th>\n",
       "      <td>True</td>\n",
       "      <td>True</td>\n",
       "      <td>2014</td>\n",
       "      <td>6</td>\n",
       "      <td>18</td>\n",
       "      <td>5</td>\n",
       "      <td>-87.696987</td>\n",
       "      <td>41.851887</td>\n",
       "      <td>23</td>\n",
       "      <td>4</td>\n",
       "      <td>17</td>\n",
       "      <td>17</td>\n",
       "    </tr>\n",
       "    <tr>\n",
       "      <th>1358292</th>\n",
       "      <td>False</td>\n",
       "      <td>False</td>\n",
       "      <td>2016</td>\n",
       "      <td>9</td>\n",
       "      <td>7</td>\n",
       "      <td>14</td>\n",
       "      <td>-87.755444</td>\n",
       "      <td>41.882363</td>\n",
       "      <td>1</td>\n",
       "      <td>28</td>\n",
       "      <td>10</td>\n",
       "      <td>10</td>\n",
       "    </tr>\n",
       "    <tr>\n",
       "      <th>828430</th>\n",
       "      <td>False</td>\n",
       "      <td>False</td>\n",
       "      <td>2014</td>\n",
       "      <td>6</td>\n",
       "      <td>12</td>\n",
       "      <td>16</td>\n",
       "      <td>-87.737692</td>\n",
       "      <td>41.921485</td>\n",
       "      <td>0</td>\n",
       "      <td>0</td>\n",
       "      <td>0</td>\n",
       "      <td>0</td>\n",
       "    </tr>\n",
       "    <tr>\n",
       "      <th>104011</th>\n",
       "      <td>True</td>\n",
       "      <td>False</td>\n",
       "      <td>2012</td>\n",
       "      <td>2</td>\n",
       "      <td>2</td>\n",
       "      <td>17</td>\n",
       "      <td>-87.653392</td>\n",
       "      <td>41.888654</td>\n",
       "      <td>0</td>\n",
       "      <td>18</td>\n",
       "      <td>0</td>\n",
       "      <td>0</td>\n",
       "    </tr>\n",
       "    <tr>\n",
       "      <th>921515</th>\n",
       "      <td>False</td>\n",
       "      <td>False</td>\n",
       "      <td>2014</td>\n",
       "      <td>10</td>\n",
       "      <td>5</td>\n",
       "      <td>22</td>\n",
       "      <td>-87.626020</td>\n",
       "      <td>41.875369</td>\n",
       "      <td>16</td>\n",
       "      <td>6</td>\n",
       "      <td>8</td>\n",
       "      <td>8</td>\n",
       "    </tr>\n",
       "    <tr>\n",
       "      <th>99286</th>\n",
       "      <td>False</td>\n",
       "      <td>False</td>\n",
       "      <td>2012</td>\n",
       "      <td>1</td>\n",
       "      <td>30</td>\n",
       "      <td>8</td>\n",
       "      <td>-87.537358</td>\n",
       "      <td>41.688218</td>\n",
       "      <td>2</td>\n",
       "      <td>13</td>\n",
       "      <td>2</td>\n",
       "      <td>2</td>\n",
       "    </tr>\n",
       "    <tr>\n",
       "      <th>1235056</th>\n",
       "      <td>False</td>\n",
       "      <td>True</td>\n",
       "      <td>2016</td>\n",
       "      <td>3</td>\n",
       "      <td>5</td>\n",
       "      <td>21</td>\n",
       "      <td>-87.551941</td>\n",
       "      <td>41.749212</td>\n",
       "      <td>9</td>\n",
       "      <td>3</td>\n",
       "      <td>5</td>\n",
       "      <td>5</td>\n",
       "    </tr>\n",
       "    <tr>\n",
       "      <th>962699</th>\n",
       "      <td>False</td>\n",
       "      <td>False</td>\n",
       "      <td>2014</td>\n",
       "      <td>12</td>\n",
       "      <td>3</td>\n",
       "      <td>9</td>\n",
       "      <td>-87.750808</td>\n",
       "      <td>41.889351</td>\n",
       "      <td>5</td>\n",
       "      <td>0</td>\n",
       "      <td>2</td>\n",
       "      <td>2</td>\n",
       "    </tr>\n",
       "    <tr>\n",
       "      <th>1269649</th>\n",
       "      <td>False</td>\n",
       "      <td>False</td>\n",
       "      <td>2016</td>\n",
       "      <td>4</td>\n",
       "      <td>22</td>\n",
       "      <td>18</td>\n",
       "      <td>-87.738343</td>\n",
       "      <td>41.941631</td>\n",
       "      <td>15</td>\n",
       "      <td>0</td>\n",
       "      <td>15</td>\n",
       "      <td>15</td>\n",
       "    </tr>\n",
       "  </tbody>\n",
       "</table>\n",
       "</div>"
      ],
      "text/plain": [
       "         Arrest  Domestic  Year  Month  Day  Hour  Longitude   Latitude  \\\n",
       "805928    False     False  2014      5   10    22 -87.685759  41.767380   \n",
       "832199     True      True  2014      6   18     5 -87.696987  41.851887   \n",
       "1358292   False     False  2016      9    7    14 -87.755444  41.882363   \n",
       "828430    False     False  2014      6   12    16 -87.737692  41.921485   \n",
       "104011     True     False  2012      2    2    17 -87.653392  41.888654   \n",
       "921515    False     False  2014     10    5    22 -87.626020  41.875369   \n",
       "99286     False     False  2012      1   30     8 -87.537358  41.688218   \n",
       "1235056   False      True  2016      3    5    21 -87.551941  41.749212   \n",
       "962699    False     False  2014     12    3     9 -87.750808  41.889351   \n",
       "1269649   False     False  2016      4   22    18 -87.738343  41.941631   \n",
       "\n",
       "         FBI Code  Location Description  Primary_type  prediction  \n",
       "805928          0                     0             0           0  \n",
       "832199         23                     4            17          17  \n",
       "1358292         1                    28            10          10  \n",
       "828430          0                     0             0           0  \n",
       "104011          0                    18             0           0  \n",
       "921515         16                     6             8           8  \n",
       "99286           2                    13             2           2  \n",
       "1235056         9                     3             5           5  \n",
       "962699          5                     0             2           2  \n",
       "1269649        15                     0            15          15  "
      ]
     },
     "execution_count": 65,
     "metadata": {},
     "output_type": "execute_result"
    }
   ],
   "source": [
    "Y1[\"prediction\"] = y_pred\n",
    "Y1.head(10)"
   ]
  },
  {
   "cell_type": "code",
   "execution_count": 115,
   "metadata": {},
   "outputs": [
    {
     "name": "stderr",
     "output_type": "stream",
     "text": [
      "/var/folders/b6/89bshl6x2hlcn5s5dy96xq_r0000gn/T/ipykernel_1523/4260232365.py:1: SettingWithCopyWarning: \n",
      "A value is trying to be set on a copy of a slice from a DataFrame.\n",
      "Try using .loc[row_indexer,col_indexer] = value instead\n",
      "\n",
      "See the caveats in the documentation: https://pandas.pydata.org/pandas-docs/stable/user_guide/indexing.html#returning-a-view-versus-a-copy\n",
      "  y1[\"Primary_type\"] = y2\n"
     ]
    },
    {
     "data": {
      "text/html": [
       "<div>\n",
       "<style scoped>\n",
       "    .dataframe tbody tr th:only-of-type {\n",
       "        vertical-align: middle;\n",
       "    }\n",
       "\n",
       "    .dataframe tbody tr th {\n",
       "        vertical-align: top;\n",
       "    }\n",
       "\n",
       "    .dataframe thead th {\n",
       "        text-align: right;\n",
       "    }\n",
       "</style>\n",
       "<table border=\"1\" class=\"dataframe\">\n",
       "  <thead>\n",
       "    <tr style=\"text-align: right;\">\n",
       "      <th></th>\n",
       "      <th>Arrest</th>\n",
       "      <th>Domestic</th>\n",
       "      <th>Year</th>\n",
       "      <th>Month</th>\n",
       "      <th>Day</th>\n",
       "      <th>Hour</th>\n",
       "      <th>Longitude</th>\n",
       "      <th>Latitude</th>\n",
       "      <th>FBI Code</th>\n",
       "      <th>Location Description</th>\n",
       "      <th>Block</th>\n",
       "      <th>Primary_type</th>\n",
       "    </tr>\n",
       "  </thead>\n",
       "  <tbody>\n",
       "    <tr>\n",
       "      <th>1276629</th>\n",
       "      <td>False</td>\n",
       "      <td>False</td>\n",
       "      <td>2016</td>\n",
       "      <td>5</td>\n",
       "      <td>1</td>\n",
       "      <td>5</td>\n",
       "      <td>-87.623770</td>\n",
       "      <td>41.736313</td>\n",
       "      <td>13</td>\n",
       "      <td>5</td>\n",
       "      <td>6653</td>\n",
       "      <td>12</td>\n",
       "    </tr>\n",
       "    <tr>\n",
       "      <th>733137</th>\n",
       "      <td>True</td>\n",
       "      <td>False</td>\n",
       "      <td>2014</td>\n",
       "      <td>2</td>\n",
       "      <td>3</td>\n",
       "      <td>10</td>\n",
       "      <td>-87.625105</td>\n",
       "      <td>41.736277</td>\n",
       "      <td>16</td>\n",
       "      <td>17</td>\n",
       "      <td>1766</td>\n",
       "      <td>8</td>\n",
       "    </tr>\n",
       "    <tr>\n",
       "      <th>708368</th>\n",
       "      <td>False</td>\n",
       "      <td>False</td>\n",
       "      <td>2013</td>\n",
       "      <td>12</td>\n",
       "      <td>26</td>\n",
       "      <td>4</td>\n",
       "      <td>-87.713921</td>\n",
       "      <td>41.784256</td>\n",
       "      <td>0</td>\n",
       "      <td>0</td>\n",
       "      <td>19426</td>\n",
       "      <td>0</td>\n",
       "    </tr>\n",
       "    <tr>\n",
       "      <th>958467</th>\n",
       "      <td>False</td>\n",
       "      <td>False</td>\n",
       "      <td>2014</td>\n",
       "      <td>11</td>\n",
       "      <td>7</td>\n",
       "      <td>11</td>\n",
       "      <td>-87.727335</td>\n",
       "      <td>41.944301</td>\n",
       "      <td>1</td>\n",
       "      <td>14</td>\n",
       "      <td>11781</td>\n",
       "      <td>10</td>\n",
       "    </tr>\n",
       "    <tr>\n",
       "      <th>580951</th>\n",
       "      <td>False</td>\n",
       "      <td>False</td>\n",
       "      <td>2013</td>\n",
       "      <td>7</td>\n",
       "      <td>24</td>\n",
       "      <td>23</td>\n",
       "      <td>-87.644803</td>\n",
       "      <td>41.780364</td>\n",
       "      <td>4</td>\n",
       "      <td>2</td>\n",
       "      <td>15257</td>\n",
       "      <td>4</td>\n",
       "    </tr>\n",
       "    <tr>\n",
       "      <th>1437952</th>\n",
       "      <td>False</td>\n",
       "      <td>False</td>\n",
       "      <td>2016</td>\n",
       "      <td>12</td>\n",
       "      <td>23</td>\n",
       "      <td>13</td>\n",
       "      <td>-87.643336</td>\n",
       "      <td>41.726045</td>\n",
       "      <td>18</td>\n",
       "      <td>3</td>\n",
       "      <td>7677</td>\n",
       "      <td>8</td>\n",
       "    </tr>\n",
       "    <tr>\n",
       "      <th>352366</th>\n",
       "      <td>False</td>\n",
       "      <td>False</td>\n",
       "      <td>2012</td>\n",
       "      <td>10</td>\n",
       "      <td>27</td>\n",
       "      <td>4</td>\n",
       "      <td>-87.627192</td>\n",
       "      <td>41.710291</td>\n",
       "      <td>4</td>\n",
       "      <td>0</td>\n",
       "      <td>15173</td>\n",
       "      <td>4</td>\n",
       "    </tr>\n",
       "    <tr>\n",
       "      <th>59837</th>\n",
       "      <td>False</td>\n",
       "      <td>False</td>\n",
       "      <td>2015</td>\n",
       "      <td>2</td>\n",
       "      <td>23</td>\n",
       "      <td>8</td>\n",
       "      <td>-87.713981</td>\n",
       "      <td>41.787898</td>\n",
       "      <td>13</td>\n",
       "      <td>5</td>\n",
       "      <td>4831</td>\n",
       "      <td>12</td>\n",
       "    </tr>\n",
       "    <tr>\n",
       "      <th>704217</th>\n",
       "      <td>True</td>\n",
       "      <td>False</td>\n",
       "      <td>2013</td>\n",
       "      <td>12</td>\n",
       "      <td>19</td>\n",
       "      <td>18</td>\n",
       "      <td>-87.666331</td>\n",
       "      <td>41.864627</td>\n",
       "      <td>12</td>\n",
       "      <td>2</td>\n",
       "      <td>10568</td>\n",
       "      <td>11</td>\n",
       "    </tr>\n",
       "    <tr>\n",
       "      <th>1421196</th>\n",
       "      <td>False</td>\n",
       "      <td>False</td>\n",
       "      <td>2016</td>\n",
       "      <td>11</td>\n",
       "      <td>25</td>\n",
       "      <td>23</td>\n",
       "      <td>-87.622655</td>\n",
       "      <td>41.771019</td>\n",
       "      <td>0</td>\n",
       "      <td>4</td>\n",
       "      <td>8389</td>\n",
       "      <td>0</td>\n",
       "    </tr>\n",
       "  </tbody>\n",
       "</table>\n",
       "</div>"
      ],
      "text/plain": [
       "         Arrest  Domestic  Year  Month  Day  Hour  Longitude   Latitude  \\\n",
       "1276629   False     False  2016      5    1     5 -87.623770  41.736313   \n",
       "733137     True     False  2014      2    3    10 -87.625105  41.736277   \n",
       "708368    False     False  2013     12   26     4 -87.713921  41.784256   \n",
       "958467    False     False  2014     11    7    11 -87.727335  41.944301   \n",
       "580951    False     False  2013      7   24    23 -87.644803  41.780364   \n",
       "1437952   False     False  2016     12   23    13 -87.643336  41.726045   \n",
       "352366    False     False  2012     10   27     4 -87.627192  41.710291   \n",
       "59837     False     False  2015      2   23     8 -87.713981  41.787898   \n",
       "704217     True     False  2013     12   19    18 -87.666331  41.864627   \n",
       "1421196   False     False  2016     11   25    23 -87.622655  41.771019   \n",
       "\n",
       "         FBI Code  Location Description  Block  Primary_type  \n",
       "1276629        13                     5   6653            12  \n",
       "733137         16                    17   1766             8  \n",
       "708368          0                     0  19426             0  \n",
       "958467          1                    14  11781            10  \n",
       "580951          4                     2  15257             4  \n",
       "1437952        18                     3   7677             8  \n",
       "352366          4                     0  15173             4  \n",
       "59837          13                     5   4831            12  \n",
       "704217         12                     2  10568            11  \n",
       "1421196         0                     4   8389             0  "
      ]
     },
     "execution_count": 115,
     "metadata": {},
     "output_type": "execute_result"
    }
   ],
   "source": [
    "y1[\"Primary_type\"] = y2\n",
    "y1.head(10)"
   ]
  },
  {
   "cell_type": "code",
   "execution_count": 119,
   "metadata": {},
   "outputs": [
    {
     "name": "stderr",
     "output_type": "stream",
     "text": [
      "/var/folders/b6/89bshl6x2hlcn5s5dy96xq_r0000gn/T/ipykernel_1523/4010731042.py:1: SettingWithCopyWarning: \n",
      "A value is trying to be set on a copy of a slice from a DataFrame.\n",
      "Try using .loc[row_indexer,col_indexer] = value instead\n",
      "\n",
      "See the caveats in the documentation: https://pandas.pydata.org/pandas-docs/stable/user_guide/indexing.html#returning-a-view-versus-a-copy\n",
      "  y1[\"prediction\"] = result\n"
     ]
    },
    {
     "data": {
      "text/html": [
       "<div>\n",
       "<style scoped>\n",
       "    .dataframe tbody tr th:only-of-type {\n",
       "        vertical-align: middle;\n",
       "    }\n",
       "\n",
       "    .dataframe tbody tr th {\n",
       "        vertical-align: top;\n",
       "    }\n",
       "\n",
       "    .dataframe thead th {\n",
       "        text-align: right;\n",
       "    }\n",
       "</style>\n",
       "<table border=\"1\" class=\"dataframe\">\n",
       "  <thead>\n",
       "    <tr style=\"text-align: right;\">\n",
       "      <th></th>\n",
       "      <th>Arrest</th>\n",
       "      <th>Domestic</th>\n",
       "      <th>Year</th>\n",
       "      <th>Month</th>\n",
       "      <th>Day</th>\n",
       "      <th>Hour</th>\n",
       "      <th>Longitude</th>\n",
       "      <th>Latitude</th>\n",
       "      <th>FBI Code</th>\n",
       "      <th>Location Description</th>\n",
       "      <th>Block</th>\n",
       "      <th>Primary_type</th>\n",
       "      <th>prediction</th>\n",
       "    </tr>\n",
       "  </thead>\n",
       "  <tbody>\n",
       "    <tr>\n",
       "      <th>1276629</th>\n",
       "      <td>False</td>\n",
       "      <td>False</td>\n",
       "      <td>2016</td>\n",
       "      <td>5</td>\n",
       "      <td>1</td>\n",
       "      <td>5</td>\n",
       "      <td>-87.623770</td>\n",
       "      <td>41.736313</td>\n",
       "      <td>13</td>\n",
       "      <td>5</td>\n",
       "      <td>6653</td>\n",
       "      <td>12</td>\n",
       "      <td>12</td>\n",
       "    </tr>\n",
       "    <tr>\n",
       "      <th>733137</th>\n",
       "      <td>True</td>\n",
       "      <td>False</td>\n",
       "      <td>2014</td>\n",
       "      <td>2</td>\n",
       "      <td>3</td>\n",
       "      <td>10</td>\n",
       "      <td>-87.625105</td>\n",
       "      <td>41.736277</td>\n",
       "      <td>16</td>\n",
       "      <td>17</td>\n",
       "      <td>1766</td>\n",
       "      <td>8</td>\n",
       "      <td>16</td>\n",
       "    </tr>\n",
       "    <tr>\n",
       "      <th>708368</th>\n",
       "      <td>False</td>\n",
       "      <td>False</td>\n",
       "      <td>2013</td>\n",
       "      <td>12</td>\n",
       "      <td>26</td>\n",
       "      <td>4</td>\n",
       "      <td>-87.713921</td>\n",
       "      <td>41.784256</td>\n",
       "      <td>0</td>\n",
       "      <td>0</td>\n",
       "      <td>19426</td>\n",
       "      <td>0</td>\n",
       "      <td>0</td>\n",
       "    </tr>\n",
       "    <tr>\n",
       "      <th>958467</th>\n",
       "      <td>False</td>\n",
       "      <td>False</td>\n",
       "      <td>2014</td>\n",
       "      <td>11</td>\n",
       "      <td>7</td>\n",
       "      <td>11</td>\n",
       "      <td>-87.727335</td>\n",
       "      <td>41.944301</td>\n",
       "      <td>1</td>\n",
       "      <td>14</td>\n",
       "      <td>11781</td>\n",
       "      <td>10</td>\n",
       "      <td>10</td>\n",
       "    </tr>\n",
       "    <tr>\n",
       "      <th>580951</th>\n",
       "      <td>False</td>\n",
       "      <td>False</td>\n",
       "      <td>2013</td>\n",
       "      <td>7</td>\n",
       "      <td>24</td>\n",
       "      <td>23</td>\n",
       "      <td>-87.644803</td>\n",
       "      <td>41.780364</td>\n",
       "      <td>4</td>\n",
       "      <td>2</td>\n",
       "      <td>15257</td>\n",
       "      <td>4</td>\n",
       "      <td>4</td>\n",
       "    </tr>\n",
       "    <tr>\n",
       "      <th>1437952</th>\n",
       "      <td>False</td>\n",
       "      <td>False</td>\n",
       "      <td>2016</td>\n",
       "      <td>12</td>\n",
       "      <td>23</td>\n",
       "      <td>13</td>\n",
       "      <td>-87.643336</td>\n",
       "      <td>41.726045</td>\n",
       "      <td>18</td>\n",
       "      <td>3</td>\n",
       "      <td>7677</td>\n",
       "      <td>8</td>\n",
       "      <td>8</td>\n",
       "    </tr>\n",
       "    <tr>\n",
       "      <th>352366</th>\n",
       "      <td>False</td>\n",
       "      <td>False</td>\n",
       "      <td>2012</td>\n",
       "      <td>10</td>\n",
       "      <td>27</td>\n",
       "      <td>4</td>\n",
       "      <td>-87.627192</td>\n",
       "      <td>41.710291</td>\n",
       "      <td>4</td>\n",
       "      <td>0</td>\n",
       "      <td>15173</td>\n",
       "      <td>4</td>\n",
       "      <td>4</td>\n",
       "    </tr>\n",
       "    <tr>\n",
       "      <th>59837</th>\n",
       "      <td>False</td>\n",
       "      <td>False</td>\n",
       "      <td>2015</td>\n",
       "      <td>2</td>\n",
       "      <td>23</td>\n",
       "      <td>8</td>\n",
       "      <td>-87.713981</td>\n",
       "      <td>41.787898</td>\n",
       "      <td>13</td>\n",
       "      <td>5</td>\n",
       "      <td>4831</td>\n",
       "      <td>12</td>\n",
       "      <td>12</td>\n",
       "    </tr>\n",
       "    <tr>\n",
       "      <th>704217</th>\n",
       "      <td>True</td>\n",
       "      <td>False</td>\n",
       "      <td>2013</td>\n",
       "      <td>12</td>\n",
       "      <td>19</td>\n",
       "      <td>18</td>\n",
       "      <td>-87.666331</td>\n",
       "      <td>41.864627</td>\n",
       "      <td>12</td>\n",
       "      <td>2</td>\n",
       "      <td>10568</td>\n",
       "      <td>11</td>\n",
       "      <td>11</td>\n",
       "    </tr>\n",
       "    <tr>\n",
       "      <th>1421196</th>\n",
       "      <td>False</td>\n",
       "      <td>False</td>\n",
       "      <td>2016</td>\n",
       "      <td>11</td>\n",
       "      <td>25</td>\n",
       "      <td>23</td>\n",
       "      <td>-87.622655</td>\n",
       "      <td>41.771019</td>\n",
       "      <td>0</td>\n",
       "      <td>4</td>\n",
       "      <td>8389</td>\n",
       "      <td>0</td>\n",
       "      <td>0</td>\n",
       "    </tr>\n",
       "  </tbody>\n",
       "</table>\n",
       "</div>"
      ],
      "text/plain": [
       "         Arrest  Domestic  Year  Month  Day  Hour  Longitude   Latitude  \\\n",
       "1276629   False     False  2016      5    1     5 -87.623770  41.736313   \n",
       "733137     True     False  2014      2    3    10 -87.625105  41.736277   \n",
       "708368    False     False  2013     12   26     4 -87.713921  41.784256   \n",
       "958467    False     False  2014     11    7    11 -87.727335  41.944301   \n",
       "580951    False     False  2013      7   24    23 -87.644803  41.780364   \n",
       "1437952   False     False  2016     12   23    13 -87.643336  41.726045   \n",
       "352366    False     False  2012     10   27     4 -87.627192  41.710291   \n",
       "59837     False     False  2015      2   23     8 -87.713981  41.787898   \n",
       "704217     True     False  2013     12   19    18 -87.666331  41.864627   \n",
       "1421196   False     False  2016     11   25    23 -87.622655  41.771019   \n",
       "\n",
       "         FBI Code  Location Description  Block  Primary_type  prediction  \n",
       "1276629        13                     5   6653            12          12  \n",
       "733137         16                    17   1766             8          16  \n",
       "708368          0                     0  19426             0           0  \n",
       "958467          1                    14  11781            10          10  \n",
       "580951          4                     2  15257             4           4  \n",
       "1437952        18                     3   7677             8           8  \n",
       "352366          4                     0  15173             4           4  \n",
       "59837          13                     5   4831            12          12  \n",
       "704217         12                     2  10568            11          11  \n",
       "1421196         0                     4   8389             0           0  "
      ]
     },
     "execution_count": 119,
     "metadata": {},
     "output_type": "execute_result"
    }
   ],
   "source": [
    "y1[\"prediction\"] = result\n",
    "y1.head(10)\n"
   ]
  },
  {
   "cell_type": "code",
   "execution_count": 141,
   "metadata": {},
   "outputs": [
    {
     "name": "stderr",
     "output_type": "stream",
     "text": [
      "/var/folders/b6/89bshl6x2hlcn5s5dy96xq_r0000gn/T/ipykernel_1523/1906785001.py:1: SettingWithCopyWarning: \n",
      "A value is trying to be set on a copy of a slice from a DataFrame.\n",
      "Try using .loc[row_indexer,col_indexer] = value instead\n",
      "\n",
      "See the caveats in the documentation: https://pandas.pydata.org/pandas-docs/stable/user_guide/indexing.html#returning-a-view-versus-a-copy\n",
      "  y1[\"Block\"] = BlockSeries[y1.index]\n"
     ]
    }
   ],
   "source": [
    "y1[\"Block\"] = BlockSeries[y1.index]"
   ]
  },
  {
   "cell_type": "code",
   "execution_count": 142,
   "metadata": {},
   "outputs": [
    {
     "data": {
      "text/html": [
       "<div>\n",
       "<style scoped>\n",
       "    .dataframe tbody tr th:only-of-type {\n",
       "        vertical-align: middle;\n",
       "    }\n",
       "\n",
       "    .dataframe tbody tr th {\n",
       "        vertical-align: top;\n",
       "    }\n",
       "\n",
       "    .dataframe thead th {\n",
       "        text-align: right;\n",
       "    }\n",
       "</style>\n",
       "<table border=\"1\" class=\"dataframe\">\n",
       "  <thead>\n",
       "    <tr style=\"text-align: right;\">\n",
       "      <th></th>\n",
       "      <th>Arrest</th>\n",
       "      <th>Domestic</th>\n",
       "      <th>Year</th>\n",
       "      <th>Month</th>\n",
       "      <th>Day</th>\n",
       "      <th>Hour</th>\n",
       "      <th>Longitude</th>\n",
       "      <th>Latitude</th>\n",
       "      <th>FBI Code</th>\n",
       "      <th>Location Description</th>\n",
       "      <th>Block</th>\n",
       "      <th>Primary_type</th>\n",
       "      <th>prediction</th>\n",
       "    </tr>\n",
       "  </thead>\n",
       "  <tbody>\n",
       "    <tr>\n",
       "      <th>1276629</th>\n",
       "      <td>False</td>\n",
       "      <td>False</td>\n",
       "      <td>2016</td>\n",
       "      <td>5</td>\n",
       "      <td>1</td>\n",
       "      <td>5</td>\n",
       "      <td>-87.623770</td>\n",
       "      <td>41.736313</td>\n",
       "      <td>13</td>\n",
       "      <td>5</td>\n",
       "      <td>0000X E 87TH ST</td>\n",
       "      <td>12</td>\n",
       "      <td>12</td>\n",
       "    </tr>\n",
       "    <tr>\n",
       "      <th>733137</th>\n",
       "      <td>True</td>\n",
       "      <td>False</td>\n",
       "      <td>2014</td>\n",
       "      <td>2</td>\n",
       "      <td>3</td>\n",
       "      <td>10</td>\n",
       "      <td>-87.625105</td>\n",
       "      <td>41.736277</td>\n",
       "      <td>16</td>\n",
       "      <td>17</td>\n",
       "      <td>0000X W 87TH ST</td>\n",
       "      <td>8</td>\n",
       "      <td>16</td>\n",
       "    </tr>\n",
       "    <tr>\n",
       "      <th>708368</th>\n",
       "      <td>False</td>\n",
       "      <td>False</td>\n",
       "      <td>2013</td>\n",
       "      <td>12</td>\n",
       "      <td>26</td>\n",
       "      <td>4</td>\n",
       "      <td>-87.713921</td>\n",
       "      <td>41.784256</td>\n",
       "      <td>0</td>\n",
       "      <td>0</td>\n",
       "      <td>036XX W 60TH ST</td>\n",
       "      <td>0</td>\n",
       "      <td>0</td>\n",
       "    </tr>\n",
       "    <tr>\n",
       "      <th>958467</th>\n",
       "      <td>False</td>\n",
       "      <td>False</td>\n",
       "      <td>2014</td>\n",
       "      <td>11</td>\n",
       "      <td>7</td>\n",
       "      <td>11</td>\n",
       "      <td>-87.727335</td>\n",
       "      <td>41.944301</td>\n",
       "      <td>1</td>\n",
       "      <td>14</td>\n",
       "      <td>034XX N PULASKI RD</td>\n",
       "      <td>10</td>\n",
       "      <td>10</td>\n",
       "    </tr>\n",
       "    <tr>\n",
       "      <th>580951</th>\n",
       "      <td>False</td>\n",
       "      <td>False</td>\n",
       "      <td>2013</td>\n",
       "      <td>7</td>\n",
       "      <td>24</td>\n",
       "      <td>23</td>\n",
       "      <td>-87.644803</td>\n",
       "      <td>41.780364</td>\n",
       "      <td>4</td>\n",
       "      <td>2</td>\n",
       "      <td>062XX S HALSTED ST</td>\n",
       "      <td>4</td>\n",
       "      <td>4</td>\n",
       "    </tr>\n",
       "    <tr>\n",
       "      <th>...</th>\n",
       "      <td>...</td>\n",
       "      <td>...</td>\n",
       "      <td>...</td>\n",
       "      <td>...</td>\n",
       "      <td>...</td>\n",
       "      <td>...</td>\n",
       "      <td>...</td>\n",
       "      <td>...</td>\n",
       "      <td>...</td>\n",
       "      <td>...</td>\n",
       "      <td>...</td>\n",
       "      <td>...</td>\n",
       "      <td>...</td>\n",
       "    </tr>\n",
       "    <tr>\n",
       "      <th>1154600</th>\n",
       "      <td>False</td>\n",
       "      <td>False</td>\n",
       "      <td>2015</td>\n",
       "      <td>11</td>\n",
       "      <td>1</td>\n",
       "      <td>14</td>\n",
       "      <td>-87.753843</td>\n",
       "      <td>41.876672</td>\n",
       "      <td>9</td>\n",
       "      <td>52</td>\n",
       "      <td>051XX W JACKSON BLVD</td>\n",
       "      <td>5</td>\n",
       "      <td>5</td>\n",
       "    </tr>\n",
       "    <tr>\n",
       "      <th>439457</th>\n",
       "      <td>False</td>\n",
       "      <td>True</td>\n",
       "      <td>2013</td>\n",
       "      <td>2</td>\n",
       "      <td>10</td>\n",
       "      <td>8</td>\n",
       "      <td>-87.774158</td>\n",
       "      <td>41.909270</td>\n",
       "      <td>6</td>\n",
       "      <td>5</td>\n",
       "      <td>059XX W NORTH AVE</td>\n",
       "      <td>5</td>\n",
       "      <td>5</td>\n",
       "    </tr>\n",
       "    <tr>\n",
       "      <th>781543</th>\n",
       "      <td>False</td>\n",
       "      <td>False</td>\n",
       "      <td>2014</td>\n",
       "      <td>4</td>\n",
       "      <td>12</td>\n",
       "      <td>23</td>\n",
       "      <td>-87.611873</td>\n",
       "      <td>41.691874</td>\n",
       "      <td>0</td>\n",
       "      <td>18</td>\n",
       "      <td>004XX E 111TH PL</td>\n",
       "      <td>0</td>\n",
       "      <td>0</td>\n",
       "    </tr>\n",
       "    <tr>\n",
       "      <th>1369828</th>\n",
       "      <td>False</td>\n",
       "      <td>False</td>\n",
       "      <td>2016</td>\n",
       "      <td>9</td>\n",
       "      <td>21</td>\n",
       "      <td>23</td>\n",
       "      <td>-87.666900</td>\n",
       "      <td>41.922224</td>\n",
       "      <td>4</td>\n",
       "      <td>0</td>\n",
       "      <td>022XX N DOMINICK ST</td>\n",
       "      <td>4</td>\n",
       "      <td>4</td>\n",
       "    </tr>\n",
       "    <tr>\n",
       "      <th>559639</th>\n",
       "      <td>False</td>\n",
       "      <td>False</td>\n",
       "      <td>2013</td>\n",
       "      <td>6</td>\n",
       "      <td>30</td>\n",
       "      <td>22</td>\n",
       "      <td>-87.674446</td>\n",
       "      <td>41.940533</td>\n",
       "      <td>4</td>\n",
       "      <td>0</td>\n",
       "      <td>018XX W MELROSE ST</td>\n",
       "      <td>4</td>\n",
       "      <td>4</td>\n",
       "    </tr>\n",
       "  </tbody>\n",
       "</table>\n",
       "<p>70000 rows × 13 columns</p>\n",
       "</div>"
      ],
      "text/plain": [
       "         Arrest  Domestic  Year  Month  Day  Hour  Longitude   Latitude  \\\n",
       "1276629   False     False  2016      5    1     5 -87.623770  41.736313   \n",
       "733137     True     False  2014      2    3    10 -87.625105  41.736277   \n",
       "708368    False     False  2013     12   26     4 -87.713921  41.784256   \n",
       "958467    False     False  2014     11    7    11 -87.727335  41.944301   \n",
       "580951    False     False  2013      7   24    23 -87.644803  41.780364   \n",
       "...         ...       ...   ...    ...  ...   ...        ...        ...   \n",
       "1154600   False     False  2015     11    1    14 -87.753843  41.876672   \n",
       "439457    False      True  2013      2   10     8 -87.774158  41.909270   \n",
       "781543    False     False  2014      4   12    23 -87.611873  41.691874   \n",
       "1369828   False     False  2016      9   21    23 -87.666900  41.922224   \n",
       "559639    False     False  2013      6   30    22 -87.674446  41.940533   \n",
       "\n",
       "         FBI Code  Location Description                 Block  Primary_type  \\\n",
       "1276629        13                     5       0000X E 87TH ST            12   \n",
       "733137         16                    17       0000X W 87TH ST             8   \n",
       "708368          0                     0       036XX W 60TH ST             0   \n",
       "958467          1                    14    034XX N PULASKI RD            10   \n",
       "580951          4                     2    062XX S HALSTED ST             4   \n",
       "...           ...                   ...                   ...           ...   \n",
       "1154600         9                    52  051XX W JACKSON BLVD             5   \n",
       "439457          6                     5     059XX W NORTH AVE             5   \n",
       "781543          0                    18      004XX E 111TH PL             0   \n",
       "1369828         4                     0   022XX N DOMINICK ST             4   \n",
       "559639          4                     0    018XX W MELROSE ST             4   \n",
       "\n",
       "         prediction  \n",
       "1276629          12  \n",
       "733137           16  \n",
       "708368            0  \n",
       "958467           10  \n",
       "580951            4  \n",
       "...             ...  \n",
       "1154600           5  \n",
       "439457            5  \n",
       "781543            0  \n",
       "1369828           4  \n",
       "559639            4  \n",
       "\n",
       "[70000 rows x 13 columns]"
      ]
     },
     "execution_count": 142,
     "metadata": {},
     "output_type": "execute_result"
    }
   ],
   "source": [
    "y1"
   ]
  },
  {
   "cell_type": "code",
   "execution_count": null,
   "metadata": {},
   "outputs": [],
   "source": [
    "y1"
   ]
  },
  {
   "cell_type": "code",
   "execution_count": 118,
   "metadata": {},
   "outputs": [
    {
     "ename": "IndentationError",
     "evalue": "unexpected indent (3920680546.py, line 16)",
     "output_type": "error",
     "traceback": [
      "\u001b[0;36m  File \u001b[0;32m\"/var/folders/b6/89bshl6x2hlcn5s5dy96xq_r0000gn/T/ipykernel_1523/3920680546.py\"\u001b[0;36m, line \u001b[0;32m16\u001b[0m\n\u001b[0;31m    17, 18, 19])\u001b[0m\n\u001b[0m    ^\u001b[0m\n\u001b[0;31mIndentationError\u001b[0m\u001b[0;31m:\u001b[0m unexpected indent\n"
     ]
    }
   ],
   "source": [
    "new_column_values = ['val1','val2','val3','val4','val5']\n",
    "\n",
    "df[\"new_Column\"] = new_column_values \n",
    "\n",
    "\n",
    "#'THEFT'=0 \n",
    "#'CRIMINAL TRESPASS'=1\n",
    "#'ASSAULT'=2\n",
    "#'BURGLARY'=3\n",
    "#'CRIMINAL DAMAGE'=4\n",
    "#'BATTERY'=5\n",
    "#'CRIM SEXUAL ASSAULT'=6\n",
    "#'PUBLIC PEACE VIOLATION'=7\n",
    "#'DECEPTIVE PRACTICE'=8 \n",
    "#'SEX OFFENSE'=9\n",
    "#'OTHER OFFENSE'=10\n",
    "#'NARCOTICS'=11\n",
    "#'ROBBERY'=12\n",
    "#'OTHERS'=13\n",
    "#'PROSTITUTION'=14\n",
    "# 'MOTOR VEHICLE THEFT'=15\n",
    "#'WEAPONS VIOLATION'=16\n",
    "#'OFFENSE INVOLVING CHILDREN'=17\n",
    "#'HOMICIDE'=18\n",
    "#'INTERFERENCE WITH PUBLIC OFFICER'=19\n"
   ]
  }
 ],
 "metadata": {
  "colab": {
   "name": "Chicago Crimes04.22 (1).ipynb",
   "provenance": []
  },
  "kernelspec": {
   "display_name": "Python 3 (ipykernel)",
   "language": "python",
   "name": "python3"
  },
  "language_info": {
   "codemirror_mode": {
    "name": "ipython",
    "version": 3
   },
   "file_extension": ".py",
   "mimetype": "text/x-python",
   "name": "python",
   "nbconvert_exporter": "python",
   "pygments_lexer": "ipython3",
   "version": "3.9.7"
  }
 },
 "nbformat": 4,
 "nbformat_minor": 4
}
